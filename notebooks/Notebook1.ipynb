{
 "cells": [
  {
   "cell_type": "code",
   "execution_count": 84,
   "id": "4c626427-2c45-4a32-aaa9-270c548df8cb",
   "metadata": {},
   "outputs": [
    {
     "data": {
      "text/html": [
       "<div>\n",
       "<style scoped>\n",
       "    .dataframe tbody tr th:only-of-type {\n",
       "        vertical-align: middle;\n",
       "    }\n",
       "\n",
       "    .dataframe tbody tr th {\n",
       "        vertical-align: top;\n",
       "    }\n",
       "\n",
       "    .dataframe thead th {\n",
       "        text-align: right;\n",
       "    }\n",
       "</style>\n",
       "<table border=\"1\" class=\"dataframe\">\n",
       "  <thead>\n",
       "    <tr style=\"text-align: right;\">\n",
       "      <th></th>\n",
       "      <th>Brand</th>\n",
       "      <th>Model</th>\n",
       "      <th>Storage</th>\n",
       "      <th>RAM</th>\n",
       "      <th>Screen Size (inches)</th>\n",
       "      <th>Camera (MP)</th>\n",
       "      <th>Battery Capacity (mAh)</th>\n",
       "      <th>Price ($)</th>\n",
       "    </tr>\n",
       "  </thead>\n",
       "  <tbody>\n",
       "    <tr>\n",
       "      <th>0</th>\n",
       "      <td>Apple</td>\n",
       "      <td>iPhone 13 Pro</td>\n",
       "      <td>128 GB</td>\n",
       "      <td>6 GB</td>\n",
       "      <td>6.1</td>\n",
       "      <td>12 + 12 + 12</td>\n",
       "      <td>3095</td>\n",
       "      <td>999</td>\n",
       "    </tr>\n",
       "    <tr>\n",
       "      <th>1</th>\n",
       "      <td>Samsung</td>\n",
       "      <td>Galaxy S21 Ultra</td>\n",
       "      <td>256 GB</td>\n",
       "      <td>12 GB</td>\n",
       "      <td>6.8</td>\n",
       "      <td>108 + 10 + 10 + 12</td>\n",
       "      <td>5000</td>\n",
       "      <td>1199</td>\n",
       "    </tr>\n",
       "    <tr>\n",
       "      <th>2</th>\n",
       "      <td>OnePlus</td>\n",
       "      <td>9 Pro</td>\n",
       "      <td>128 GB</td>\n",
       "      <td>8 GB</td>\n",
       "      <td>6.7</td>\n",
       "      <td>48 + 50 + 8 + 2</td>\n",
       "      <td>4500</td>\n",
       "      <td>899</td>\n",
       "    </tr>\n",
       "    <tr>\n",
       "      <th>3</th>\n",
       "      <td>Xiaomi</td>\n",
       "      <td>Redmi Note 10 Pro</td>\n",
       "      <td>128 GB</td>\n",
       "      <td>6 GB</td>\n",
       "      <td>6.67</td>\n",
       "      <td>64 + 8 + 5 + 2</td>\n",
       "      <td>5020</td>\n",
       "      <td>279</td>\n",
       "    </tr>\n",
       "    <tr>\n",
       "      <th>4</th>\n",
       "      <td>Google</td>\n",
       "      <td>Pixel 6</td>\n",
       "      <td>128 GB</td>\n",
       "      <td>8 GB</td>\n",
       "      <td>6.4</td>\n",
       "      <td>50 + 12.2</td>\n",
       "      <td>4614</td>\n",
       "      <td>799</td>\n",
       "    </tr>\n",
       "    <tr>\n",
       "      <th>...</th>\n",
       "      <td>...</td>\n",
       "      <td>...</td>\n",
       "      <td>...</td>\n",
       "      <td>...</td>\n",
       "      <td>...</td>\n",
       "      <td>...</td>\n",
       "      <td>...</td>\n",
       "      <td>...</td>\n",
       "    </tr>\n",
       "    <tr>\n",
       "      <th>402</th>\n",
       "      <td>Samsung</td>\n",
       "      <td>Galaxy Note20 5G</td>\n",
       "      <td>128</td>\n",
       "      <td>8</td>\n",
       "      <td>6.7</td>\n",
       "      <td>12+64+12</td>\n",
       "      <td>4300</td>\n",
       "      <td>1049</td>\n",
       "    </tr>\n",
       "    <tr>\n",
       "      <th>403</th>\n",
       "      <td>Xiaomi</td>\n",
       "      <td>Mi 10 Lite 5G</td>\n",
       "      <td>128</td>\n",
       "      <td>6</td>\n",
       "      <td>6.57</td>\n",
       "      <td>48+8+2+2</td>\n",
       "      <td>4160</td>\n",
       "      <td>349</td>\n",
       "    </tr>\n",
       "    <tr>\n",
       "      <th>404</th>\n",
       "      <td>Apple</td>\n",
       "      <td>iPhone 12 Pro Max</td>\n",
       "      <td>128</td>\n",
       "      <td>6</td>\n",
       "      <td>6.7</td>\n",
       "      <td>12+12+12</td>\n",
       "      <td>3687</td>\n",
       "      <td>1099</td>\n",
       "    </tr>\n",
       "    <tr>\n",
       "      <th>405</th>\n",
       "      <td>Oppo</td>\n",
       "      <td>Reno3</td>\n",
       "      <td>128</td>\n",
       "      <td>8</td>\n",
       "      <td>6.4</td>\n",
       "      <td>48+13+8+2</td>\n",
       "      <td>4025</td>\n",
       "      <td>429</td>\n",
       "    </tr>\n",
       "    <tr>\n",
       "      <th>406</th>\n",
       "      <td>Samsung</td>\n",
       "      <td>Galaxy S10 Lite</td>\n",
       "      <td>128</td>\n",
       "      <td>6</td>\n",
       "      <td>6.7</td>\n",
       "      <td>48+12+5</td>\n",
       "      <td>4500</td>\n",
       "      <td>649</td>\n",
       "    </tr>\n",
       "  </tbody>\n",
       "</table>\n",
       "<p>407 rows × 8 columns</p>\n",
       "</div>"
      ],
      "text/plain": [
       "       Brand              Model Storage    RAM  Screen Size (inches)  \\\n",
       "0      Apple      iPhone 13 Pro   128 GB   6 GB                  6.1   \n",
       "1    Samsung   Galaxy S21 Ultra   256 GB  12 GB                  6.8   \n",
       "2    OnePlus              9 Pro   128 GB   8 GB                  6.7   \n",
       "3     Xiaomi  Redmi Note 10 Pro   128 GB   6 GB                 6.67   \n",
       "4     Google            Pixel 6   128 GB   8 GB                  6.4   \n",
       "..       ...                ...      ...    ...                  ...   \n",
       "402  Samsung   Galaxy Note20 5G      128      8                  6.7   \n",
       "403   Xiaomi      Mi 10 Lite 5G      128      6                 6.57   \n",
       "404    Apple  iPhone 12 Pro Max      128      6                  6.7   \n",
       "405     Oppo              Reno3      128      8                  6.4   \n",
       "406  Samsung    Galaxy S10 Lite      128      6                  6.7   \n",
       "\n",
       "            Camera (MP)  Battery Capacity (mAh) Price ($)  \n",
       "0          12 + 12 + 12                    3095       999  \n",
       "1    108 + 10 + 10 + 12                    5000      1199  \n",
       "2       48 + 50 + 8 + 2                    4500       899  \n",
       "3        64 + 8 + 5 + 2                    5020       279  \n",
       "4             50 + 12.2                    4614       799  \n",
       "..                  ...                     ...       ...  \n",
       "402            12+64+12                    4300      1049  \n",
       "403            48+8+2+2                    4160       349  \n",
       "404            12+12+12                    3687      1099  \n",
       "405           48+13+8+2                    4025       429  \n",
       "406             48+12+5                    4500       649  \n",
       "\n",
       "[407 rows x 8 columns]"
      ]
     },
     "execution_count": 84,
     "metadata": {},
     "output_type": "execute_result"
    }
   ],
   "source": [
    "import numpy as np\n",
    "import pandas as pd\n",
    "\n",
    "df=pd.read_csv(\"C:/Users/niman/Desktop/Mobile_Price_Predictor/data/Mobile phone price.csv\");\n",
    "df\n"
   ]
  },
  {
   "cell_type": "markdown",
   "id": "97628747-d1e3-4932-b011-78115050c2dc",
   "metadata": {},
   "source": [
    "# Data Analysis"
   ]
  },
  {
   "cell_type": "code",
   "execution_count": 85,
   "id": "c3e73bee-e7ca-4879-a48e-15bffbdd7388",
   "metadata": {},
   "outputs": [
    {
     "data": {
      "text/plain": [
       "(407, 8)"
      ]
     },
     "execution_count": 85,
     "metadata": {},
     "output_type": "execute_result"
    }
   ],
   "source": [
    "df.shape\n"
   ]
  },
  {
   "cell_type": "code",
   "execution_count": 86,
   "id": "5b8b6230-e577-4a35-af36-2e793301a97f",
   "metadata": {},
   "outputs": [
    {
     "name": "stdout",
     "output_type": "stream",
     "text": [
      "<class 'pandas.core.frame.DataFrame'>\n",
      "RangeIndex: 407 entries, 0 to 406\n",
      "Data columns (total 8 columns):\n",
      " #   Column                  Non-Null Count  Dtype \n",
      "---  ------                  --------------  ----- \n",
      " 0   Brand                   407 non-null    object\n",
      " 1   Model                   407 non-null    object\n",
      " 2   Storage                 407 non-null    object\n",
      " 3   RAM                     407 non-null    object\n",
      " 4   Screen Size (inches)    407 non-null    object\n",
      " 5   Camera (MP)             407 non-null    object\n",
      " 6   Battery Capacity (mAh)  407 non-null    int64 \n",
      " 7   Price ($)               407 non-null    object\n",
      "dtypes: int64(1), object(7)\n",
      "memory usage: 25.6+ KB\n"
     ]
    }
   ],
   "source": [
    "df.info()"
   ]
  },
  {
   "cell_type": "code",
   "execution_count": 87,
   "id": "5b55238f-0f4d-42a1-a192-b42ae4ddae9d",
   "metadata": {},
   "outputs": [
    {
     "data": {
      "text/html": [
       "<div>\n",
       "<style scoped>\n",
       "    .dataframe tbody tr th:only-of-type {\n",
       "        vertical-align: middle;\n",
       "    }\n",
       "\n",
       "    .dataframe tbody tr th {\n",
       "        vertical-align: top;\n",
       "    }\n",
       "\n",
       "    .dataframe thead th {\n",
       "        text-align: right;\n",
       "    }\n",
       "</style>\n",
       "<table border=\"1\" class=\"dataframe\">\n",
       "  <thead>\n",
       "    <tr style=\"text-align: right;\">\n",
       "      <th></th>\n",
       "      <th>Brand</th>\n",
       "      <th>Model</th>\n",
       "      <th>Storage</th>\n",
       "      <th>RAM</th>\n",
       "      <th>Screen Size (inches)</th>\n",
       "      <th>Camera (MP)</th>\n",
       "      <th>Battery Capacity (mAh)</th>\n",
       "      <th>Price ($)</th>\n",
       "    </tr>\n",
       "  </thead>\n",
       "  <tbody>\n",
       "    <tr>\n",
       "      <th>0</th>\n",
       "      <td>Apple</td>\n",
       "      <td>iPhone 13 Pro</td>\n",
       "      <td>128 GB</td>\n",
       "      <td>6 GB</td>\n",
       "      <td>6.1</td>\n",
       "      <td>12 + 12 + 12</td>\n",
       "      <td>3095</td>\n",
       "      <td>999</td>\n",
       "    </tr>\n",
       "    <tr>\n",
       "      <th>1</th>\n",
       "      <td>Samsung</td>\n",
       "      <td>Galaxy S21 Ultra</td>\n",
       "      <td>256 GB</td>\n",
       "      <td>12 GB</td>\n",
       "      <td>6.8</td>\n",
       "      <td>108 + 10 + 10 + 12</td>\n",
       "      <td>5000</td>\n",
       "      <td>1199</td>\n",
       "    </tr>\n",
       "    <tr>\n",
       "      <th>2</th>\n",
       "      <td>OnePlus</td>\n",
       "      <td>9 Pro</td>\n",
       "      <td>128 GB</td>\n",
       "      <td>8 GB</td>\n",
       "      <td>6.7</td>\n",
       "      <td>48 + 50 + 8 + 2</td>\n",
       "      <td>4500</td>\n",
       "      <td>899</td>\n",
       "    </tr>\n",
       "    <tr>\n",
       "      <th>3</th>\n",
       "      <td>Xiaomi</td>\n",
       "      <td>Redmi Note 10 Pro</td>\n",
       "      <td>128 GB</td>\n",
       "      <td>6 GB</td>\n",
       "      <td>6.67</td>\n",
       "      <td>64 + 8 + 5 + 2</td>\n",
       "      <td>5020</td>\n",
       "      <td>279</td>\n",
       "    </tr>\n",
       "    <tr>\n",
       "      <th>4</th>\n",
       "      <td>Google</td>\n",
       "      <td>Pixel 6</td>\n",
       "      <td>128 GB</td>\n",
       "      <td>8 GB</td>\n",
       "      <td>6.4</td>\n",
       "      <td>50 + 12.2</td>\n",
       "      <td>4614</td>\n",
       "      <td>799</td>\n",
       "    </tr>\n",
       "  </tbody>\n",
       "</table>\n",
       "</div>"
      ],
      "text/plain": [
       "     Brand              Model Storage    RAM  Screen Size (inches)  \\\n",
       "0    Apple      iPhone 13 Pro   128 GB   6 GB                  6.1   \n",
       "1  Samsung   Galaxy S21 Ultra   256 GB  12 GB                  6.8   \n",
       "2  OnePlus              9 Pro   128 GB   8 GB                  6.7   \n",
       "3   Xiaomi  Redmi Note 10 Pro   128 GB   6 GB                 6.67   \n",
       "4   Google            Pixel 6   128 GB   8 GB                  6.4   \n",
       "\n",
       "          Camera (MP)  Battery Capacity (mAh) Price ($)  \n",
       "0        12 + 12 + 12                    3095       999  \n",
       "1  108 + 10 + 10 + 12                    5000      1199  \n",
       "2     48 + 50 + 8 + 2                    4500       899  \n",
       "3      64 + 8 + 5 + 2                    5020       279  \n",
       "4           50 + 12.2                    4614       799  "
      ]
     },
     "execution_count": 87,
     "metadata": {},
     "output_type": "execute_result"
    }
   ],
   "source": [
    "df.head()"
   ]
  },
  {
   "cell_type": "markdown",
   "id": "d2e89bc5-6044-4340-b291-04f3b0ffe68b",
   "metadata": {},
   "source": [
    "# Check Null Data Values"
   ]
  },
  {
   "cell_type": "code",
   "execution_count": 88,
   "id": "20c589fe-72b3-4424-aacf-fe913818168d",
   "metadata": {},
   "outputs": [
    {
     "data": {
      "text/plain": [
       "Brand                     0\n",
       "Model                     0\n",
       "Storage                   0\n",
       "RAM                       0\n",
       "Screen Size (inches)      0\n",
       "Camera (MP)               0\n",
       "Battery Capacity (mAh)    0\n",
       "Price ($)                 0\n",
       "dtype: int64"
      ]
     },
     "execution_count": 88,
     "metadata": {},
     "output_type": "execute_result"
    }
   ],
   "source": [
    "df.isnull().sum()"
   ]
  },
  {
   "cell_type": "code",
   "execution_count": 89,
   "id": "68be99c6-63f1-4d9c-b8d4-a4ba9b5a9281",
   "metadata": {},
   "outputs": [
    {
     "name": "stdout",
     "output_type": "stream",
     "text": [
      "Requirement already satisfied: seaborn in c:\\users\\niman\\desktop\\mobile_price_predictor\\env\\lib\\site-packages (0.13.2)Note: you may need to restart the kernel to use updated packages.\n",
      "\n",
      "Requirement already satisfied: numpy!=1.24.0,>=1.20 in c:\\users\\niman\\desktop\\mobile_price_predictor\\env\\lib\\site-packages (from seaborn) (1.24.4)\n",
      "Requirement already satisfied: pandas>=1.2 in c:\\users\\niman\\desktop\\mobile_price_predictor\\env\\lib\\site-packages (from seaborn) (2.0.3)\n",
      "Requirement already satisfied: matplotlib!=3.6.1,>=3.4 in c:\\users\\niman\\desktop\\mobile_price_predictor\\env\\lib\\site-packages (from seaborn) (3.7.5)\n",
      "Requirement already satisfied: contourpy>=1.0.1 in c:\\users\\niman\\desktop\\mobile_price_predictor\\env\\lib\\site-packages (from matplotlib!=3.6.1,>=3.4->seaborn) (1.1.1)\n",
      "Requirement already satisfied: cycler>=0.10 in c:\\users\\niman\\desktop\\mobile_price_predictor\\env\\lib\\site-packages (from matplotlib!=3.6.1,>=3.4->seaborn) (0.12.1)\n",
      "Requirement already satisfied: fonttools>=4.22.0 in c:\\users\\niman\\desktop\\mobile_price_predictor\\env\\lib\\site-packages (from matplotlib!=3.6.1,>=3.4->seaborn) (4.51.0)\n",
      "Requirement already satisfied: kiwisolver>=1.0.1 in c:\\users\\niman\\desktop\\mobile_price_predictor\\env\\lib\\site-packages (from matplotlib!=3.6.1,>=3.4->seaborn) (1.4.5)\n",
      "Requirement already satisfied: packaging>=20.0 in c:\\users\\niman\\desktop\\mobile_price_predictor\\env\\lib\\site-packages (from matplotlib!=3.6.1,>=3.4->seaborn) (24.0)\n",
      "Requirement already satisfied: pillow>=6.2.0 in c:\\users\\niman\\desktop\\mobile_price_predictor\\env\\lib\\site-packages (from matplotlib!=3.6.1,>=3.4->seaborn) (10.3.0)\n",
      "Requirement already satisfied: pyparsing>=2.3.1 in c:\\users\\niman\\desktop\\mobile_price_predictor\\env\\lib\\site-packages (from matplotlib!=3.6.1,>=3.4->seaborn) (3.1.2)\n",
      "Requirement already satisfied: python-dateutil>=2.7 in c:\\users\\niman\\desktop\\mobile_price_predictor\\env\\lib\\site-packages (from matplotlib!=3.6.1,>=3.4->seaborn) (2.9.0.post0)\n",
      "Requirement already satisfied: importlib-resources>=3.2.0 in c:\\users\\niman\\desktop\\mobile_price_predictor\\env\\lib\\site-packages (from matplotlib!=3.6.1,>=3.4->seaborn) (6.4.0)\n",
      "Requirement already satisfied: pytz>=2020.1 in c:\\users\\niman\\desktop\\mobile_price_predictor\\env\\lib\\site-packages (from pandas>=1.2->seaborn) (2024.1)\n",
      "Requirement already satisfied: tzdata>=2022.1 in c:\\users\\niman\\desktop\\mobile_price_predictor\\env\\lib\\site-packages (from pandas>=1.2->seaborn) (2024.1)\n",
      "Requirement already satisfied: zipp>=3.1.0 in c:\\users\\niman\\desktop\\mobile_price_predictor\\env\\lib\\site-packages (from importlib-resources>=3.2.0->matplotlib!=3.6.1,>=3.4->seaborn) (3.18.1)\n",
      "Requirement already satisfied: six>=1.5 in c:\\users\\niman\\desktop\\mobile_price_predictor\\env\\lib\\site-packages (from python-dateutil>=2.7->matplotlib!=3.6.1,>=3.4->seaborn) (1.16.0)\n"
     ]
    }
   ],
   "source": [
    "pip install seaborn\n"
   ]
  },
  {
   "cell_type": "code",
   "execution_count": 108,
   "id": "4ee998b6-9f84-46d4-a487-1fe3ea72be26",
   "metadata": {},
   "outputs": [
    {
     "data": {
      "text/plain": [
       "<seaborn.axisgrid.PairGrid at 0x225e14decd0>"
      ]
     },
     "execution_count": 108,
     "metadata": {},
     "output_type": "execute_result"
    },
    {
     "data": {
      "image/png": "[encoded data removed]",
      "text/plain": [
       "<Figure size 1000x1000 with 20 Axes>"
      ]
     },
     "metadata": {},
     "output_type": "display_data"
    }
   ],
   "source": [
    "# seaborn for visualization\n",
    "import seaborn as sns\n",
    "\n",
    "sns.pairplot(df)"
   ]
  },
  {
   "cell_type": "markdown",
   "id": "7dceb83b-779a-4364-bc21-1217547a35b3",
   "metadata": {},
   "source": [
    "# Data Type Change"
   ]
  },
  {
   "cell_type": "code",
   "execution_count": 91,
   "id": "ff03a9dd-23a0-4664-9cdf-34995608ea11",
   "metadata": {},
   "outputs": [
    {
     "data": {
      "text/plain": [
       "Index(['Brand', 'Model', 'Storage ', 'RAM ', 'Screen Size (inches)',\n",
       "       'Camera (MP)', 'Battery Capacity (mAh)', 'Price ($)'],\n",
       "      dtype='object')"
      ]
     },
     "execution_count": 91,
     "metadata": {},
     "output_type": "execute_result"
    }
   ],
   "source": [
    "df.columns"
   ]
  },
  {
   "cell_type": "code",
   "execution_count": 98,
   "id": "cb9b727b-0c39-4b92-999b-5d0928e92c0f",
   "metadata": {},
   "outputs": [],
   "source": [
    "df['RAM '] = df['RAM '].str.replace('GB','').astype('int64')\n",
    "df[ 'Storage '] = df[ 'Storage '].str.replace('GB','').astype('int64')"
   ]
  },
  {
   "cell_type": "code",
   "execution_count": 112,
   "id": "09427782-ea54-44f6-a9f5-b8cb88e35804",
   "metadata": {},
   "outputs": [
    {
     "name": "stdout",
     "output_type": "stream",
     "text": [
      "<class 'pandas.core.frame.DataFrame'>\n",
      "RangeIndex: 407 entries, 0 to 406\n",
      "Data columns (total 8 columns):\n",
      " #   Column                  Non-Null Count  Dtype \n",
      "---  ------                  --------------  ----- \n",
      " 0   Brand                   407 non-null    object\n",
      " 1   Model                   407 non-null    object\n",
      " 2   Storage                 407 non-null    int64 \n",
      " 3   RAM                     407 non-null    int64 \n",
      " 4   Screen Size (inches)    407 non-null    object\n",
      " 5   Camera (MP)             407 non-null    object\n",
      " 6   Battery Capacity (mAh)  407 non-null    int64 \n",
      " 7   Price ($)               407 non-null    int64 \n",
      "dtypes: int64(4), object(4)\n",
      "memory usage: 25.6+ KB\n"
     ]
    }
   ],
   "source": [
    "df.info()\n"
   ]
  },
  {
   "cell_type": "code",
   "execution_count": 100,
   "id": "34ee23d4-ae89-4a92-974f-2c006db34a07",
   "metadata": {},
   "outputs": [],
   "source": [
    "# Remove dollar sign and commas\n",
    "df['Price ($)'] = df['Price ($)'].str.replace('$', '').str.replace(',', '')\n",
    "\n",
    "# Convert to integer\n",
    "df['Price ($)'] = df['Price ($)'].astype('int64')\n"
   ]
  },
  {
   "cell_type": "markdown",
   "id": "8459b4d2-83d9-4f1b-b2d4-8265dc7ad66d",
   "metadata": {},
   "source": [
    "# Number Of counts"
   ]
  },
  {
   "cell_type": "code",
   "execution_count": 102,
   "id": "7f5df692-2475-40b9-8535-36b1b221da79",
   "metadata": {},
   "outputs": [
    {
     "data": {
      "text/plain": [
       "Brand\n",
       "Samsung       79\n",
       "Xiaomi        67\n",
       "Oppo          56\n",
       "Realme        43\n",
       "Vivo          35\n",
       "Apple         30\n",
       "Nokia         28\n",
       "Motorola      23\n",
       "OnePlus       15\n",
       "Huawei        12\n",
       "Google         7\n",
       "Asus           4\n",
       "LG             3\n",
       "Blackberry     3\n",
       "Sony           1\n",
       "CAT            1\n",
       "Name: count, dtype: int64"
      ]
     },
     "execution_count": 102,
     "metadata": {},
     "output_type": "execute_result"
    }
   ],
   "source": [
    "df['Brand'].value_counts()"
   ]
  },
  {
   "cell_type": "code",
   "execution_count": 103,
   "id": "6b7a902b-a7cf-4bdf-ad28-cc29aeba7398",
   "metadata": {},
   "outputs": [
    {
     "data": {
      "text/plain": [
       "16"
      ]
     },
     "execution_count": 103,
     "metadata": {},
     "output_type": "execute_result"
    }
   ],
   "source": [
    "len(df['Brand'].value_counts())"
   ]
  },
  {
   "cell_type": "code",
   "execution_count": 155,
   "id": "423c4cf5-3d14-47d1-b7e6-b103e6b9026f",
   "metadata": {},
   "outputs": [
    {
     "data": {
      "text/plain": [
       "Model\n",
       "Poco X3 Pro           6\n",
       "Y33s                  5\n",
       "iPhone XR             5\n",
       "C21Y                  5\n",
       "Redmi 10 Prime        5\n",
       "                     ..\n",
       "Mi 11 Lite NE         1\n",
       "Moto G Stylus 2021    1\n",
       "A54s 5G               1\n",
       "Galaxy M52            1\n",
       "Reno3                 1\n",
       "Name: count, Length: 239, dtype: int64"
      ]
     },
     "execution_count": 155,
     "metadata": {},
     "output_type": "execute_result"
    }
   ],
   "source": [
    "df['Model'].value_counts()"
   ]
  },
  {
   "cell_type": "code",
   "execution_count": 106,
   "id": "f0058669-f667-4c41-9a80-6245f88cd49b",
   "metadata": {},
   "outputs": [
    {
     "data": {
      "text/plain": [
       "RAM \n",
       "4     128\n",
       "6     107\n",
       "8      95\n",
       "3      38\n",
       "12     25\n",
       "2      11\n",
       "5       2\n",
       "16      1\n",
       "Name: count, dtype: int64"
      ]
     },
     "execution_count": 106,
     "metadata": {},
     "output_type": "execute_result"
    }
   ],
   "source": [
    "df['RAM '].value_counts()"
   ]
  },
  {
   "cell_type": "code",
   "execution_count": 135,
   "id": "31aba486-1d1a-4e12-a53b-98418974fa16",
   "metadata": {},
   "outputs": [
    {
     "data": {
      "text/plain": [
       "Battery Capacity (mAh)\n",
       "5000    183\n",
       "4000    143\n",
       "6000     40\n",
       "2000     20\n",
       "3000     19\n",
       "7000      2\n",
       "Name: count, dtype: int64"
      ]
     },
     "execution_count": 135,
     "metadata": {},
     "output_type": "execute_result"
    }
   ],
   "source": [
    "df['Battery Capacity (mAh)'].value_counts()"
   ]
  },
  {
   "cell_type": "code",
   "execution_count": 154,
   "id": "6f66c376-bb0f-42ab-88d8-eb070474fee0",
   "metadata": {},
   "outputs": [
    {
     "data": {
      "text/plain": [
       "Screen Size (inches)\n",
       "6.5               108\n",
       "6.67               30\n",
       "6.4                26\n",
       "6.7                25\n",
       "6.55               21\n",
       "6.43               21\n",
       "6.51               19\n",
       "6.1                16\n",
       "6.53               16\n",
       "6.58               14\n",
       "6.6                14\n",
       "6.52               14\n",
       "6.8                 9\n",
       "6.44                8\n",
       "6.39                7\n",
       "4.7                 5\n",
       "6.81                5\n",
       "6                   4\n",
       "6.3                 4\n",
       "6.82                4\n",
       "6.2                 4\n",
       "6.78                4\n",
       "5.4                 3\n",
       "6.62                3\n",
       "6.9                 3\n",
       "4.5                 2\n",
       "5.5                 2\n",
       "6.49                2\n",
       "6.72                2\n",
       "7.6 (unfolded)      1\n",
       "6.15                1\n",
       "6.47                1\n",
       "5.7                 1\n",
       "6.8 + 3.9           1\n",
       "6.76                1\n",
       "6.35                1\n",
       "6.22                1\n",
       "5.99                1\n",
       "5.9                 1\n",
       "6.56                1\n",
       "6.57                1\n",
       "Name: count, dtype: int64"
      ]
     },
     "execution_count": 154,
     "metadata": {},
     "output_type": "execute_result"
    }
   ],
   "source": [
    "df['Screen Size (inches)'].value_counts()"
   ]
  },
  {
   "cell_type": "markdown",
   "id": "3733c6d8-7edf-4b16-a7ee-a2e914633b6a",
   "metadata": {},
   "source": [
    "#  Brand Column"
   ]
  },
  {
   "cell_type": "code",
   "execution_count": 143,
   "id": "de62bfbe-5dba-4e7c-a1b5-28b168386861",
   "metadata": {},
   "outputs": [],
   "source": [
    "def add_company(inpt):\n",
    "    if inpt == 'Google' or inpt == 'Asus' or inpt == 'LG' or inpt == 'Blackberry'or inpt == 'Sony'or inpt == 'CAT':\n",
    "        return 'Other'\n",
    "    else:\n",
    "        return inpt"
   ]
  },
  {
   "cell_type": "code",
   "execution_count": 144,
   "id": "793aab71-7f0b-463e-adc2-8737d33251aa",
   "metadata": {},
   "outputs": [],
   "source": [
    "df['Brand'] = df['Brand'].apply(add_company)"
   ]
  },
  {
   "cell_type": "code",
   "execution_count": 146,
   "id": "46fbae2f-0e2a-4884-86ab-b215725b1cb2",
   "metadata": {},
   "outputs": [
    {
     "data": {
      "text/plain": [
       "11"
      ]
     },
     "execution_count": 146,
     "metadata": {},
     "output_type": "execute_result"
    }
   ],
   "source": [
    "len(df['Brand'].value_counts())"
   ]
  },
  {
   "cell_type": "markdown",
   "id": "9b315f2d-dbeb-4587-9c48-458ffaf071da",
   "metadata": {},
   "source": [
    "# Camera (MP) Column"
   ]
  },
  {
   "cell_type": "code",
   "execution_count": 164,
   "id": "02204594-3a83-4f37-b7ca-c1946b6e8304",
   "metadata": {},
   "outputs": [
    {
     "data": {
      "text/plain": [
       "0            12 + 12 + 12\n",
       "1      108 + 10 + 10 + 12\n",
       "2         48 + 50 + 8 + 2\n",
       "3          64 + 8 + 5 + 2\n",
       "4               50 + 12.2\n",
       "              ...        \n",
       "402              12+64+12\n",
       "403              48+8+2+2\n",
       "404              12+12+12\n",
       "405             48+13+8+2\n",
       "406               48+12+5\n",
       "Name: Camera (MP), Length: 407, dtype: object"
      ]
     },
     "execution_count": 164,
     "metadata": {},
     "output_type": "execute_result"
    }
   ],
   "source": [
    "df[ 'Camera (MP)']"
   ]
  },
  {
   "cell_type": "markdown",
   "id": "727a8a6c-9eaf-4670-bf6d-9a1f56979ec3",
   "metadata": {},
   "source": [
    "# battery_capacity column"
   ]
  },
  {
   "cell_type": "code",
   "execution_count": 133,
   "id": "1f4f536f-2e4e-46e5-8479-88015bed8052",
   "metadata": {},
   "outputs": [],
   "source": [
    "def set_processor( battery_capacity):\n",
    "    if battery_capacity >= 7000:\n",
    "        return 7000\n",
    "    elif battery_capacity >= 6000:\n",
    "        return 6000\n",
    "    elif battery_capacity >= 5000:\n",
    "        return 5000\n",
    "    elif battery_capacity >= 4000:\n",
    "        return 4000\n",
    "    elif battery_capacity >= 3000:\n",
    "        return 3000\n",
    "    else:\n",
    "        return 2000\n",
    "\n",
    "                       \n",
    "               "
   ]
  },
  {
   "cell_type": "code",
   "execution_count": 134,
   "id": "5408de60-08af-4fde-ba08-e9941c5f804d",
   "metadata": {},
   "outputs": [],
   "source": [
    "df['Battery Capacity (mAh)'] = df['Battery Capacity (mAh)'].apply(set_processor)"
   ]
  },
  {
   "cell_type": "code",
   "execution_count": 137,
   "id": "116e961b-31d3-49d7-82e6-eed01a5d9d8f",
   "metadata": {},
   "outputs": [
    {
     "data": {
      "text/plain": [
       "Battery Capacity (mAh)\n",
       "5000    183\n",
       "4000    143\n",
       "6000     40\n",
       "2000     20\n",
       "3000     19\n",
       "7000      2\n",
       "Name: count, dtype: int64"
      ]
     },
     "execution_count": 137,
     "metadata": {},
     "output_type": "execute_result"
    }
   ],
   "source": [
    "\n",
    "df['Battery Capacity (mAh)'].value_counts()"
   ]
  },
  {
   "cell_type": "code",
   "execution_count": 149,
   "id": "ff09c93a-1fe9-4636-850c-9d7ae7486dcf",
   "metadata": {},
   "outputs": [
    {
     "data": {
      "text/html": [
       "<div>\n",
       "<style scoped>\n",
       "    .dataframe tbody tr th:only-of-type {\n",
       "        vertical-align: middle;\n",
       "    }\n",
       "\n",
       "    .dataframe tbody tr th {\n",
       "        vertical-align: top;\n",
       "    }\n",
       "\n",
       "    .dataframe thead th {\n",
       "        text-align: right;\n",
       "    }\n",
       "</style>\n",
       "<table border=\"1\" class=\"dataframe\">\n",
       "  <thead>\n",
       "    <tr style=\"text-align: right;\">\n",
       "      <th></th>\n",
       "      <th>Brand</th>\n",
       "      <th>Model</th>\n",
       "      <th>Storage</th>\n",
       "      <th>RAM</th>\n",
       "      <th>Screen Size (inches)</th>\n",
       "      <th>Camera (MP)</th>\n",
       "      <th>Battery Capacity (mAh)</th>\n",
       "      <th>Price ($)</th>\n",
       "    </tr>\n",
       "  </thead>\n",
       "  <tbody>\n",
       "    <tr>\n",
       "      <th>0</th>\n",
       "      <td>Apple</td>\n",
       "      <td>iPhone 13 Pro</td>\n",
       "      <td>128</td>\n",
       "      <td>6</td>\n",
       "      <td>6.1</td>\n",
       "      <td>12 + 12 + 12</td>\n",
       "      <td>3000</td>\n",
       "      <td>999</td>\n",
       "    </tr>\n",
       "    <tr>\n",
       "      <th>1</th>\n",
       "      <td>Samsung</td>\n",
       "      <td>Galaxy S21 Ultra</td>\n",
       "      <td>256</td>\n",
       "      <td>12</td>\n",
       "      <td>6.8</td>\n",
       "      <td>108 + 10 + 10 + 12</td>\n",
       "      <td>5000</td>\n",
       "      <td>1199</td>\n",
       "    </tr>\n",
       "    <tr>\n",
       "      <th>2</th>\n",
       "      <td>OnePlus</td>\n",
       "      <td>9 Pro</td>\n",
       "      <td>128</td>\n",
       "      <td>8</td>\n",
       "      <td>6.7</td>\n",
       "      <td>48 + 50 + 8 + 2</td>\n",
       "      <td>4000</td>\n",
       "      <td>899</td>\n",
       "    </tr>\n",
       "    <tr>\n",
       "      <th>3</th>\n",
       "      <td>Xiaomi</td>\n",
       "      <td>Redmi Note 10 Pro</td>\n",
       "      <td>128</td>\n",
       "      <td>6</td>\n",
       "      <td>6.67</td>\n",
       "      <td>64 + 8 + 5 + 2</td>\n",
       "      <td>5000</td>\n",
       "      <td>279</td>\n",
       "    </tr>\n",
       "    <tr>\n",
       "      <th>4</th>\n",
       "      <td>Other</td>\n",
       "      <td>Pixel 6</td>\n",
       "      <td>128</td>\n",
       "      <td>8</td>\n",
       "      <td>6.4</td>\n",
       "      <td>50 + 12.2</td>\n",
       "      <td>4000</td>\n",
       "      <td>799</td>\n",
       "    </tr>\n",
       "  </tbody>\n",
       "</table>\n",
       "</div>"
      ],
      "text/plain": [
       "     Brand              Model  Storage   RAM  Screen Size (inches)  \\\n",
       "0    Apple      iPhone 13 Pro       128     6                  6.1   \n",
       "1  Samsung   Galaxy S21 Ultra       256    12                  6.8   \n",
       "2  OnePlus              9 Pro       128     8                  6.7   \n",
       "3   Xiaomi  Redmi Note 10 Pro       128     6                 6.67   \n",
       "4    Other            Pixel 6       128     8                  6.4   \n",
       "\n",
       "          Camera (MP)  Battery Capacity (mAh)  Price ($)  \n",
       "0        12 + 12 + 12                    3000        999  \n",
       "1  108 + 10 + 10 + 12                    5000       1199  \n",
       "2     48 + 50 + 8 + 2                    4000        899  \n",
       "3      64 + 8 + 5 + 2                    5000        279  \n",
       "4           50 + 12.2                    4000        799  "
      ]
     },
     "execution_count": 149,
     "metadata": {},
     "output_type": "execute_result"
    }
   ],
   "source": [
    "df.head()"
   ]
  },
  {
   "cell_type": "code",
   "execution_count": 150,
   "id": "262e25f0-fc6e-41b7-90bb-2b72772215df",
   "metadata": {},
   "outputs": [
    {
     "data": {
      "text/plain": [
       "(407, 8)"
      ]
     },
     "execution_count": 150,
     "metadata": {},
     "output_type": "execute_result"
    }
   ],
   "source": [
    "df.shape"
   ]
  },
  {
   "cell_type": "markdown",
   "id": "1e23e41e-3d99-477d-91bf-e225c0eac29a",
   "metadata": {},
   "source": [
    "# Drop unnecessary columns"
   ]
  },
  {
   "cell_type": "code",
   "execution_count": 166,
   "id": "08fcb7e1-bb46-4805-967e-12f98c8089b5",
   "metadata": {},
   "outputs": [],
   "source": [
    "df = df.drop(columns=['Model', 'Screen Size (inches)', 'Camera (MP)'])\n"
   ]
  },
  {
   "cell_type": "code",
   "execution_count": 168,
   "id": "fd2a3766-2dd8-443f-ba4f-c30e39df679a",
   "metadata": {},
   "outputs": [
    {
     "data": {
      "text/html": [
       "<div>\n",
       "<style scoped>\n",
       "    .dataframe tbody tr th:only-of-type {\n",
       "        vertical-align: middle;\n",
       "    }\n",
       "\n",
       "    .dataframe tbody tr th {\n",
       "        vertical-align: top;\n",
       "    }\n",
       "\n",
       "    .dataframe thead th {\n",
       "        text-align: right;\n",
       "    }\n",
       "</style>\n",
       "<table border=\"1\" class=\"dataframe\">\n",
       "  <thead>\n",
       "    <tr style=\"text-align: right;\">\n",
       "      <th></th>\n",
       "      <th>Brand</th>\n",
       "      <th>Storage</th>\n",
       "      <th>RAM</th>\n",
       "      <th>Battery Capacity (mAh)</th>\n",
       "      <th>Price ($)</th>\n",
       "    </tr>\n",
       "  </thead>\n",
       "  <tbody>\n",
       "    <tr>\n",
       "      <th>0</th>\n",
       "      <td>Apple</td>\n",
       "      <td>128</td>\n",
       "      <td>6</td>\n",
       "      <td>3000</td>\n",
       "      <td>999</td>\n",
       "    </tr>\n",
       "    <tr>\n",
       "      <th>1</th>\n",
       "      <td>Samsung</td>\n",
       "      <td>256</td>\n",
       "      <td>12</td>\n",
       "      <td>5000</td>\n",
       "      <td>1199</td>\n",
       "    </tr>\n",
       "    <tr>\n",
       "      <th>2</th>\n",
       "      <td>OnePlus</td>\n",
       "      <td>128</td>\n",
       "      <td>8</td>\n",
       "      <td>4000</td>\n",
       "      <td>899</td>\n",
       "    </tr>\n",
       "    <tr>\n",
       "      <th>3</th>\n",
       "      <td>Xiaomi</td>\n",
       "      <td>128</td>\n",
       "      <td>6</td>\n",
       "      <td>5000</td>\n",
       "      <td>279</td>\n",
       "    </tr>\n",
       "    <tr>\n",
       "      <th>4</th>\n",
       "      <td>Other</td>\n",
       "      <td>128</td>\n",
       "      <td>8</td>\n",
       "      <td>4000</td>\n",
       "      <td>799</td>\n",
       "    </tr>\n",
       "  </tbody>\n",
       "</table>\n",
       "</div>"
      ],
      "text/plain": [
       "     Brand  Storage   RAM   Battery Capacity (mAh)  Price ($)\n",
       "0    Apple       128     6                    3000        999\n",
       "1  Samsung       256    12                    5000       1199\n",
       "2  OnePlus       128     8                    4000        899\n",
       "3   Xiaomi       128     6                    5000        279\n",
       "4    Other       128     8                    4000        799"
      ]
     },
     "execution_count": 168,
     "metadata": {},
     "output_type": "execute_result"
    }
   ],
   "source": [
    "df.head()"
   ]
  },
  {
   "cell_type": "code",
   "execution_count": 170,
   "id": "8db22209-5b82-4f73-84f6-560ab860ceac",
   "metadata": {},
   "outputs": [
    {
     "name": "stdout",
     "output_type": "stream",
     "text": [
      "<class 'pandas.core.frame.DataFrame'>\n",
      "RangeIndex: 407 entries, 0 to 406\n",
      "Data columns (total 5 columns):\n",
      " #   Column                  Non-Null Count  Dtype \n",
      "---  ------                  --------------  ----- \n",
      " 0   Brand                   407 non-null    object\n",
      " 1   Storage                 407 non-null    int64 \n",
      " 2   RAM                     407 non-null    int64 \n",
      " 3   Battery Capacity (mAh)  407 non-null    int64 \n",
      " 4   Price ($)               407 non-null    int64 \n",
      "dtypes: int64(4), object(1)\n",
      "memory usage: 16.0+ KB\n"
     ]
    }
   ],
   "source": [
    "df.info()"
   ]
  },
  {
   "cell_type": "markdown",
   "id": "a20a783d-9b23-4bc6-8ba0-13aa5de594c4",
   "metadata": {},
   "source": [
    "# Encode Brand Column"
   ]
  },
  {
   "cell_type": "code",
   "execution_count": 172,
   "id": "2dabe5ce-0c5a-4283-9efe-0bf32ce8cd23",
   "metadata": {},
   "outputs": [
    {
     "name": "stdout",
     "output_type": "stream",
     "text": [
      "Note: you may need to restart the kernel to use updated packages.Collecting scikit-learn\n",
      "  Downloading scikit_learn-1.3.2-cp38-cp38-win_amd64.whl.metadata (11 kB)\n",
      "Requirement already satisfied: numpy<2.0,>=1.17.3 in c:\\users\\niman\\desktop\\mobile_price_predictor\\env\\lib\\site-packages (from scikit-learn) (1.24.4)\n",
      "Collecting scipy>=1.5.0 (from scikit-learn)\n",
      "  Downloading scipy-1.10.1-cp38-cp38-win_amd64.whl.metadata (58 kB)\n",
      "     ---------------------------------------- 0.0/59.0 kB ? eta -:--:--\n",
      "     ------ --------------------------------- 10.2/59.0 kB ? eta -:--:--\n",
      "     ------------------- ------------------ 30.7/59.0 kB 330.3 kB/s eta 0:00:01\n",
      "     ------------------- ------------------ 30.7/59.0 kB 330.3 kB/s eta 0:00:01\n",
      "     ------------------- ------------------ 30.7/59.0 kB 330.3 kB/s eta 0:00:01\n",
      "     ------------------- ------------------ 30.7/59.0 kB 330.3 kB/s eta 0:00:01\n",
      "     -------------------------- ----------- 41.0/59.0 kB 109.3 kB/s eta 0:00:01\n",
      "     -------------------------------------- 59.0/59.0 kB 142.1 kB/s eta 0:00:00\n",
      "Collecting joblib>=1.1.1 (from scikit-learn)\n",
      "  Downloading joblib-1.4.0-py3-none-any.whl.metadata (5.4 kB)\n",
      "Collecting threadpoolctl>=2.0.0 (from scikit-learn)\n",
      "  Downloading threadpoolctl-3.4.0-py3-none-any.whl.metadata (13 kB)\n",
      "Downloading scikit_learn-1.3.2-cp38-cp38-win_amd64.whl (9.3 MB)\n",
      "   ---------------------------------------- 0.0/9.3 MB ? eta -:--:--\n",
      "   ---------------------------------------- 0.1/9.3 MB 1.6 MB/s eta 0:00:06\n",
      "   ---------------------------------------- 0.1/9.3 MB 1.1 MB/s eta 0:00:09\n",
      "   ---------------------------------------- 0.1/9.3 MB 1.1 MB/s eta 0:00:09\n",
      "   ---------------------------------------- 0.1/9.3 MB 1.1 MB/s eta 0:00:09\n",
      "   ---------------------------------------- 0.1/9.3 MB 1.1 MB/s eta 0:00:09\n",
      "    --------------------------------------- 0.1/9.3 MB 379.3 kB/s eta 0:00:25\n",
      "    --------------------------------------- 0.2/9.3 MB 540.4 kB/s eta 0:00:17\n",
      "   - -------------------------------------- 0.3/9.3 MB 654.2 kB/s eta 0:00:14\n",
      "   - -------------------------------------- 0.3/9.3 MB 655.2 kB/s eta 0:00:14\n",
      "   - -------------------------------------- 0.3/9.3 MB 655.2 kB/s eta 0:00:14\n",
      "   - -------------------------------------- 0.3/9.3 MB 655.2 kB/s eta 0:00:14\n",
      "   - -------------------------------------- 0.3/9.3 MB 551.6 kB/s eta 0:00:17\n",
      "   - -------------------------------------- 0.4/9.3 MB 639.0 kB/s eta 0:00:14\n",
      "   -- ------------------------------------- 0.5/9.3 MB 699.5 kB/s eta 0:00:13\n",
      "   -- ------------------------------------- 0.6/9.3 MB 849.9 kB/s eta 0:00:11\n",
      "   --- ------------------------------------ 0.7/9.3 MB 914.8 kB/s eta 0:00:10\n",
      "   --- ------------------------------------ 0.7/9.3 MB 914.8 kB/s eta 0:00:10\n",
      "   --- ------------------------------------ 0.7/9.3 MB 845.4 kB/s eta 0:00:11\n",
      "   --- ------------------------------------ 0.9/9.3 MB 955.1 kB/s eta 0:00:09\n",
      "   ---- ----------------------------------- 1.0/9.3 MB 1.0 MB/s eta 0:00:09\n",
      "   ----- ---------------------------------- 1.2/9.3 MB 1.1 MB/s eta 0:00:08\n",
      "   ------ --------------------------------- 1.4/9.3 MB 1.3 MB/s eta 0:00:06\n",
      "   ------ --------------------------------- 1.5/9.3 MB 1.4 MB/s eta 0:00:06\n",
      "   ------ --------------------------------- 1.6/9.3 MB 1.3 MB/s eta 0:00:06\n",
      "   ------- -------------------------------- 1.6/9.3 MB 1.4 MB/s eta 0:00:06\n",
      "   -------- ------------------------------- 2.0/9.3 MB 1.6 MB/s eta 0:00:05\n",
      "   --------- ------------------------------ 2.1/9.3 MB 1.6 MB/s eta 0:00:05\n",
      "   ---------- ----------------------------- 2.4/9.3 MB 1.7 MB/s eta 0:00:04\n",
      "   ----------- ---------------------------- 2.6/9.3 MB 1.9 MB/s eta 0:00:04\n",
      "   ----------- ---------------------------- 2.7/9.3 MB 1.8 MB/s eta 0:00:04\n",
      "   ----------- ---------------------------- 2.7/9.3 MB 1.8 MB/s eta 0:00:04\n",
      "   ----------- ---------------------------- 2.7/9.3 MB 1.8 MB/s eta 0:00:04\n",
      "   ----------- ---------------------------- 2.7/9.3 MB 1.8 MB/s eta 0:00:04\n",
      "   ----------- ---------------------------- 2.7/9.3 MB 1.8 MB/s eta 0:00:04\n",
      "   ----------- ---------------------------- 2.7/9.3 MB 1.8 MB/s eta 0:00:04\n",
      "   ----------- ---------------------------- 2.7/9.3 MB 1.8 MB/s eta 0:00:04\n",
      "   ----------- ---------------------------- 2.7/9.3 MB 1.8 MB/s eta 0:00:04\n",
      "   ----------- ---------------------------- 2.7/9.3 MB 1.8 MB/s eta 0:00:04\n",
      "   ----------- ---------------------------- 2.7/9.3 MB 1.8 MB/s eta 0:00:04\n",
      "   ----------- ---------------------------- 2.7/9.3 MB 1.8 MB/s eta 0:00:04\n",
      "   ----------- ---------------------------- 2.7/9.3 MB 1.8 MB/s eta 0:00:04\n",
      "   ----------- ---------------------------- 2.7/9.3 MB 1.8 MB/s eta 0:00:04\n",
      "   ----------- ---------------------------- 2.7/9.3 MB 1.8 MB/s eta 0:00:04\n",
      "   ----------- ---------------------------- 2.7/9.3 MB 1.8 MB/s eta 0:00:04\n",
      "   ----------- ---------------------------- 2.7/9.3 MB 1.8 MB/s eta 0:00:04\n",
      "   ----------- ---------------------------- 2.7/9.3 MB 1.8 MB/s eta 0:00:04\n",
      "   ----------- ---------------------------- 2.7/9.3 MB 1.8 MB/s eta 0:00:04\n",
      "   ------------------- -------------------- 4.6/9.3 MB 2.0 MB/s eta 0:00:03\n",
      "   ------------------------- -------------- 5.9/9.3 MB 2.5 MB/s eta 0:00:02\n",
      "   ---------------------------- ----------- 6.5/9.3 MB 2.7 MB/s eta 0:00:02\n",
      "   ---------------------------- ----------- 6.6/9.3 MB 2.7 MB/s eta 0:00:01\n",
      "   ---------------------------- ----------- 6.7/9.3 MB 2.7 MB/s eta 0:00:01\n",
      "   ---------------------------- ----------- 6.7/9.3 MB 2.7 MB/s eta 0:00:01\n",
      "   ---------------------------- ----------- 6.7/9.3 MB 2.6 MB/s eta 0:00:02\n",
      "   ----------------------------- ---------- 6.9/9.3 MB 2.6 MB/s eta 0:00:01\n",
      "   ----------------------------- ---------- 6.9/9.3 MB 2.5 MB/s eta 0:00:01\n",
      "   ------------------------------ --------- 7.0/9.3 MB 2.5 MB/s eta 0:00:01\n",
      "   ------------------------------ --------- 7.0/9.3 MB 2.5 MB/s eta 0:00:01\n",
      "   ------------------------------ --------- 7.0/9.3 MB 2.5 MB/s eta 0:00:01\n",
      "   ------------------------------ --------- 7.0/9.3 MB 2.5 MB/s eta 0:00:01\n",
      "   ------------------------------ --------- 7.0/9.3 MB 2.5 MB/s eta 0:00:01\n",
      "   ------------------------------ --------- 7.0/9.3 MB 2.5 MB/s eta 0:00:01\n",
      "   ------------------------------ --------- 7.0/9.3 MB 2.5 MB/s eta 0:00:01\n",
      "   ------------------------------ --------- 7.0/9.3 MB 2.5 MB/s eta 0:00:01\n",
      "   ------------------------------ --------- 7.0/9.3 MB 2.5 MB/s eta 0:00:01\n",
      "   ------------------------------ --------- 7.0/9.3 MB 2.5 MB/s eta 0:00:01\n",
      "   ------------------------------ --------- 7.0/9.3 MB 2.5 MB/s eta 0:00:01\n",
      "   ------------------------------ --------- 7.0/9.3 MB 2.5 MB/s eta 0:00:01\n",
      "   ------------------------------ --------- 7.0/9.3 MB 2.5 MB/s eta 0:00:01\n",
      "   ------------------------------ --------- 7.0/9.3 MB 2.5 MB/s eta 0:00:01\n",
      "   ------------------------------ --------- 7.0/9.3 MB 2.5 MB/s eta 0:00:01\n",
      "   ------------------------------ --------- 7.0/9.3 MB 2.5 MB/s eta 0:00:01\n",
      "   ------------------------------ --------- 7.0/9.3 MB 2.5 MB/s eta 0:00:01\n",
      "   ------------------------------ --------- 7.0/9.3 MB 2.5 MB/s eta 0:00:01\n",
      "   ------------------------------ --------- 7.0/9.3 MB 2.5 MB/s eta 0:00:01\n",
      "   ------------------------------ --------- 7.0/9.3 MB 2.5 MB/s eta 0:00:01\n",
      "   ------------------------------ --------- 7.0/9.3 MB 2.5 MB/s eta 0:00:01\n",
      "   ------------------------------ --------- 7.0/9.3 MB 2.5 MB/s eta 0:00:01\n",
      "   ------------------------------ --------- 7.0/9.3 MB 2.5 MB/s eta 0:00:01\n",
      "   ------------------------------ --------- 7.0/9.3 MB 2.5 MB/s eta 0:00:01\n",
      "   ------------------------------ --------- 7.0/9.3 MB 2.5 MB/s eta 0:00:01\n",
      "   -------------------------------- ------- 7.5/9.3 MB 1.7 MB/s eta 0:00:02\n",
      "   -------------------------------- ------- 7.5/9.3 MB 1.7 MB/s eta 0:00:02\n",
      "   ---------------------------------------  9.3/9.3 MB 2.1 MB/s eta 0:00:01\n",
      "   ---------------------------------------- 9.3/9.3 MB 2.1 MB/s eta 0:00:00\n",
      "Downloading joblib-1.4.0-py3-none-any.whl (301 kB)\n",
      "   ---------------------------------------- 0.0/301.2 kB ? eta -:--:--\n",
      "   ------------------------- -------------- 194.6/301.2 kB 3.9 MB/s eta 0:00:01\n",
      "   ----------------------------------- ---- 266.2/301.2 kB 2.3 MB/s eta 0:00:01\n",
      "   ---------------------------------------- 301.2/301.2 kB 2.1 MB/s eta 0:00:00\n",
      "Downloading scipy-1.10.1-cp38-cp38-win_amd64.whl (42.2 MB)\n",
      "   ---------------------------------------- 0.0/42.2 MB ? eta -:--:--\n",
      "    --------------------------------------- 0.6/42.2 MB 11.5 MB/s eta 0:00:04\n",
      "    --------------------------------------- 0.8/42.2 MB 8.6 MB/s eta 0:00:05\n",
      "   - -------------------------------------- 1.1/42.2 MB 7.6 MB/s eta 0:00:06\n",
      "   - -------------------------------------- 1.4/42.2 MB 7.2 MB/s eta 0:00:06\n",
      "   - -------------------------------------- 1.4/42.2 MB 6.8 MB/s eta 0:00:06\n",
      "   - -------------------------------------- 1.4/42.2 MB 6.8 MB/s eta 0:00:06\n",
      "   - -------------------------------------- 1.5/42.2 MB 4.8 MB/s eta 0:00:09\n",
      "   - -------------------------------------- 1.6/42.2 MB 4.4 MB/s eta 0:00:10\n",
      "   - -------------------------------------- 1.8/42.2 MB 4.4 MB/s eta 0:00:10\n",
      "   - -------------------------------------- 1.8/42.2 MB 4.4 MB/s eta 0:00:10\n",
      "   - -------------------------------------- 1.8/42.2 MB 3.7 MB/s eta 0:00:11\n",
      "   - -------------------------------------- 1.9/42.2 MB 3.5 MB/s eta 0:00:12\n",
      "   - -------------------------------------- 1.9/42.2 MB 3.4 MB/s eta 0:00:12\n",
      "   - -------------------------------------- 2.0/42.2 MB 3.2 MB/s eta 0:00:13\n",
      "   - -------------------------------------- 2.0/42.2 MB 3.2 MB/s eta 0:00:13\n",
      "   - -------------------------------------- 2.0/42.2 MB 3.2 MB/s eta 0:00:13\n",
      "   - -------------------------------------- 2.0/42.2 MB 3.2 MB/s eta 0:00:13\n",
      "   - -------------------------------------- 2.0/42.2 MB 3.2 MB/s eta 0:00:13\n",
      "   - -------------------------------------- 2.0/42.2 MB 3.2 MB/s eta 0:00:13\n",
      "   - -------------------------------------- 2.0/42.2 MB 3.2 MB/s eta 0:00:13\n",
      "   - -------------------------------------- 2.0/42.2 MB 3.2 MB/s eta 0:00:13\n",
      "   --- ------------------------------------ 3.6/42.2 MB 3.3 MB/s eta 0:00:12\n",
      "   --- ------------------------------------ 3.7/42.2 MB 3.3 MB/s eta 0:00:12\n",
      "   --- ------------------------------------ 3.8/42.2 MB 3.2 MB/s eta 0:00:13\n",
      "   --- ------------------------------------ 3.8/42.2 MB 3.0 MB/s eta 0:00:13\n",
      "   --- ------------------------------------ 3.8/42.2 MB 3.0 MB/s eta 0:00:13\n",
      "   --- ------------------------------------ 3.8/42.2 MB 3.0 MB/s eta 0:00:13\n",
      "   --- ------------------------------------ 3.8/42.2 MB 3.0 MB/s eta 0:00:13\n",
      "   --- ------------------------------------ 3.8/42.2 MB 2.6 MB/s eta 0:00:15\n",
      "   --- ------------------------------------ 3.9/42.2 MB 2.5 MB/s eta 0:00:16\n",
      "   --- ------------------------------------ 3.9/42.2 MB 2.5 MB/s eta 0:00:16\n",
      "   --- ------------------------------------ 4.0/42.2 MB 2.5 MB/s eta 0:00:16\n",
      "   --- ------------------------------------ 4.2/42.2 MB 2.5 MB/s eta 0:00:16\n",
      "   ---- ----------------------------------- 4.6/42.2 MB 2.6 MB/s eta 0:00:15\n",
      "   ---- ----------------------------------- 4.8/42.2 MB 2.7 MB/s eta 0:00:15\n",
      "   ---- ----------------------------------- 4.9/42.2 MB 2.7 MB/s eta 0:00:14\n",
      "   ---- ----------------------------------- 4.9/42.2 MB 2.7 MB/s eta 0:00:14\n",
      "   ---- ----------------------------------- 5.0/42.2 MB 2.6 MB/s eta 0:00:15\n",
      "   ---- ----------------------------------- 5.0/42.2 MB 2.6 MB/s eta 0:00:15\n",
      "   ---- ----------------------------------- 5.1/42.2 MB 2.6 MB/s eta 0:00:15\n",
      "   ---- ----------------------------------- 5.2/42.2 MB 2.6 MB/s eta 0:00:15\n",
      "   ----- ---------------------------------- 5.4/42.2 MB 2.5 MB/s eta 0:00:15\n",
      "   ----- ---------------------------------- 5.5/42.2 MB 2.6 MB/s eta 0:00:15\n",
      "   ----- ---------------------------------- 5.7/42.2 MB 2.6 MB/s eta 0:00:15\n",
      "   ----- ---------------------------------- 5.9/42.2 MB 2.6 MB/s eta 0:00:14\n",
      "   ----- ---------------------------------- 6.3/42.2 MB 2.7 MB/s eta 0:00:14\n",
      "   ------ --------------------------------- 6.4/42.2 MB 2.7 MB/s eta 0:00:14\n",
      "   ------ --------------------------------- 6.5/42.2 MB 2.7 MB/s eta 0:00:14\n",
      "   ------ --------------------------------- 6.7/42.2 MB 2.7 MB/s eta 0:00:14\n",
      "   ------ --------------------------------- 6.9/42.2 MB 2.7 MB/s eta 0:00:14\n",
      "   ------ --------------------------------- 7.1/42.2 MB 2.7 MB/s eta 0:00:13\n",
      "   ------ --------------------------------- 7.3/42.2 MB 2.8 MB/s eta 0:00:13\n",
      "   ------- -------------------------------- 7.5/42.2 MB 2.8 MB/s eta 0:00:13\n",
      "   ------- -------------------------------- 7.5/42.2 MB 2.8 MB/s eta 0:00:13\n",
      "   ------- -------------------------------- 7.7/42.2 MB 2.8 MB/s eta 0:00:13\n",
      "   ------- -------------------------------- 8.0/42.2 MB 2.8 MB/s eta 0:00:13\n",
      "   ------- -------------------------------- 8.0/42.2 MB 2.8 MB/s eta 0:00:13\n",
      "   ------- -------------------------------- 8.3/42.2 MB 2.8 MB/s eta 0:00:12\n",
      "   -------- ------------------------------- 8.6/42.2 MB 2.9 MB/s eta 0:00:12\n",
      "   -------- ------------------------------- 8.8/42.2 MB 2.9 MB/s eta 0:00:12\n",
      "   -------- ------------------------------- 9.0/42.2 MB 2.9 MB/s eta 0:00:12\n",
      "   -------- ------------------------------- 9.1/42.2 MB 2.9 MB/s eta 0:00:12\n",
      "   -------- ------------------------------- 9.4/42.2 MB 2.9 MB/s eta 0:00:12\n",
      "   --------- ------------------------------ 9.6/42.2 MB 2.9 MB/s eta 0:00:12\n",
      "   --------- ------------------------------ 9.9/42.2 MB 3.0 MB/s eta 0:00:11\n",
      "   --------- ------------------------------ 10.0/42.2 MB 2.9 MB/s eta 0:00:11\n",
      "   --------- ------------------------------ 10.0/42.2 MB 2.9 MB/s eta 0:00:12\n",
      "   --------- ------------------------------ 10.1/42.2 MB 2.9 MB/s eta 0:00:12\n",
      "   --------- ------------------------------ 10.4/42.2 MB 2.9 MB/s eta 0:00:12\n",
      "   ---------- ----------------------------- 10.7/42.2 MB 2.8 MB/s eta 0:00:12\n",
      "   ---------- ----------------------------- 10.7/42.2 MB 2.8 MB/s eta 0:00:12\n",
      "   ---------- ----------------------------- 11.0/42.2 MB 2.8 MB/s eta 0:00:12\n",
      "   ---------- ----------------------------- 11.2/42.2 MB 2.8 MB/s eta 0:00:12\n",
      "   ---------- ----------------------------- 11.3/42.2 MB 2.8 MB/s eta 0:00:12\n",
      "   ---------- ----------------------------- 11.6/42.2 MB 2.7 MB/s eta 0:00:12\n",
      "   ----------- ---------------------------- 11.8/42.2 MB 2.8 MB/s eta 0:00:11\n",
      "   ----------- ---------------------------- 11.9/42.2 MB 2.8 MB/s eta 0:00:11\n",
      "   ----------- ---------------------------- 12.1/42.2 MB 2.9 MB/s eta 0:00:11\n",
      "   ----------- ---------------------------- 12.4/42.2 MB 3.3 MB/s eta 0:00:09\n",
      "   ----------- ---------------------------- 12.6/42.2 MB 3.3 MB/s eta 0:00:10\n",
      "   ----------- ---------------------------- 12.6/42.2 MB 3.2 MB/s eta 0:00:10\n",
      "   ----------- ---------------------------- 12.6/42.2 MB 3.2 MB/s eta 0:00:10\n",
      "   ------------ --------------------------- 12.7/42.2 MB 3.2 MB/s eta 0:00:10\n",
      "   ------------ --------------------------- 12.7/42.2 MB 3.2 MB/s eta 0:00:10\n",
      "   ------------ --------------------------- 12.7/42.2 MB 3.2 MB/s eta 0:00:10\n",
      "   ------------ --------------------------- 12.7/42.2 MB 3.2 MB/s eta 0:00:10\n",
      "   ------------ --------------------------- 12.7/42.2 MB 2.9 MB/s eta 0:00:11\n",
      "   ------------ --------------------------- 12.7/42.2 MB 2.9 MB/s eta 0:00:11\n",
      "   ------------ --------------------------- 12.7/42.2 MB 2.9 MB/s eta 0:00:11\n",
      "   ------------ --------------------------- 12.7/42.2 MB 2.9 MB/s eta 0:00:11\n",
      "   ------------ --------------------------- 12.7/42.2 MB 2.9 MB/s eta 0:00:11\n",
      "   ------------ --------------------------- 12.7/42.2 MB 2.9 MB/s eta 0:00:11\n",
      "   ------------ --------------------------- 12.7/42.2 MB 2.9 MB/s eta 0:00:11\n",
      "   ------------ --------------------------- 12.7/42.2 MB 2.9 MB/s eta 0:00:11\n",
      "   ------------ --------------------------- 12.7/42.2 MB 2.9 MB/s eta 0:00:11\n",
      "   ------------- -------------------------- 13.9/42.2 MB 2.7 MB/s eta 0:00:11\n",
      "   ------------- -------------------------- 13.9/42.2 MB 2.7 MB/s eta 0:00:11\n",
      "   ------------- -------------------------- 14.0/42.2 MB 2.6 MB/s eta 0:00:11\n",
      "   ------------- -------------------------- 14.1/42.2 MB 2.8 MB/s eta 0:00:11\n",
      "   ------------- -------------------------- 14.2/42.2 MB 2.9 MB/s eta 0:00:10\n",
      "   ------------- -------------------------- 14.3/42.2 MB 2.8 MB/s eta 0:00:10\n",
      "   ------------- -------------------------- 14.4/42.2 MB 2.8 MB/s eta 0:00:10\n",
      "   ------------- -------------------------- 14.5/42.2 MB 2.8 MB/s eta 0:00:10\n",
      "   ------------- -------------------------- 14.7/42.2 MB 2.8 MB/s eta 0:00:10\n",
      "   -------------- ------------------------- 14.8/42.2 MB 2.8 MB/s eta 0:00:10\n",
      "   -------------- ------------------------- 15.0/42.2 MB 2.8 MB/s eta 0:00:10\n",
      "   -------------- ------------------------- 15.0/42.2 MB 2.8 MB/s eta 0:00:10\n",
      "   -------------- ------------------------- 15.1/42.2 MB 2.7 MB/s eta 0:00:10\n",
      "   -------------- ------------------------- 15.2/42.2 MB 2.8 MB/s eta 0:00:10\n",
      "   -------------- ------------------------- 15.3/42.2 MB 2.8 MB/s eta 0:00:10\n",
      "   -------------- ------------------------- 15.4/42.2 MB 2.8 MB/s eta 0:00:10\n",
      "   -------------- ------------------------- 15.4/42.2 MB 2.8 MB/s eta 0:00:10\n",
      "   -------------- ------------------------- 15.7/42.2 MB 2.8 MB/s eta 0:00:10\n",
      "   --------------- ------------------------ 15.9/42.2 MB 2.8 MB/s eta 0:00:10\n",
      "   --------------- ------------------------ 16.0/42.2 MB 2.8 MB/s eta 0:00:10\n",
      "   --------------- ------------------------ 16.1/42.2 MB 2.7 MB/s eta 0:00:10\n",
      "   --------------- ------------------------ 16.1/42.2 MB 2.7 MB/s eta 0:00:10\n",
      "   --------------- ------------------------ 16.1/42.2 MB 2.7 MB/s eta 0:00:10\n",
      "   --------------- ------------------------ 16.2/42.2 MB 2.6 MB/s eta 0:00:10\n",
      "   --------------- ------------------------ 16.2/42.2 MB 2.6 MB/s eta 0:00:10\n",
      "   --------------- ------------------------ 16.2/42.2 MB 2.6 MB/s eta 0:00:10\n",
      "   --------------- ------------------------ 16.3/42.2 MB 2.6 MB/s eta 0:00:11\n",
      "   --------------- ------------------------ 16.4/42.2 MB 2.6 MB/s eta 0:00:11\n",
      "   --------------- ------------------------ 16.4/42.2 MB 2.5 MB/s eta 0:00:11\n",
      "   --------------- ------------------------ 16.4/42.2 MB 2.5 MB/s eta 0:00:11\n",
      "   --------------- ------------------------ 16.5/42.2 MB 2.5 MB/s eta 0:00:11\n",
      "   --------------- ------------------------ 16.6/42.2 MB 2.5 MB/s eta 0:00:11\n",
      "   --------------- ------------------------ 16.7/42.2 MB 2.5 MB/s eta 0:00:11\n",
      "   --------------- ------------------------ 16.7/42.2 MB 2.5 MB/s eta 0:00:11\n",
      "   --------------- ------------------------ 16.8/42.2 MB 2.4 MB/s eta 0:00:11\n",
      "   --------------- ------------------------ 16.8/42.2 MB 2.4 MB/s eta 0:00:11\n",
      "   --------------- ------------------------ 16.8/42.2 MB 2.4 MB/s eta 0:00:11\n",
      "   ---------------- ----------------------- 16.9/42.2 MB 2.4 MB/s eta 0:00:11\n",
      "   ---------------- ----------------------- 17.1/42.2 MB 2.4 MB/s eta 0:00:11\n",
      "   ---------------- ----------------------- 17.3/42.2 MB 2.4 MB/s eta 0:00:11\n",
      "   ---------------- ----------------------- 17.3/42.2 MB 2.3 MB/s eta 0:00:11\n",
      "   ---------------- ----------------------- 17.4/42.2 MB 2.3 MB/s eta 0:00:11\n",
      "   ---------------- ----------------------- 17.5/42.2 MB 2.3 MB/s eta 0:00:11\n",
      "   ---------------- ----------------------- 17.6/42.2 MB 2.3 MB/s eta 0:00:11\n",
      "   ---------------- ----------------------- 17.9/42.2 MB 2.3 MB/s eta 0:00:11\n",
      "   ----------------- ---------------------- 18.0/42.2 MB 2.3 MB/s eta 0:00:11\n",
      "   ----------------- ---------------------- 18.2/42.2 MB 2.3 MB/s eta 0:00:11\n",
      "   ----------------- ---------------------- 18.3/42.2 MB 2.3 MB/s eta 0:00:11\n",
      "   ----------------- ---------------------- 18.4/42.2 MB 2.3 MB/s eta 0:00:11\n",
      "   ----------------- ---------------------- 18.5/42.2 MB 2.3 MB/s eta 0:00:11\n",
      "   ----------------- ---------------------- 18.6/42.2 MB 2.3 MB/s eta 0:00:11\n",
      "   ----------------- ---------------------- 18.8/42.2 MB 2.2 MB/s eta 0:00:11\n",
      "   ----------------- ---------------------- 18.9/42.2 MB 2.2 MB/s eta 0:00:11\n",
      "   ----------------- ---------------------- 19.0/42.2 MB 2.2 MB/s eta 0:00:11\n",
      "   ----------------- ---------------------- 19.0/42.2 MB 2.2 MB/s eta 0:00:11\n",
      "   ------------------ --------------------- 19.0/42.2 MB 2.2 MB/s eta 0:00:11\n",
      "   ------------------ --------------------- 19.1/42.2 MB 2.2 MB/s eta 0:00:11\n",
      "   ------------------ --------------------- 19.3/42.2 MB 2.2 MB/s eta 0:00:11\n",
      "   ------------------ --------------------- 19.3/42.2 MB 2.2 MB/s eta 0:00:11\n",
      "   ------------------ --------------------- 19.4/42.2 MB 2.2 MB/s eta 0:00:11\n",
      "   ------------------ --------------------- 19.4/42.2 MB 2.2 MB/s eta 0:00:11\n",
      "   ------------------ --------------------- 19.6/42.2 MB 2.1 MB/s eta 0:00:11\n",
      "   ------------------ --------------------- 19.8/42.2 MB 2.1 MB/s eta 0:00:11\n",
      "   ------------------ --------------------- 19.9/42.2 MB 2.1 MB/s eta 0:00:11\n",
      "   ------------------ --------------------- 19.9/42.2 MB 2.1 MB/s eta 0:00:11\n",
      "   ------------------ --------------------- 20.0/42.2 MB 2.1 MB/s eta 0:00:11\n",
      "   ------------------- -------------------- 20.1/42.2 MB 2.1 MB/s eta 0:00:11\n",
      "   ------------------- -------------------- 20.2/42.2 MB 2.1 MB/s eta 0:00:11\n",
      "   ------------------- -------------------- 20.4/42.2 MB 2.1 MB/s eta 0:00:11\n",
      "   ------------------- -------------------- 20.7/42.2 MB 2.1 MB/s eta 0:00:11\n",
      "   ------------------- -------------------- 20.9/42.2 MB 2.1 MB/s eta 0:00:11\n",
      "   ------------------- -------------------- 21.0/42.2 MB 2.1 MB/s eta 0:00:11\n",
      "   -------------------- ------------------- 21.1/42.2 MB 2.1 MB/s eta 0:00:10\n",
      "   -------------------- ------------------- 21.2/42.2 MB 2.1 MB/s eta 0:00:11\n",
      "   -------------------- ------------------- 21.3/42.2 MB 2.1 MB/s eta 0:00:11\n",
      "   -------------------- ------------------- 21.4/42.2 MB 2.1 MB/s eta 0:00:11\n",
      "   -------------------- ------------------- 21.5/42.2 MB 2.1 MB/s eta 0:00:10\n",
      "   -------------------- ------------------- 21.7/42.2 MB 2.1 MB/s eta 0:00:10\n",
      "   -------------------- ------------------- 21.9/42.2 MB 2.1 MB/s eta 0:00:10\n",
      "   -------------------- ------------------- 22.1/42.2 MB 2.1 MB/s eta 0:00:10\n",
      "   --------------------- ------------------ 22.2/42.2 MB 2.1 MB/s eta 0:00:10\n",
      "   --------------------- ------------------ 22.4/42.2 MB 2.1 MB/s eta 0:00:10\n",
      "   --------------------- ------------------ 22.5/42.2 MB 2.1 MB/s eta 0:00:10\n",
      "   --------------------- ------------------ 22.6/42.2 MB 2.1 MB/s eta 0:00:10\n",
      "   --------------------- ------------------ 22.9/42.2 MB 2.1 MB/s eta 0:00:10\n",
      "   --------------------- ------------------ 23.1/42.2 MB 2.4 MB/s eta 0:00:08\n",
      "   ---------------------- ----------------- 23.3/42.2 MB 2.4 MB/s eta 0:00:08\n",
      "   ---------------------- ----------------- 23.5/42.2 MB 2.3 MB/s eta 0:00:09\n",
      "   ---------------------- ----------------- 23.6/42.2 MB 2.3 MB/s eta 0:00:09\n",
      "   ---------------------- ----------------- 23.9/42.2 MB 2.3 MB/s eta 0:00:09\n",
      "   ---------------------- ----------------- 24.1/42.2 MB 2.2 MB/s eta 0:00:09\n",
      "   ----------------------- ---------------- 24.3/42.2 MB 2.3 MB/s eta 0:00:08\n",
      "   ----------------------- ---------------- 24.5/42.2 MB 2.3 MB/s eta 0:00:08\n",
      "   ----------------------- ---------------- 24.6/42.2 MB 2.3 MB/s eta 0:00:08\n",
      "   ----------------------- ---------------- 24.7/42.2 MB 2.3 MB/s eta 0:00:08\n",
      "   ----------------------- ---------------- 24.8/42.2 MB 2.3 MB/s eta 0:00:08\n",
      "   ----------------------- ---------------- 25.0/42.2 MB 2.3 MB/s eta 0:00:08\n",
      "   ----------------------- ---------------- 25.2/42.2 MB 2.3 MB/s eta 0:00:08\n",
      "   ------------------------ --------------- 25.5/42.2 MB 2.3 MB/s eta 0:00:08\n",
      "   ------------------------ --------------- 25.7/42.2 MB 2.4 MB/s eta 0:00:07\n",
      "   ------------------------ --------------- 25.8/42.2 MB 2.4 MB/s eta 0:00:07\n",
      "   ------------------------ --------------- 25.9/42.2 MB 2.3 MB/s eta 0:00:07\n",
      "   ------------------------ --------------- 26.1/42.2 MB 2.3 MB/s eta 0:00:07\n",
      "   ------------------------ --------------- 26.2/42.2 MB 2.4 MB/s eta 0:00:07\n",
      "   ------------------------- -------------- 26.4/42.2 MB 2.4 MB/s eta 0:00:07\n",
      "   ------------------------- -------------- 26.6/42.2 MB 2.5 MB/s eta 0:00:07\n",
      "   ------------------------- -------------- 26.7/42.2 MB 2.6 MB/s eta 0:00:06\n",
      "   ------------------------- -------------- 26.9/42.2 MB 2.6 MB/s eta 0:00:06\n",
      "   ------------------------- -------------- 27.0/42.2 MB 2.7 MB/s eta 0:00:06\n",
      "   ------------------------- -------------- 27.2/42.2 MB 2.7 MB/s eta 0:00:06\n",
      "   ------------------------- -------------- 27.4/42.2 MB 2.7 MB/s eta 0:00:06\n",
      "   -------------------------- ------------- 27.6/42.2 MB 2.8 MB/s eta 0:00:06\n",
      "   -------------------------- ------------- 27.7/42.2 MB 2.8 MB/s eta 0:00:06\n",
      "   -------------------------- ------------- 27.8/42.2 MB 2.8 MB/s eta 0:00:06\n",
      "   -------------------------- ------------- 28.0/42.2 MB 2.8 MB/s eta 0:00:06\n",
      "   -------------------------- ------------- 28.1/42.2 MB 2.8 MB/s eta 0:00:06\n",
      "   -------------------------- ------------- 28.3/42.2 MB 2.8 MB/s eta 0:00:06\n",
      "   -------------------------- ------------- 28.5/42.2 MB 2.8 MB/s eta 0:00:05\n",
      "   --------------------------- ------------ 28.7/42.2 MB 2.9 MB/s eta 0:00:05\n",
      "   --------------------------- ------------ 28.9/42.2 MB 2.9 MB/s eta 0:00:05\n",
      "   --------------------------- ------------ 29.0/42.2 MB 2.9 MB/s eta 0:00:05\n",
      "   --------------------------- ------------ 29.2/42.2 MB 2.9 MB/s eta 0:00:05\n",
      "   --------------------------- ------------ 29.4/42.2 MB 3.0 MB/s eta 0:00:05\n",
      "   ---------------------------- ----------- 29.6/42.2 MB 3.1 MB/s eta 0:00:05\n",
      "   ---------------------------- ----------- 29.8/42.2 MB 3.1 MB/s eta 0:00:05\n",
      "   ---------------------------- ----------- 29.9/42.2 MB 3.1 MB/s eta 0:00:05\n",
      "   ---------------------------- ----------- 30.0/42.2 MB 3.1 MB/s eta 0:00:04\n",
      "   ---------------------------- ----------- 30.3/42.2 MB 3.2 MB/s eta 0:00:04\n",
      "   ---------------------------- ----------- 30.5/42.2 MB 3.2 MB/s eta 0:00:04\n",
      "   ----------------------------- ---------- 30.6/42.2 MB 3.2 MB/s eta 0:00:04\n",
      "   ----------------------------- ---------- 30.8/42.2 MB 3.2 MB/s eta 0:00:04\n",
      "   ----------------------------- ---------- 30.8/42.2 MB 3.2 MB/s eta 0:00:04\n",
      "   ----------------------------- ---------- 30.9/42.2 MB 3.2 MB/s eta 0:00:04\n",
      "   ----------------------------- ---------- 31.0/42.2 MB 3.1 MB/s eta 0:00:04\n",
      "   ----------------------------- ---------- 31.3/42.2 MB 3.2 MB/s eta 0:00:04\n",
      "   ----------------------------- ---------- 31.5/42.2 MB 3.2 MB/s eta 0:00:04\n",
      "   ------------------------------ --------- 31.7/42.2 MB 3.3 MB/s eta 0:00:04\n",
      "   ------------------------------ --------- 31.9/42.2 MB 3.3 MB/s eta 0:00:04\n",
      "   ------------------------------ --------- 32.0/42.2 MB 3.2 MB/s eta 0:00:04\n",
      "   ------------------------------ --------- 32.0/42.2 MB 3.2 MB/s eta 0:00:04\n",
      "   ------------------------------ --------- 32.0/42.2 MB 3.1 MB/s eta 0:00:04\n",
      "   ------------------------------ --------- 32.2/42.2 MB 3.1 MB/s eta 0:00:04\n",
      "   ------------------------------ --------- 32.3/42.2 MB 3.1 MB/s eta 0:00:04\n",
      "   ------------------------------ --------- 32.3/42.2 MB 3.1 MB/s eta 0:00:04\n",
      "   ------------------------------ --------- 32.5/42.2 MB 3.1 MB/s eta 0:00:04\n",
      "   ------------------------------ --------- 32.7/42.2 MB 3.1 MB/s eta 0:00:04\n",
      "   ------------------------------- -------- 32.9/42.2 MB 3.1 MB/s eta 0:00:03\n",
      "   ------------------------------- -------- 33.1/42.2 MB 3.1 MB/s eta 0:00:03\n",
      "   ------------------------------- -------- 33.2/42.2 MB 3.1 MB/s eta 0:00:03\n",
      "   ------------------------------- -------- 33.3/42.2 MB 3.1 MB/s eta 0:00:03\n",
      "   ------------------------------- -------- 33.4/42.2 MB 3.1 MB/s eta 0:00:03\n",
      "   ------------------------------- -------- 33.5/42.2 MB 3.1 MB/s eta 0:00:03\n",
      "   ------------------------------- -------- 33.6/42.2 MB 3.0 MB/s eta 0:00:03\n",
      "   -------------------------------- ------- 33.8/42.2 MB 3.1 MB/s eta 0:00:03\n",
      "   -------------------------------- ------- 33.9/42.2 MB 3.1 MB/s eta 0:00:03\n",
      "   -------------------------------- ------- 34.0/42.2 MB 3.1 MB/s eta 0:00:03\n",
      "   -------------------------------- ------- 34.1/42.2 MB 3.0 MB/s eta 0:00:03\n",
      "   -------------------------------- ------- 34.3/42.2 MB 3.0 MB/s eta 0:00:03\n",
      "   -------------------------------- ------- 34.5/42.2 MB 3.0 MB/s eta 0:00:03\n",
      "   -------------------------------- ------- 34.6/42.2 MB 3.0 MB/s eta 0:00:03\n",
      "   --------------------------------- ------ 34.9/42.2 MB 3.1 MB/s eta 0:00:03\n",
      "   --------------------------------- ------ 35.0/42.2 MB 3.1 MB/s eta 0:00:03\n",
      "   --------------------------------- ------ 35.2/42.2 MB 3.1 MB/s eta 0:00:03\n",
      "   --------------------------------- ------ 35.2/42.2 MB 3.1 MB/s eta 0:00:03\n",
      "   --------------------------------- ------ 35.3/42.2 MB 3.1 MB/s eta 0:00:03\n",
      "   --------------------------------- ------ 35.4/42.2 MB 3.1 MB/s eta 0:00:03\n",
      "   --------------------------------- ------ 35.6/42.2 MB 3.0 MB/s eta 0:00:03\n",
      "   --------------------------------- ------ 35.9/42.2 MB 3.0 MB/s eta 0:00:03\n",
      "   ---------------------------------- ----- 36.1/42.2 MB 3.1 MB/s eta 0:00:02\n",
      "   ---------------------------------- ----- 36.2/42.2 MB 3.1 MB/s eta 0:00:02\n",
      "   ---------------------------------- ----- 36.3/42.2 MB 3.1 MB/s eta 0:00:02\n",
      "   ---------------------------------- ----- 36.4/42.2 MB 3.1 MB/s eta 0:00:02\n",
      "   ---------------------------------- ----- 36.4/42.2 MB 3.0 MB/s eta 0:00:02\n",
      "   ---------------------------------- ----- 36.6/42.2 MB 3.0 MB/s eta 0:00:02\n",
      "   ---------------------------------- ----- 36.7/42.2 MB 3.0 MB/s eta 0:00:02\n",
      "   ----------------------------------- ---- 36.9/42.2 MB 3.0 MB/s eta 0:00:02\n",
      "   ----------------------------------- ---- 37.1/42.2 MB 3.0 MB/s eta 0:00:02\n",
      "   ----------------------------------- ---- 37.2/42.2 MB 3.0 MB/s eta 0:00:02\n",
      "   ----------------------------------- ---- 37.4/42.2 MB 3.1 MB/s eta 0:00:02\n",
      "   ----------------------------------- ---- 37.6/42.2 MB 3.0 MB/s eta 0:00:02\n",
      "   ----------------------------------- ---- 37.7/42.2 MB 3.0 MB/s eta 0:00:02\n",
      "   ----------------------------------- ---- 37.9/42.2 MB 3.0 MB/s eta 0:00:02\n",
      "   ------------------------------------ --- 38.0/42.2 MB 3.0 MB/s eta 0:00:02\n",
      "   ------------------------------------ --- 38.2/42.2 MB 3.0 MB/s eta 0:00:02\n",
      "   ------------------------------------ --- 38.3/42.2 MB 3.0 MB/s eta 0:00:02\n",
      "   ------------------------------------ --- 38.4/42.2 MB 3.0 MB/s eta 0:00:02\n",
      "   ------------------------------------ --- 38.5/42.2 MB 3.0 MB/s eta 0:00:02\n",
      "   ------------------------------------ --- 38.7/42.2 MB 3.0 MB/s eta 0:00:02\n",
      "   ------------------------------------ --- 38.8/42.2 MB 3.0 MB/s eta 0:00:02\n",
      "   ------------------------------------ --- 38.9/42.2 MB 2.9 MB/s eta 0:00:02\n",
      "   ------------------------------------- -- 39.2/42.2 MB 3.0 MB/s eta 0:00:02\n",
      "   ------------------------------------- -- 39.5/42.2 MB 3.0 MB/s eta 0:00:01\n",
      "   ------------------------------------- -- 39.6/42.2 MB 3.0 MB/s eta 0:00:01\n",
      "   ------------------------------------- -- 39.7/42.2 MB 3.0 MB/s eta 0:00:01\n",
      "   ------------------------------------- -- 39.9/42.2 MB 3.0 MB/s eta 0:00:01\n",
      "   ------------------------------------- -- 40.0/42.2 MB 2.9 MB/s eta 0:00:01\n",
      "   -------------------------------------- - 40.2/42.2 MB 3.0 MB/s eta 0:00:01\n",
      "   -------------------------------------- - 40.5/42.2 MB 3.0 MB/s eta 0:00:01\n",
      "   -------------------------------------- - 40.6/42.2 MB 3.0 MB/s eta 0:00:01\n",
      "   -------------------------------------- - 40.9/42.2 MB 3.0 MB/s eta 0:00:01\n",
      "   -------------------------------------- - 41.1/42.2 MB 3.0 MB/s eta 0:00:01\n",
      "   ---------------------------------------  41.2/42.2 MB 3.0 MB/s eta 0:00:01\n",
      "   ---------------------------------------  41.4/42.2 MB 3.0 MB/s eta 0:00:01\n",
      "   ---------------------------------------  41.6/42.2 MB 3.0 MB/s eta 0:00:01\n",
      "   ---------------------------------------  41.9/42.2 MB 3.0 MB/s eta 0:00:01\n",
      "   ---------------------------------------  42.1/42.2 MB 3.0 MB/s eta 0:00:01\n",
      "   ---------------------------------------  42.2/42.2 MB 3.0 MB/s eta 0:00:01\n",
      "   ---------------------------------------  42.2/42.2 MB 3.0 MB/s eta 0:00:01\n",
      "   ---------------------------------------- 42.2/42.2 MB 2.9 MB/s eta 0:00:00\n",
      "Downloading threadpoolctl-3.4.0-py3-none-any.whl (17 kB)\n",
      "Installing collected packages: threadpoolctl, scipy, joblib, scikit-learn\n",
      "Successfully installed joblib-1.4.0 scikit-learn-1.3.2 scipy-1.10.1 threadpoolctl-3.4.0\n",
      "\n"
     ]
    }
   ],
   "source": [
    "pip install scikit-learn\n"
   ]
  },
  {
   "cell_type": "code",
   "execution_count": 173,
   "id": "9d7cdbc5-bd74-4d6b-8a96-33204507ca4b",
   "metadata": {},
   "outputs": [],
   "source": [
    "from sklearn.preprocessing import LabelEncoder\n",
    "\n",
    "lb_Brand=LabelEncoder()\n"
   ]
  },
  {
   "cell_type": "code",
   "execution_count": 174,
   "id": "3fa3f919-1ec1-4ddc-b680-698af9f13f34",
   "metadata": {},
   "outputs": [],
   "source": [
    "\n",
    "df['Brand_T'] = lb_Brand.fit_transform(df['Brand'])"
   ]
  },
  {
   "cell_type": "code",
   "execution_count": 175,
   "id": "32fc5fd0-786f-4e09-a7d7-bbbcd97b0396",
   "metadata": {},
   "outputs": [
    {
     "data": {
      "text/html": [
       "<div>\n",
       "<style scoped>\n",
       "    .dataframe tbody tr th:only-of-type {\n",
       "        vertical-align: middle;\n",
       "    }\n",
       "\n",
       "    .dataframe tbody tr th {\n",
       "        vertical-align: top;\n",
       "    }\n",
       "\n",
       "    .dataframe thead th {\n",
       "        text-align: right;\n",
       "    }\n",
       "</style>\n",
       "<table border=\"1\" class=\"dataframe\">\n",
       "  <thead>\n",
       "    <tr style=\"text-align: right;\">\n",
       "      <th></th>\n",
       "      <th>Brand</th>\n",
       "      <th>Storage</th>\n",
       "      <th>RAM</th>\n",
       "      <th>Battery Capacity (mAh)</th>\n",
       "      <th>Price ($)</th>\n",
       "      <th>Brand_T</th>\n",
       "    </tr>\n",
       "  </thead>\n",
       "  <tbody>\n",
       "    <tr>\n",
       "      <th>0</th>\n",
       "      <td>Apple</td>\n",
       "      <td>128</td>\n",
       "      <td>6</td>\n",
       "      <td>3000</td>\n",
       "      <td>999</td>\n",
       "      <td>0</td>\n",
       "    </tr>\n",
       "    <tr>\n",
       "      <th>1</th>\n",
       "      <td>Samsung</td>\n",
       "      <td>256</td>\n",
       "      <td>12</td>\n",
       "      <td>5000</td>\n",
       "      <td>1199</td>\n",
       "      <td>8</td>\n",
       "    </tr>\n",
       "    <tr>\n",
       "      <th>2</th>\n",
       "      <td>OnePlus</td>\n",
       "      <td>128</td>\n",
       "      <td>8</td>\n",
       "      <td>4000</td>\n",
       "      <td>899</td>\n",
       "      <td>4</td>\n",
       "    </tr>\n",
       "    <tr>\n",
       "      <th>3</th>\n",
       "      <td>Xiaomi</td>\n",
       "      <td>128</td>\n",
       "      <td>6</td>\n",
       "      <td>5000</td>\n",
       "      <td>279</td>\n",
       "      <td>10</td>\n",
       "    </tr>\n",
       "    <tr>\n",
       "      <th>4</th>\n",
       "      <td>Other</td>\n",
       "      <td>128</td>\n",
       "      <td>8</td>\n",
       "      <td>4000</td>\n",
       "      <td>799</td>\n",
       "      <td>6</td>\n",
       "    </tr>\n",
       "  </tbody>\n",
       "</table>\n",
       "</div>"
      ],
      "text/plain": [
       "     Brand  Storage   RAM   Battery Capacity (mAh)  Price ($)  Brand_T\n",
       "0    Apple       128     6                    3000        999        0\n",
       "1  Samsung       256    12                    5000       1199        8\n",
       "2  OnePlus       128     8                    4000        899        4\n",
       "3   Xiaomi       128     6                    5000        279       10\n",
       "4    Other       128     8                    4000        799        6"
      ]
     },
     "execution_count": 175,
     "metadata": {},
     "output_type": "execute_result"
    }
   ],
   "source": [
    "df.head()"
   ]
  },
  {
   "cell_type": "code",
   "execution_count": 176,
   "id": "8b22b292-08c6-4d64-b350-0b9f77275ace",
   "metadata": {},
   "outputs": [],
   "source": [
    "# Drop Brand Column\n",
    "df = df.drop(columns=['Brand'])"
   ]
  },
  {
   "cell_type": "code",
   "execution_count": 177,
   "id": "bc5e4b07-ffb5-460c-bc37-161fc8a92fc0",
   "metadata": {},
   "outputs": [
    {
     "data": {
      "text/html": [
       "<div>\n",
       "<style scoped>\n",
       "    .dataframe tbody tr th:only-of-type {\n",
       "        vertical-align: middle;\n",
       "    }\n",
       "\n",
       "    .dataframe tbody tr th {\n",
       "        vertical-align: top;\n",
       "    }\n",
       "\n",
       "    .dataframe thead th {\n",
       "        text-align: right;\n",
       "    }\n",
       "</style>\n",
       "<table border=\"1\" class=\"dataframe\">\n",
       "  <thead>\n",
       "    <tr style=\"text-align: right;\">\n",
       "      <th></th>\n",
       "      <th>Storage</th>\n",
       "      <th>RAM</th>\n",
       "      <th>Battery Capacity (mAh)</th>\n",
       "      <th>Price ($)</th>\n",
       "      <th>Brand_T</th>\n",
       "    </tr>\n",
       "  </thead>\n",
       "  <tbody>\n",
       "    <tr>\n",
       "      <th>0</th>\n",
       "      <td>128</td>\n",
       "      <td>6</td>\n",
       "      <td>3000</td>\n",
       "      <td>999</td>\n",
       "      <td>0</td>\n",
       "    </tr>\n",
       "    <tr>\n",
       "      <th>1</th>\n",
       "      <td>256</td>\n",
       "      <td>12</td>\n",
       "      <td>5000</td>\n",
       "      <td>1199</td>\n",
       "      <td>8</td>\n",
       "    </tr>\n",
       "    <tr>\n",
       "      <th>2</th>\n",
       "      <td>128</td>\n",
       "      <td>8</td>\n",
       "      <td>4000</td>\n",
       "      <td>899</td>\n",
       "      <td>4</td>\n",
       "    </tr>\n",
       "    <tr>\n",
       "      <th>3</th>\n",
       "      <td>128</td>\n",
       "      <td>6</td>\n",
       "      <td>5000</td>\n",
       "      <td>279</td>\n",
       "      <td>10</td>\n",
       "    </tr>\n",
       "    <tr>\n",
       "      <th>4</th>\n",
       "      <td>128</td>\n",
       "      <td>8</td>\n",
       "      <td>4000</td>\n",
       "      <td>799</td>\n",
       "      <td>6</td>\n",
       "    </tr>\n",
       "  </tbody>\n",
       "</table>\n",
       "</div>"
      ],
      "text/plain": [
       "   Storage   RAM   Battery Capacity (mAh)  Price ($)  Brand_T\n",
       "0       128     6                    3000        999        0\n",
       "1       256    12                    5000       1199        8\n",
       "2       128     8                    4000        899        4\n",
       "3       128     6                    5000        279       10\n",
       "4       128     8                    4000        799        6"
      ]
     },
     "execution_count": 177,
     "metadata": {},
     "output_type": "execute_result"
    }
   ],
   "source": [
    "df.head()"
   ]
  },
  {
   "cell_type": "markdown",
   "id": "bff777e9-8d2c-489b-a7e6-14d41225aaa7",
   "metadata": {},
   "source": [
    "# Model Building and Selection"
   ]
  },
  {
   "cell_type": "code",
   "execution_count": 179,
   "id": "6637636f-8c9d-4925-a217-819fa7bf1160",
   "metadata": {},
   "outputs": [],
   "source": [
    "X = df.drop('Price ($)', axis=1)\n",
    "Y = df['Price ($)']"
   ]
  },
  {
   "cell_type": "code",
   "execution_count": 182,
   "id": "3bd64f3c-3917-4f80-acd6-04578530eda2",
   "metadata": {},
   "outputs": [
    {
     "data": {
      "text/html": [
       "<div>\n",
       "<style scoped>\n",
       "    .dataframe tbody tr th:only-of-type {\n",
       "        vertical-align: middle;\n",
       "    }\n",
       "\n",
       "    .dataframe tbody tr th {\n",
       "        vertical-align: top;\n",
       "    }\n",
       "\n",
       "    .dataframe thead th {\n",
       "        text-align: right;\n",
       "    }\n",
       "</style>\n",
       "<table border=\"1\" class=\"dataframe\">\n",
       "  <thead>\n",
       "    <tr style=\"text-align: right;\">\n",
       "      <th></th>\n",
       "      <th>Storage</th>\n",
       "      <th>RAM</th>\n",
       "      <th>Battery Capacity (mAh)</th>\n",
       "      <th>Brand_T</th>\n",
       "    </tr>\n",
       "  </thead>\n",
       "  <tbody>\n",
       "    <tr>\n",
       "      <th>0</th>\n",
       "      <td>128</td>\n",
       "      <td>6</td>\n",
       "      <td>3000</td>\n",
       "      <td>0</td>\n",
       "    </tr>\n",
       "    <tr>\n",
       "      <th>1</th>\n",
       "      <td>256</td>\n",
       "      <td>12</td>\n",
       "      <td>5000</td>\n",
       "      <td>8</td>\n",
       "    </tr>\n",
       "    <tr>\n",
       "      <th>2</th>\n",
       "      <td>128</td>\n",
       "      <td>8</td>\n",
       "      <td>4000</td>\n",
       "      <td>4</td>\n",
       "    </tr>\n",
       "    <tr>\n",
       "      <th>3</th>\n",
       "      <td>128</td>\n",
       "      <td>6</td>\n",
       "      <td>5000</td>\n",
       "      <td>10</td>\n",
       "    </tr>\n",
       "    <tr>\n",
       "      <th>4</th>\n",
       "      <td>128</td>\n",
       "      <td>8</td>\n",
       "      <td>4000</td>\n",
       "      <td>6</td>\n",
       "    </tr>\n",
       "    <tr>\n",
       "      <th>...</th>\n",
       "      <td>...</td>\n",
       "      <td>...</td>\n",
       "      <td>...</td>\n",
       "      <td>...</td>\n",
       "    </tr>\n",
       "    <tr>\n",
       "      <th>402</th>\n",
       "      <td>128</td>\n",
       "      <td>8</td>\n",
       "      <td>4000</td>\n",
       "      <td>8</td>\n",
       "    </tr>\n",
       "    <tr>\n",
       "      <th>403</th>\n",
       "      <td>128</td>\n",
       "      <td>6</td>\n",
       "      <td>4000</td>\n",
       "      <td>10</td>\n",
       "    </tr>\n",
       "    <tr>\n",
       "      <th>404</th>\n",
       "      <td>128</td>\n",
       "      <td>6</td>\n",
       "      <td>3000</td>\n",
       "      <td>0</td>\n",
       "    </tr>\n",
       "    <tr>\n",
       "      <th>405</th>\n",
       "      <td>128</td>\n",
       "      <td>8</td>\n",
       "      <td>4000</td>\n",
       "      <td>5</td>\n",
       "    </tr>\n",
       "    <tr>\n",
       "      <th>406</th>\n",
       "      <td>128</td>\n",
       "      <td>6</td>\n",
       "      <td>4000</td>\n",
       "      <td>8</td>\n",
       "    </tr>\n",
       "  </tbody>\n",
       "</table>\n",
       "<p>407 rows × 4 columns</p>\n",
       "</div>"
      ],
      "text/plain": [
       "     Storage   RAM   Battery Capacity (mAh)  Brand_T\n",
       "0         128     6                    3000        0\n",
       "1         256    12                    5000        8\n",
       "2         128     8                    4000        4\n",
       "3         128     6                    5000       10\n",
       "4         128     8                    4000        6\n",
       "..        ...   ...                     ...      ...\n",
       "402       128     8                    4000        8\n",
       "403       128     6                    4000       10\n",
       "404       128     6                    3000        0\n",
       "405       128     8                    4000        5\n",
       "406       128     6                    4000        8\n",
       "\n",
       "[407 rows x 4 columns]"
      ]
     },
     "execution_count": 182,
     "metadata": {},
     "output_type": "execute_result"
    }
   ],
   "source": [
    "X"
   ]
  },
  {
   "cell_type": "code",
   "execution_count": 183,
   "id": "29629f52-0973-459f-85ec-80c6a2c4a447",
   "metadata": {},
   "outputs": [
    {
     "data": {
      "text/plain": [
       "0       999\n",
       "1      1199\n",
       "2       899\n",
       "3       279\n",
       "4       799\n",
       "       ... \n",
       "402    1049\n",
       "403     349\n",
       "404    1099\n",
       "405     429\n",
       "406     649\n",
       "Name: Price ($), Length: 407, dtype: int64"
      ]
     },
     "execution_count": 183,
     "metadata": {},
     "output_type": "execute_result"
    }
   ],
   "source": [
    "Y"
   ]
  },
  {
   "cell_type": "markdown",
   "id": "65bba714-1dfd-4c4c-927c-539530e66f8e",
   "metadata": {},
   "source": [
    "# Divide dataset into training and testing set"
   ]
  },
  {
   "cell_type": "code",
   "execution_count": 204,
   "id": "e5e0b0da-3cc7-45cc-a888-583707907e24",
   "metadata": {},
   "outputs": [],
   "source": [
    "from sklearn.model_selection import train_test_split\n",
    "\n",
    "x_train,x_test,y_train,y_test=train_test_split(X,Y,test_size=0.25,random_state=42)"
   ]
  },
  {
   "cell_type": "code",
   "execution_count": 205,
   "id": "c4714b05-6ca3-4883-b00a-4a7e7f1d3fef",
   "metadata": {},
   "outputs": [
    {
     "data": {
      "text/plain": [
       "(305, 4)"
      ]
     },
     "execution_count": 205,
     "metadata": {},
     "output_type": "execute_result"
    }
   ],
   "source": [
    "\n",
    "x_train.shape"
   ]
  },
  {
   "cell_type": "code",
   "execution_count": 206,
   "id": "5e1d5b4f-4c14-4ce0-9c13-bcc425103e04",
   "metadata": {},
   "outputs": [
    {
     "data": {
      "text/plain": [
       "(305,)"
      ]
     },
     "execution_count": 206,
     "metadata": {},
     "output_type": "execute_result"
    }
   ],
   "source": [
    "y_train.shape"
   ]
  },
  {
   "cell_type": "code",
   "execution_count": 207,
   "id": "32c2d193-6c46-428c-92ea-a077727528eb",
   "metadata": {},
   "outputs": [
    {
     "data": {
      "text/plain": [
       "(102, 4)"
      ]
     },
     "execution_count": 207,
     "metadata": {},
     "output_type": "execute_result"
    }
   ],
   "source": [
    "x_test.shape"
   ]
  },
  {
   "cell_type": "code",
   "execution_count": 189,
   "id": "2402fbb8-5e78-46f9-bbf4-34bf3af2bad6",
   "metadata": {},
   "outputs": [
    {
     "data": {
      "text/plain": [
       "(102,)"
      ]
     },
     "execution_count": 189,
     "metadata": {},
     "output_type": "execute_result"
    }
   ],
   "source": [
    "y_test.shape"
   ]
  },
  {
   "cell_type": "code",
   "execution_count": 211,
   "id": "801f0a45-0425-46c8-8635-24b3b973fc73",
   "metadata": {},
   "outputs": [
    {
     "data": {
      "text/html": [
       "<div>\n",
       "<style scoped>\n",
       "    .dataframe tbody tr th:only-of-type {\n",
       "        vertical-align: middle;\n",
       "    }\n",
       "\n",
       "    .dataframe tbody tr th {\n",
       "        vertical-align: top;\n",
       "    }\n",
       "\n",
       "    .dataframe thead th {\n",
       "        text-align: right;\n",
       "    }\n",
       "</style>\n",
       "<table border=\"1\" class=\"dataframe\">\n",
       "  <thead>\n",
       "    <tr style=\"text-align: right;\">\n",
       "      <th></th>\n",
       "      <th>Storage</th>\n",
       "      <th>RAM</th>\n",
       "      <th>Battery Capacity (mAh)</th>\n",
       "      <th>Brand_T</th>\n",
       "    </tr>\n",
       "  </thead>\n",
       "  <tbody>\n",
       "    <tr>\n",
       "      <th>70</th>\n",
       "      <td>128</td>\n",
       "      <td>4</td>\n",
       "      <td>6000</td>\n",
       "      <td>7</td>\n",
       "    </tr>\n",
       "    <tr>\n",
       "      <th>218</th>\n",
       "      <td>64</td>\n",
       "      <td>4</td>\n",
       "      <td>5000</td>\n",
       "      <td>10</td>\n",
       "    </tr>\n",
       "    <tr>\n",
       "      <th>258</th>\n",
       "      <td>128</td>\n",
       "      <td>8</td>\n",
       "      <td>6000</td>\n",
       "      <td>8</td>\n",
       "    </tr>\n",
       "    <tr>\n",
       "      <th>33</th>\n",
       "      <td>128</td>\n",
       "      <td>6</td>\n",
       "      <td>5000</td>\n",
       "      <td>5</td>\n",
       "    </tr>\n",
       "    <tr>\n",
       "      <th>42</th>\n",
       "      <td>64</td>\n",
       "      <td>4</td>\n",
       "      <td>6000</td>\n",
       "      <td>8</td>\n",
       "    </tr>\n",
       "    <tr>\n",
       "      <th>...</th>\n",
       "      <td>...</td>\n",
       "      <td>...</td>\n",
       "      <td>...</td>\n",
       "      <td>...</td>\n",
       "    </tr>\n",
       "    <tr>\n",
       "      <th>181</th>\n",
       "      <td>128</td>\n",
       "      <td>4</td>\n",
       "      <td>6000</td>\n",
       "      <td>8</td>\n",
       "    </tr>\n",
       "    <tr>\n",
       "      <th>250</th>\n",
       "      <td>32</td>\n",
       "      <td>2</td>\n",
       "      <td>5000</td>\n",
       "      <td>7</td>\n",
       "    </tr>\n",
       "    <tr>\n",
       "      <th>380</th>\n",
       "      <td>64</td>\n",
       "      <td>3</td>\n",
       "      <td>5000</td>\n",
       "      <td>10</td>\n",
       "    </tr>\n",
       "    <tr>\n",
       "      <th>261</th>\n",
       "      <td>32</td>\n",
       "      <td>2</td>\n",
       "      <td>5000</td>\n",
       "      <td>7</td>\n",
       "    </tr>\n",
       "    <tr>\n",
       "      <th>219</th>\n",
       "      <td>128</td>\n",
       "      <td>4</td>\n",
       "      <td>5000</td>\n",
       "      <td>8</td>\n",
       "    </tr>\n",
       "  </tbody>\n",
       "</table>\n",
       "<p>102 rows × 4 columns</p>\n",
       "</div>"
      ],
      "text/plain": [
       "     Storage   RAM   Battery Capacity (mAh)  Brand_T\n",
       "70        128     4                    6000        7\n",
       "218        64     4                    5000       10\n",
       "258       128     8                    6000        8\n",
       "33        128     6                    5000        5\n",
       "42         64     4                    6000        8\n",
       "..        ...   ...                     ...      ...\n",
       "181       128     4                    6000        8\n",
       "250        32     2                    5000        7\n",
       "380        64     3                    5000       10\n",
       "261        32     2                    5000        7\n",
       "219       128     4                    5000        8\n",
       "\n",
       "[102 rows x 4 columns]"
      ]
     },
     "execution_count": 211,
     "metadata": {},
     "output_type": "execute_result"
    }
   ],
   "source": [
    "x_test"
   ]
  },
  {
   "cell_type": "code",
   "execution_count": 213,
   "id": "191a87fd-8525-40eb-bce4-ffb7d9384b3f",
   "metadata": {},
   "outputs": [
    {
     "data": {
      "text/plain": [
       "70     169\n",
       "218    139\n",
       "258    349\n",
       "33     259\n",
       "42     189\n",
       "      ... \n",
       "181    269\n",
       "250     99\n",
       "380    119\n",
       "261     99\n",
       "219    279\n",
       "Name: Price ($), Length: 102, dtype: int64"
      ]
     },
     "execution_count": 213,
     "metadata": {},
     "output_type": "execute_result"
    }
   ],
   "source": [
    "y_test"
   ]
  },
  {
   "cell_type": "markdown",
   "id": "a4b39967-f47e-4fc1-a419-a2aa26acacfa",
   "metadata": {},
   "source": [
    "# model training"
   ]
  },
  {
   "cell_type": "code",
   "execution_count": 208,
   "id": "1dd1a16f-c1b1-46c8-90c0-f3647773011d",
   "metadata": {},
   "outputs": [],
   "source": [
    "def model_acc(model):\n",
    "    model.fit(x_train, y_train)\n",
    "    acc = model.score(x_test, y_test)\n",
    "    print(str(model)+ ' --> ' +str(acc))"
   ]
  },
  {
   "cell_type": "code",
   "execution_count": 210,
   "id": "01617782-ff12-4ac7-9bf8-0e07e9ecf6ca",
   "metadata": {},
   "outputs": [
    {
     "name": "stdout",
     "output_type": "stream",
     "text": [
      "LinearRegression() --> 0.7138888591791481\n",
      "Lasso() --> 0.7142595570364956\n",
      "DecisionTreeRegressor() --> 0.7768291518032642\n",
      "RandomForestRegressor() --> 0.8723628846167013\n"
     ]
    }
   ],
   "source": [
    "\n",
    "\n",
    "from sklearn.linear_model import LinearRegression\n",
    "lr = LinearRegression()\n",
    "model_acc(lr)\n",
    "\n",
    "from sklearn.linear_model import Lasso\n",
    "lasso = Lasso()\n",
    "model_acc(lasso)\n",
    "\n",
    "from sklearn.tree import DecisionTreeRegressor\n",
    "dt = DecisionTreeRegressor()\n",
    "model_acc(dt)\n",
    "\n",
    "from sklearn.ensemble import RandomForestRegressor\n",
    "rf = RandomForestRegressor()\n",
    "model_acc(rf)\n"
   ]
  },
  {
   "cell_type": "markdown",
   "id": "50422429-861e-451e-b683-42b54f06ef97",
   "metadata": {},
   "source": [
    "# RandomForestRegressor model using testing"
   ]
  },
  {
   "cell_type": "code",
   "execution_count": 214,
   "id": "cf110ebf-e20f-4178-9959-ac8e30cb449a",
   "metadata": {},
   "outputs": [
    {
     "name": "stderr",
     "output_type": "stream",
     "text": [
      "C:\\Users\\niman\\Desktop\\Mobile_Price_Predictor\\env\\lib\\site-packages\\sklearn\\base.py:465: UserWarning: X does not have valid feature names, but RandomForestRegressor was fitted with feature names\n",
      "  warnings.warn(\n"
     ]
    },
    {
     "data": {
      "text/plain": [
       "array([168.98571429])"
      ]
     },
     "execution_count": 214,
     "metadata": {},
     "output_type": "execute_result"
    }
   ],
   "source": [
    "predit_value=rf.predict([[128,4,6000,7]])\n",
    "predit_value"
   ]
  },
  {
   "cell_type": "code",
   "execution_count": 218,
   "id": "23958789-dc16-4690-8075-94698413d99f",
   "metadata": {},
   "outputs": [
    {
     "name": "stderr",
     "output_type": "stream",
     "text": [
      "C:\\Users\\niman\\Desktop\\Mobile_Price_Predictor\\env\\lib\\site-packages\\sklearn\\base.py:465: UserWarning: X does not have valid feature names, but RandomForestRegressor was fitted with feature names\n",
      "  warnings.warn(\n"
     ]
    },
    {
     "data": {
      "text/plain": [
       "array([387.33357143])"
      ]
     },
     "execution_count": 218,
     "metadata": {},
     "output_type": "execute_result"
    }
   ],
   "source": [
    "predit_value1=rf.predict([[128,8,6000,8]])\n",
    "predit_value1"
   ]
  },
  {
   "cell_type": "code",
   "execution_count": 220,
   "id": "38c46557-3942-4678-8dda-3cfc3806d87e",
   "metadata": {},
   "outputs": [
    {
     "ename": "ValueError",
     "evalue": "Classification metrics can't handle a mix of multiclass and continuous targets",
     "output_type": "error",
     "traceback": [
      "\u001b[1;31m---------------------------------------------------------------------------\u001b[0m",
      "\u001b[1;31mValueError\u001b[0m                                Traceback (most recent call last)",
      "Cell \u001b[1;32mIn[220], line 4\u001b[0m\n\u001b[0;32m      1\u001b[0m \u001b[38;5;28;01mfrom\u001b[39;00m \u001b[38;5;21;01msklearn\u001b[39;00m\u001b[38;5;21;01m.\u001b[39;00m\u001b[38;5;21;01mmetrics\u001b[39;00m \u001b[38;5;28;01mimport\u001b[39;00m classification_report\n\u001b[0;32m      3\u001b[0m y_pred\u001b[38;5;241m=\u001b[39mdt\u001b[38;5;241m.\u001b[39mpredict(x_test)\n\u001b[1;32m----> 4\u001b[0m \u001b[38;5;28mprint\u001b[39m(\u001b[43mclassification_report\u001b[49m\u001b[43m(\u001b[49m\u001b[43my_test\u001b[49m\u001b[43m,\u001b[49m\u001b[43my_pred\u001b[49m\u001b[43m)\u001b[49m)\n",
      "File \u001b[1;32m~\\Desktop\\Mobile_Price_Predictor\\env\\lib\\site-packages\\sklearn\\utils\\_param_validation.py:214\u001b[0m, in \u001b[0;36mvalidate_params.<locals>.decorator.<locals>.wrapper\u001b[1;34m(*args, **kwargs)\u001b[0m\n\u001b[0;32m    208\u001b[0m \u001b[38;5;28;01mtry\u001b[39;00m:\n\u001b[0;32m    209\u001b[0m     \u001b[38;5;28;01mwith\u001b[39;00m config_context(\n\u001b[0;32m    210\u001b[0m         skip_parameter_validation\u001b[38;5;241m=\u001b[39m(\n\u001b[0;32m    211\u001b[0m             prefer_skip_nested_validation \u001b[38;5;129;01mor\u001b[39;00m global_skip_validation\n\u001b[0;32m    212\u001b[0m         )\n\u001b[0;32m    213\u001b[0m     ):\n\u001b[1;32m--> 214\u001b[0m         \u001b[38;5;28;01mreturn\u001b[39;00m \u001b[43mfunc\u001b[49m\u001b[43m(\u001b[49m\u001b[38;5;241;43m*\u001b[39;49m\u001b[43margs\u001b[49m\u001b[43m,\u001b[49m\u001b[43m \u001b[49m\u001b[38;5;241;43m*\u001b[39;49m\u001b[38;5;241;43m*\u001b[39;49m\u001b[43mkwargs\u001b[49m\u001b[43m)\u001b[49m\n\u001b[0;32m    215\u001b[0m \u001b[38;5;28;01mexcept\u001b[39;00m InvalidParameterError \u001b[38;5;28;01mas\u001b[39;00m e:\n\u001b[0;32m    216\u001b[0m     \u001b[38;5;66;03m# When the function is just a wrapper around an estimator, we allow\u001b[39;00m\n\u001b[0;32m    217\u001b[0m     \u001b[38;5;66;03m# the function to delegate validation to the estimator, but we replace\u001b[39;00m\n\u001b[0;32m    218\u001b[0m     \u001b[38;5;66;03m# the name of the estimator by the name of the function in the error\u001b[39;00m\n\u001b[0;32m    219\u001b[0m     \u001b[38;5;66;03m# message to avoid confusion.\u001b[39;00m\n\u001b[0;32m    220\u001b[0m     msg \u001b[38;5;241m=\u001b[39m re\u001b[38;5;241m.\u001b[39msub(\n\u001b[0;32m    221\u001b[0m         \u001b[38;5;124mr\u001b[39m\u001b[38;5;124m\"\u001b[39m\u001b[38;5;124mparameter of \u001b[39m\u001b[38;5;124m\\\u001b[39m\u001b[38;5;124mw+ must be\u001b[39m\u001b[38;5;124m\"\u001b[39m,\n\u001b[0;32m    222\u001b[0m         \u001b[38;5;124mf\u001b[39m\u001b[38;5;124m\"\u001b[39m\u001b[38;5;124mparameter of \u001b[39m\u001b[38;5;132;01m{\u001b[39;00mfunc\u001b[38;5;241m.\u001b[39m\u001b[38;5;18m__qualname__\u001b[39m\u001b[38;5;132;01m}\u001b[39;00m\u001b[38;5;124m must be\u001b[39m\u001b[38;5;124m\"\u001b[39m,\n\u001b[0;32m    223\u001b[0m         \u001b[38;5;28mstr\u001b[39m(e),\n\u001b[0;32m    224\u001b[0m     )\n",
      "File \u001b[1;32m~\\Desktop\\Mobile_Price_Predictor\\env\\lib\\site-packages\\sklearn\\metrics\\_classification.py:2545\u001b[0m, in \u001b[0;36mclassification_report\u001b[1;34m(y_true, y_pred, labels, target_names, sample_weight, digits, output_dict, zero_division)\u001b[0m\n\u001b[0;32m   2410\u001b[0m \u001b[38;5;129m@validate_params\u001b[39m(\n\u001b[0;32m   2411\u001b[0m     {\n\u001b[0;32m   2412\u001b[0m         \u001b[38;5;124m\"\u001b[39m\u001b[38;5;124my_true\u001b[39m\u001b[38;5;124m\"\u001b[39m: [\u001b[38;5;124m\"\u001b[39m\u001b[38;5;124marray-like\u001b[39m\u001b[38;5;124m\"\u001b[39m, \u001b[38;5;124m\"\u001b[39m\u001b[38;5;124msparse matrix\u001b[39m\u001b[38;5;124m\"\u001b[39m],\n\u001b[1;32m   (...)\u001b[0m\n\u001b[0;32m   2436\u001b[0m     zero_division\u001b[38;5;241m=\u001b[39m\u001b[38;5;124m\"\u001b[39m\u001b[38;5;124mwarn\u001b[39m\u001b[38;5;124m\"\u001b[39m,\n\u001b[0;32m   2437\u001b[0m ):\n\u001b[0;32m   2438\u001b[0m \u001b[38;5;250m    \u001b[39m\u001b[38;5;124;03m\"\"\"Build a text report showing the main classification metrics.\u001b[39;00m\n\u001b[0;32m   2439\u001b[0m \n\u001b[0;32m   2440\u001b[0m \u001b[38;5;124;03m    Read more in the :ref:`User Guide <classification_report>`.\u001b[39;00m\n\u001b[1;32m   (...)\u001b[0m\n\u001b[0;32m   2542\u001b[0m \u001b[38;5;124;03m    <BLANKLINE>\u001b[39;00m\n\u001b[0;32m   2543\u001b[0m \u001b[38;5;124;03m    \"\"\"\u001b[39;00m\n\u001b[1;32m-> 2545\u001b[0m     y_type, y_true, y_pred \u001b[38;5;241m=\u001b[39m \u001b[43m_check_targets\u001b[49m\u001b[43m(\u001b[49m\u001b[43my_true\u001b[49m\u001b[43m,\u001b[49m\u001b[43m \u001b[49m\u001b[43my_pred\u001b[49m\u001b[43m)\u001b[49m\n\u001b[0;32m   2547\u001b[0m     \u001b[38;5;28;01mif\u001b[39;00m labels \u001b[38;5;129;01mis\u001b[39;00m \u001b[38;5;28;01mNone\u001b[39;00m:\n\u001b[0;32m   2548\u001b[0m         labels \u001b[38;5;241m=\u001b[39m unique_labels(y_true, y_pred)\n",
      "File \u001b[1;32m~\\Desktop\\Mobile_Price_Predictor\\env\\lib\\site-packages\\sklearn\\metrics\\_classification.py:93\u001b[0m, in \u001b[0;36m_check_targets\u001b[1;34m(y_true, y_pred)\u001b[0m\n\u001b[0;32m     90\u001b[0m     y_type \u001b[38;5;241m=\u001b[39m {\u001b[38;5;124m\"\u001b[39m\u001b[38;5;124mmulticlass\u001b[39m\u001b[38;5;124m\"\u001b[39m}\n\u001b[0;32m     92\u001b[0m \u001b[38;5;28;01mif\u001b[39;00m \u001b[38;5;28mlen\u001b[39m(y_type) \u001b[38;5;241m>\u001b[39m \u001b[38;5;241m1\u001b[39m:\n\u001b[1;32m---> 93\u001b[0m     \u001b[38;5;28;01mraise\u001b[39;00m \u001b[38;5;167;01mValueError\u001b[39;00m(\n\u001b[0;32m     94\u001b[0m         \u001b[38;5;124m\"\u001b[39m\u001b[38;5;124mClassification metrics can\u001b[39m\u001b[38;5;124m'\u001b[39m\u001b[38;5;124mt handle a mix of \u001b[39m\u001b[38;5;132;01m{0}\u001b[39;00m\u001b[38;5;124m and \u001b[39m\u001b[38;5;132;01m{1}\u001b[39;00m\u001b[38;5;124m targets\u001b[39m\u001b[38;5;124m\"\u001b[39m\u001b[38;5;241m.\u001b[39mformat(\n\u001b[0;32m     95\u001b[0m             type_true, type_pred\n\u001b[0;32m     96\u001b[0m         )\n\u001b[0;32m     97\u001b[0m     )\n\u001b[0;32m     99\u001b[0m \u001b[38;5;66;03m# We can't have more than one value on y_type => The set is no more needed\u001b[39;00m\n\u001b[0;32m    100\u001b[0m y_type \u001b[38;5;241m=\u001b[39m y_type\u001b[38;5;241m.\u001b[39mpop()\n",
      "\u001b[1;31mValueError\u001b[0m: Classification metrics can't handle a mix of multiclass and continuous targets"
     ]
    }
   ],
   "source": []
  },
  {
   "cell_type": "code",
   "execution_count": null,
   "id": "ad23bf78-9a8e-4cec-ab52-9c9cabc185f3",
   "metadata": {},
   "outputs": [],
   "source": []
  }
 ],
 "metadata": {
  "kernelspec": {
   "display_name": "Python 3 (ipykernel)",
   "language": "python",
   "name": "python3"
  },
  "language_info": {
   "codemirror_mode": {
    "name": "ipython",
    "version": 3
   },
   "file_extension": ".py",
   "mimetype": "text/x-python",
   "name": "python",
   "nbconvert_exporter": "python",
   "pygments_lexer": "ipython3",
   "version": "3.8.2"
  }
 },
 "nbformat": 4,
 "nbformat_minor": 5
}
