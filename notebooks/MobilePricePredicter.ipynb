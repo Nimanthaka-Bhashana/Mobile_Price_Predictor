{
 "cells": [
  {
   "cell_type": "markdown",
   "id": "37738426-5fae-4619-9658-8e08503d427d",
   "metadata": {},
   "source": [
    "\n",
    "# <font color=\"yellow\"> <h3 align=\"center\"> Mobile Phone Price Predictor</h3></font>"
   ]
  },
  {
   "cell_type": "markdown",
   "id": "766e4ade-16b4-46fa-9628-5d3f6cf6760c",
   "metadata": {},
   "source": [
    "# <font color='blue'>Load the dataset </font>"
   ]
  },
  {
   "cell_type": "code",
   "execution_count": 157,
   "id": "05944ce0-6847-4bf1-a5ab-f50cbdd14d23",
   "metadata": {},
   "outputs": [
    {
     "data": {
      "text/html": [
       "<div>\n",
       "<style scoped>\n",
       "    .dataframe tbody tr th:only-of-type {\n",
       "        vertical-align: middle;\n",
       "    }\n",
       "\n",
       "    .dataframe tbody tr th {\n",
       "        vertical-align: top;\n",
       "    }\n",
       "\n",
       "    .dataframe thead th {\n",
       "        text-align: right;\n",
       "    }\n",
       "</style>\n",
       "<table border=\"1\" class=\"dataframe\">\n",
       "  <thead>\n",
       "    <tr style=\"text-align: right;\">\n",
       "      <th></th>\n",
       "      <th>Brand</th>\n",
       "      <th>Model</th>\n",
       "      <th>Storage</th>\n",
       "      <th>RAM</th>\n",
       "      <th>Battery Capacity (mAh)</th>\n",
       "      <th>Price ($)</th>\n",
       "    </tr>\n",
       "  </thead>\n",
       "  <tbody>\n",
       "    <tr>\n",
       "      <th>0</th>\n",
       "      <td>Apple</td>\n",
       "      <td>iPhone 13 Pro</td>\n",
       "      <td>128 GB</td>\n",
       "      <td>6 GB</td>\n",
       "      <td>3095</td>\n",
       "      <td>999</td>\n",
       "    </tr>\n",
       "    <tr>\n",
       "      <th>1</th>\n",
       "      <td>Samsung</td>\n",
       "      <td>Galaxy S21 Ultra</td>\n",
       "      <td>256 GB</td>\n",
       "      <td>12 GB</td>\n",
       "      <td>5000</td>\n",
       "      <td>1199</td>\n",
       "    </tr>\n",
       "    <tr>\n",
       "      <th>2</th>\n",
       "      <td>OnePlus</td>\n",
       "      <td>9 Pro</td>\n",
       "      <td>128 GB</td>\n",
       "      <td>8 GB</td>\n",
       "      <td>4500</td>\n",
       "      <td>899</td>\n",
       "    </tr>\n",
       "    <tr>\n",
       "      <th>3</th>\n",
       "      <td>Xiaomi</td>\n",
       "      <td>Redmi Note 10 Pro</td>\n",
       "      <td>128 GB</td>\n",
       "      <td>6 GB</td>\n",
       "      <td>5020</td>\n",
       "      <td>279</td>\n",
       "    </tr>\n",
       "    <tr>\n",
       "      <th>4</th>\n",
       "      <td>Google</td>\n",
       "      <td>Pixel 6</td>\n",
       "      <td>128 GB</td>\n",
       "      <td>8 GB</td>\n",
       "      <td>4614</td>\n",
       "      <td>799</td>\n",
       "    </tr>\n",
       "    <tr>\n",
       "      <th>...</th>\n",
       "      <td>...</td>\n",
       "      <td>...</td>\n",
       "      <td>...</td>\n",
       "      <td>...</td>\n",
       "      <td>...</td>\n",
       "      <td>...</td>\n",
       "    </tr>\n",
       "    <tr>\n",
       "      <th>402</th>\n",
       "      <td>Samsung</td>\n",
       "      <td>Galaxy Note20 5G</td>\n",
       "      <td>128</td>\n",
       "      <td>8</td>\n",
       "      <td>4300</td>\n",
       "      <td>1049</td>\n",
       "    </tr>\n",
       "    <tr>\n",
       "      <th>403</th>\n",
       "      <td>Xiaomi</td>\n",
       "      <td>Mi 10 Lite 5G</td>\n",
       "      <td>128</td>\n",
       "      <td>6</td>\n",
       "      <td>4160</td>\n",
       "      <td>349</td>\n",
       "    </tr>\n",
       "    <tr>\n",
       "      <th>404</th>\n",
       "      <td>Apple</td>\n",
       "      <td>iPhone 12 Pro Max</td>\n",
       "      <td>128</td>\n",
       "      <td>6</td>\n",
       "      <td>3687</td>\n",
       "      <td>1099</td>\n",
       "    </tr>\n",
       "    <tr>\n",
       "      <th>405</th>\n",
       "      <td>Oppo</td>\n",
       "      <td>Reno3</td>\n",
       "      <td>128</td>\n",
       "      <td>8</td>\n",
       "      <td>4025</td>\n",
       "      <td>429</td>\n",
       "    </tr>\n",
       "    <tr>\n",
       "      <th>406</th>\n",
       "      <td>Samsung</td>\n",
       "      <td>Galaxy S10 Lite</td>\n",
       "      <td>128</td>\n",
       "      <td>6</td>\n",
       "      <td>4500</td>\n",
       "      <td>649</td>\n",
       "    </tr>\n",
       "  </tbody>\n",
       "</table>\n",
       "<p>407 rows × 6 columns</p>\n",
       "</div>"
      ],
      "text/plain": [
       "       Brand              Model Storage    RAM   Battery Capacity (mAh)  \\\n",
       "0      Apple      iPhone 13 Pro   128 GB   6 GB                    3095   \n",
       "1    Samsung   Galaxy S21 Ultra   256 GB  12 GB                    5000   \n",
       "2    OnePlus              9 Pro   128 GB   8 GB                    4500   \n",
       "3     Xiaomi  Redmi Note 10 Pro   128 GB   6 GB                    5020   \n",
       "4     Google            Pixel 6   128 GB   8 GB                    4614   \n",
       "..       ...                ...      ...    ...                     ...   \n",
       "402  Samsung   Galaxy Note20 5G      128      8                    4300   \n",
       "403   Xiaomi      Mi 10 Lite 5G      128      6                    4160   \n",
       "404    Apple  iPhone 12 Pro Max      128      6                    3687   \n",
       "405     Oppo              Reno3      128      8                    4025   \n",
       "406  Samsung    Galaxy S10 Lite      128      6                    4500   \n",
       "\n",
       "    Price ($)  \n",
       "0         999  \n",
       "1        1199  \n",
       "2         899  \n",
       "3         279  \n",
       "4         799  \n",
       "..        ...  \n",
       "402      1049  \n",
       "403       349  \n",
       "404      1099  \n",
       "405       429  \n",
       "406       649  \n",
       "\n",
       "[407 rows x 6 columns]"
      ]
     },
     "execution_count": 157,
     "metadata": {},
     "output_type": "execute_result"
    }
   ],
   "source": [
    "import numpy as np\n",
    "import pandas as pd\n",
    "\n",
    "df=pd.read_csv(\"C:/Users/niman/Desktop/Mobile_Price_Predictor/data/Mobile phone price1.csv\");\n",
    "df\n"
   ]
  },
  {
   "cell_type": "code",
   "execution_count": null,
   "id": "14f990be-b20a-42f4-9be1-fd18387eda06",
   "metadata": {},
   "outputs": [],
   "source": []
  },
  {
   "cell_type": "markdown",
   "id": "97628747-d1e3-4932-b011-78115050c2dc",
   "metadata": {},
   "source": [
    "\n",
    "## <font color='blue'> Data Analysis </font>"
   ]
  },
  {
   "cell_type": "code",
   "execution_count": 158,
   "id": "c3e73bee-e7ca-4879-a48e-15bffbdd7388",
   "metadata": {},
   "outputs": [
    {
     "data": {
      "text/plain": [
       "(407, 6)"
      ]
     },
     "execution_count": 158,
     "metadata": {},
     "output_type": "execute_result"
    }
   ],
   "source": [
    "df.shape\n"
   ]
  },
  {
   "cell_type": "code",
   "execution_count": 159,
   "id": "5b8b6230-e577-4a35-af36-2e793301a97f",
   "metadata": {},
   "outputs": [
    {
     "name": "stdout",
     "output_type": "stream",
     "text": [
      "<class 'pandas.core.frame.DataFrame'>\n",
      "RangeIndex: 407 entries, 0 to 406\n",
      "Data columns (total 6 columns):\n",
      " #   Column                  Non-Null Count  Dtype \n",
      "---  ------                  --------------  ----- \n",
      " 0   Brand                   407 non-null    object\n",
      " 1   Model                   407 non-null    object\n",
      " 2   Storage                 407 non-null    object\n",
      " 3   RAM                     407 non-null    object\n",
      " 4   Battery Capacity (mAh)  407 non-null    int64 \n",
      " 5   Price ($)               407 non-null    object\n",
      "dtypes: int64(1), object(5)\n",
      "memory usage: 19.2+ KB\n"
     ]
    }
   ],
   "source": [
    "df.info()"
   ]
  },
  {
   "cell_type": "code",
   "execution_count": 160,
   "id": "5b55238f-0f4d-42a1-a192-b42ae4ddae9d",
   "metadata": {},
   "outputs": [
    {
     "data": {
      "text/html": [
       "<div>\n",
       "<style scoped>\n",
       "    .dataframe tbody tr th:only-of-type {\n",
       "        vertical-align: middle;\n",
       "    }\n",
       "\n",
       "    .dataframe tbody tr th {\n",
       "        vertical-align: top;\n",
       "    }\n",
       "\n",
       "    .dataframe thead th {\n",
       "        text-align: right;\n",
       "    }\n",
       "</style>\n",
       "<table border=\"1\" class=\"dataframe\">\n",
       "  <thead>\n",
       "    <tr style=\"text-align: right;\">\n",
       "      <th></th>\n",
       "      <th>Brand</th>\n",
       "      <th>Model</th>\n",
       "      <th>Storage</th>\n",
       "      <th>RAM</th>\n",
       "      <th>Battery Capacity (mAh)</th>\n",
       "      <th>Price ($)</th>\n",
       "    </tr>\n",
       "  </thead>\n",
       "  <tbody>\n",
       "    <tr>\n",
       "      <th>0</th>\n",
       "      <td>Apple</td>\n",
       "      <td>iPhone 13 Pro</td>\n",
       "      <td>128 GB</td>\n",
       "      <td>6 GB</td>\n",
       "      <td>3095</td>\n",
       "      <td>999</td>\n",
       "    </tr>\n",
       "    <tr>\n",
       "      <th>1</th>\n",
       "      <td>Samsung</td>\n",
       "      <td>Galaxy S21 Ultra</td>\n",
       "      <td>256 GB</td>\n",
       "      <td>12 GB</td>\n",
       "      <td>5000</td>\n",
       "      <td>1199</td>\n",
       "    </tr>\n",
       "    <tr>\n",
       "      <th>2</th>\n",
       "      <td>OnePlus</td>\n",
       "      <td>9 Pro</td>\n",
       "      <td>128 GB</td>\n",
       "      <td>8 GB</td>\n",
       "      <td>4500</td>\n",
       "      <td>899</td>\n",
       "    </tr>\n",
       "    <tr>\n",
       "      <th>3</th>\n",
       "      <td>Xiaomi</td>\n",
       "      <td>Redmi Note 10 Pro</td>\n",
       "      <td>128 GB</td>\n",
       "      <td>6 GB</td>\n",
       "      <td>5020</td>\n",
       "      <td>279</td>\n",
       "    </tr>\n",
       "    <tr>\n",
       "      <th>4</th>\n",
       "      <td>Google</td>\n",
       "      <td>Pixel 6</td>\n",
       "      <td>128 GB</td>\n",
       "      <td>8 GB</td>\n",
       "      <td>4614</td>\n",
       "      <td>799</td>\n",
       "    </tr>\n",
       "  </tbody>\n",
       "</table>\n",
       "</div>"
      ],
      "text/plain": [
       "     Brand              Model Storage    RAM   Battery Capacity (mAh)  \\\n",
       "0    Apple      iPhone 13 Pro   128 GB   6 GB                    3095   \n",
       "1  Samsung   Galaxy S21 Ultra   256 GB  12 GB                    5000   \n",
       "2  OnePlus              9 Pro   128 GB   8 GB                    4500   \n",
       "3   Xiaomi  Redmi Note 10 Pro   128 GB   6 GB                    5020   \n",
       "4   Google            Pixel 6   128 GB   8 GB                    4614   \n",
       "\n",
       "  Price ($)  \n",
       "0       999  \n",
       "1      1199  \n",
       "2       899  \n",
       "3       279  \n",
       "4       799  "
      ]
     },
     "execution_count": 160,
     "metadata": {},
     "output_type": "execute_result"
    }
   ],
   "source": [
    "# Display the first 5 rows of the dataset\n",
    "df.head()"
   ]
  },
  {
   "cell_type": "code",
   "execution_count": null,
   "id": "977d3cbf-8183-45ac-abeb-b54af7ecde7b",
   "metadata": {},
   "outputs": [],
   "source": []
  },
  {
   "cell_type": "code",
   "execution_count": 161,
   "id": "92095f2b-5d29-4fe1-92ed-d9e5a52b90bd",
   "metadata": {},
   "outputs": [
    {
     "data": {
      "text/html": [
       "<div>\n",
       "<style scoped>\n",
       "    .dataframe tbody tr th:only-of-type {\n",
       "        vertical-align: middle;\n",
       "    }\n",
       "\n",
       "    .dataframe tbody tr th {\n",
       "        vertical-align: top;\n",
       "    }\n",
       "\n",
       "    .dataframe thead th {\n",
       "        text-align: right;\n",
       "    }\n",
       "</style>\n",
       "<table border=\"1\" class=\"dataframe\">\n",
       "  <thead>\n",
       "    <tr style=\"text-align: right;\">\n",
       "      <th></th>\n",
       "      <th>Battery Capacity (mAh)</th>\n",
       "    </tr>\n",
       "  </thead>\n",
       "  <tbody>\n",
       "    <tr>\n",
       "      <th>count</th>\n",
       "      <td>407.000000</td>\n",
       "    </tr>\n",
       "    <tr>\n",
       "      <th>mean</th>\n",
       "      <td>4676.476658</td>\n",
       "    </tr>\n",
       "    <tr>\n",
       "      <th>std</th>\n",
       "      <td>797.193713</td>\n",
       "    </tr>\n",
       "    <tr>\n",
       "      <th>min</th>\n",
       "      <td>1821.000000</td>\n",
       "    </tr>\n",
       "    <tr>\n",
       "      <th>25%</th>\n",
       "      <td>4300.000000</td>\n",
       "    </tr>\n",
       "    <tr>\n",
       "      <th>50%</th>\n",
       "      <td>5000.000000</td>\n",
       "    </tr>\n",
       "    <tr>\n",
       "      <th>75%</th>\n",
       "      <td>5000.000000</td>\n",
       "    </tr>\n",
       "    <tr>\n",
       "      <th>max</th>\n",
       "      <td>7000.000000</td>\n",
       "    </tr>\n",
       "  </tbody>\n",
       "</table>\n",
       "</div>"
      ],
      "text/plain": [
       "       Battery Capacity (mAh)\n",
       "count              407.000000\n",
       "mean              4676.476658\n",
       "std                797.193713\n",
       "min               1821.000000\n",
       "25%               4300.000000\n",
       "50%               5000.000000\n",
       "75%               5000.000000\n",
       "max               7000.000000"
      ]
     },
     "execution_count": 161,
     "metadata": {},
     "output_type": "execute_result"
    }
   ],
   "source": [
    "df.describe()"
   ]
  },
  {
   "cell_type": "markdown",
   "id": "27c48467-d0d3-43b4-b105-6d9ff31a5e91",
   "metadata": {},
   "source": [
    "\n",
    "# <font color='blue' > data preprocessing </font>"
   ]
  },
  {
   "cell_type": "markdown",
   "id": "bb42fbb8-ebe4-4dc4-8638-8564b7574eab",
   "metadata": {},
   "source": [
    "### <font color='gree'>dropping the missing values</font>"
   ]
  },
  {
   "cell_type": "markdown",
   "id": "95527f31-c265-4548-8b41-82f94d6cdf3c",
   "metadata": {},
   "source": [
    "\n",
    "df = df.dropna()"
   ]
  },
  {
   "cell_type": "code",
   "execution_count": null,
   "id": "15e2ad18-c064-4891-9b97-32627a8a9fd9",
   "metadata": {},
   "outputs": [],
   "source": []
  },
  {
   "cell_type": "markdown",
   "id": "d2e89bc5-6044-4340-b291-04f3b0ffe68b",
   "metadata": {},
   "source": [
    "\n",
    "### <font color='gree'> Check Null Data Values</font>"
   ]
  },
  {
   "cell_type": "code",
   "execution_count": 162,
   "id": "20c589fe-72b3-4424-aacf-fe913818168d",
   "metadata": {},
   "outputs": [
    {
     "data": {
      "text/plain": [
       "Brand                     0\n",
       "Model                     0\n",
       "Storage                   0\n",
       "RAM                       0\n",
       "Battery Capacity (mAh)    0\n",
       "Price ($)                 0\n",
       "dtype: int64"
      ]
     },
     "execution_count": 162,
     "metadata": {},
     "output_type": "execute_result"
    }
   ],
   "source": [
    "df.isnull().sum()"
   ]
  },
  {
   "cell_type": "code",
   "execution_count": 163,
   "id": "68be99c6-63f1-4d9c-b8d4-a4ba9b5a9281",
   "metadata": {},
   "outputs": [
    {
     "name": "stdout",
     "output_type": "stream",
     "text": [
      "Requirement already satisfied: seaborn in c:\\users\\niman\\desktop\\mobile_price_predictor\\env\\lib\\site-packages (0.13.2)\n",
      "Requirement already satisfied: numpy!=1.24.0,>=1.20 in c:\\users\\niman\\desktop\\mobile_price_predictor\\env\\lib\\site-packages (from seaborn) (1.24.4)\n",
      "Requirement already satisfied: pandas>=1.2 in c:\\users\\niman\\desktop\\mobile_price_predictor\\env\\lib\\site-packages (from seaborn) (2.0.3)\n",
      "Requirement already satisfied: matplotlib!=3.6.1,>=3.4 in c:\\users\\niman\\desktop\\mobile_price_predictor\\env\\lib\\site-packages (from seaborn) (3.7.5)\n",
      "Requirement already satisfied: contourpy>=1.0.1 in c:\\users\\niman\\desktop\\mobile_price_predictor\\env\\lib\\site-packages (from matplotlib!=3.6.1,>=3.4->seaborn) (1.1.1)\n",
      "Requirement already satisfied: cycler>=0.10 in c:\\users\\niman\\desktop\\mobile_price_predictor\\env\\lib\\site-packages (from matplotlib!=3.6.1,>=3.4->seaborn) (0.12.1)\n",
      "Requirement already satisfied: fonttools>=4.22.0 in c:\\users\\niman\\desktop\\mobile_price_predictor\\env\\lib\\site-packages (from matplotlib!=3.6.1,>=3.4->seaborn) (4.51.0)\n",
      "Requirement already satisfied: kiwisolver>=1.0.1 in c:\\users\\niman\\desktop\\mobile_price_predictor\\env\\lib\\site-packages (from matplotlib!=3.6.1,>=3.4->seaborn) (1.4.5)\n",
      "Requirement already satisfied: packaging>=20.0 in c:\\users\\niman\\desktop\\mobile_price_predictor\\env\\lib\\site-packages (from matplotlib!=3.6.1,>=3.4->seaborn) (24.0)\n",
      "Requirement already satisfied: pillow>=6.2.0 in c:\\users\\niman\\desktop\\mobile_price_predictor\\env\\lib\\site-packages (from matplotlib!=3.6.1,>=3.4->seaborn) (10.3.0)\n",
      "Requirement already satisfied: pyparsing>=2.3.1 in c:\\users\\niman\\desktop\\mobile_price_predictor\\env\\lib\\site-packages (from matplotlib!=3.6.1,>=3.4->seaborn) (3.1.2)\n",
      "Requirement already satisfied: python-dateutil>=2.7 in c:\\users\\niman\\desktop\\mobile_price_predictor\\env\\lib\\site-packages (from matplotlib!=3.6.1,>=3.4->seaborn) (2.9.0.post0)\n",
      "Requirement already satisfied: importlib-resources>=3.2.0 in c:\\users\\niman\\desktop\\mobile_price_predictor\\env\\lib\\site-packages (from matplotlib!=3.6.1,>=3.4->seaborn) (6.4.0)\n",
      "Requirement already satisfied: pytz>=2020.1 in c:\\users\\niman\\desktop\\mobile_price_predictor\\env\\lib\\site-packages (from pandas>=1.2->seaborn) (2024.1)\n",
      "Requirement already satisfied: tzdata>=2022.1 in c:\\users\\niman\\desktop\\mobile_price_predictor\\env\\lib\\site-packages (from pandas>=1.2->seaborn) (2024.1)\n",
      "Requirement already satisfied: zipp>=3.1.0 in c:\\users\\niman\\desktop\\mobile_price_predictor\\env\\lib\\site-packages (from importlib-resources>=3.2.0->matplotlib!=3.6.1,>=3.4->seaborn) (3.18.1)\n",
      "Requirement already satisfied: six>=1.5 in c:\\users\\niman\\desktop\\mobile_price_predictor\\env\\lib\\site-packages (from python-dateutil>=2.7->matplotlib!=3.6.1,>=3.4->seaborn) (1.16.0)\n",
      "Note: you may need to restart the kernel to use updated packages.\n"
     ]
    }
   ],
   "source": [
    "pip install seaborn\n"
   ]
  },
  {
   "cell_type": "code",
   "execution_count": null,
   "id": "4ee998b6-9f84-46d4-a487-1fe3ea72be26",
   "metadata": {},
   "outputs": [],
   "source": []
  },
  {
   "cell_type": "markdown",
   "id": "7dceb83b-779a-4364-bc21-1217547a35b3",
   "metadata": {},
   "source": [
    "\n",
    "### <font color='gree'> Data Type Change</font>"
   ]
  },
  {
   "cell_type": "code",
   "execution_count": 164,
   "id": "ff03a9dd-23a0-4664-9cdf-34995608ea11",
   "metadata": {},
   "outputs": [
    {
     "data": {
      "text/plain": [
       "Index(['Brand', 'Model', 'Storage ', 'RAM ', 'Battery Capacity (mAh)',\n",
       "       'Price ($)'],\n",
       "      dtype='object')"
      ]
     },
     "execution_count": 164,
     "metadata": {},
     "output_type": "execute_result"
    }
   ],
   "source": [
    "# View Columns\n",
    "df.columns"
   ]
  },
  {
   "cell_type": "code",
   "execution_count": 165,
   "id": "cb9b727b-0c39-4b92-999b-5d0928e92c0f",
   "metadata": {},
   "outputs": [],
   "source": [
    "# Change data type and remove 'GB' in the RAM Column and Storage column\n",
    "df['RAM '] = df['RAM '].str.replace('GB','').astype('int64')\n",
    "df[ 'Storage '] = df[ 'Storage '].str.replace('GB','').astype('int64')"
   ]
  },
  {
   "cell_type": "code",
   "execution_count": 166,
   "id": "09427782-ea54-44f6-a9f5-b8cb88e35804",
   "metadata": {},
   "outputs": [
    {
     "name": "stdout",
     "output_type": "stream",
     "text": [
      "<class 'pandas.core.frame.DataFrame'>\n",
      "RangeIndex: 407 entries, 0 to 406\n",
      "Data columns (total 6 columns):\n",
      " #   Column                  Non-Null Count  Dtype \n",
      "---  ------                  --------------  ----- \n",
      " 0   Brand                   407 non-null    object\n",
      " 1   Model                   407 non-null    object\n",
      " 2   Storage                 407 non-null    int64 \n",
      " 3   RAM                     407 non-null    int64 \n",
      " 4   Battery Capacity (mAh)  407 non-null    int64 \n",
      " 5   Price ($)               407 non-null    object\n",
      "dtypes: int64(3), object(3)\n",
      "memory usage: 19.2+ KB\n"
     ]
    }
   ],
   "source": [
    "df.info()\n"
   ]
  },
  {
   "cell_type": "code",
   "execution_count": 167,
   "id": "34ee23d4-ae89-4a92-974f-2c006db34a07",
   "metadata": {},
   "outputs": [],
   "source": [
    "# Remove dollar sign and commas\n",
    "df['Price ($)'] = df['Price ($)'].str.replace('$', '').str.replace(',', '')\n",
    "\n",
    "# Convert to integer\n",
    "df['Price ($)'] = df['Price ($)'].astype('int64')\n"
   ]
  },
  {
   "cell_type": "markdown",
   "id": "8459b4d2-83d9-4f1b-b2d4-8265dc7ad66d",
   "metadata": {},
   "source": [
    "\n",
    "### <font color=\"gree\">Number of Counts </font>"
   ]
  },
  {
   "cell_type": "code",
   "execution_count": 168,
   "id": "7f5df692-2475-40b9-8535-36b1b221da79",
   "metadata": {},
   "outputs": [
    {
     "data": {
      "text/plain": [
       "Brand\n",
       "Samsung       79\n",
       "Xiaomi        67\n",
       "Oppo          56\n",
       "Realme        43\n",
       "Vivo          35\n",
       "Apple         30\n",
       "Nokia         28\n",
       "Motorola      23\n",
       "OnePlus       15\n",
       "Huawei        12\n",
       "Google         7\n",
       "Asus           4\n",
       "LG             3\n",
       "Blackberry     3\n",
       "Sony           1\n",
       "CAT            1\n",
       "Name: count, dtype: int64"
      ]
     },
     "execution_count": 168,
     "metadata": {},
     "output_type": "execute_result"
    }
   ],
   "source": [
    "df['Brand'].value_counts()"
   ]
  },
  {
   "cell_type": "code",
   "execution_count": 169,
   "id": "6b7a902b-a7cf-4bdf-ad28-cc29aeba7398",
   "metadata": {},
   "outputs": [
    {
     "data": {
      "text/plain": [
       "16"
      ]
     },
     "execution_count": 169,
     "metadata": {},
     "output_type": "execute_result"
    }
   ],
   "source": [
    "# Number of different data in Brand column\n",
    "len(df['Brand'].value_counts())"
   ]
  },
  {
   "cell_type": "code",
   "execution_count": 170,
   "id": "423c4cf5-3d14-47d1-b7e6-b103e6b9026f",
   "metadata": {},
   "outputs": [
    {
     "data": {
      "text/plain": [
       "Model\n",
       "Poco X3 Pro           6\n",
       "Y33s                  5\n",
       "iPhone XR             5\n",
       "C21Y                  5\n",
       "Redmi 10 Prime        5\n",
       "                     ..\n",
       "Mi 11 Lite NE         1\n",
       "Moto G Stylus 2021    1\n",
       "A54s 5G               1\n",
       "Galaxy M52            1\n",
       "Reno3                 1\n",
       "Name: count, Length: 239, dtype: int64"
      ]
     },
     "execution_count": 170,
     "metadata": {},
     "output_type": "execute_result"
    }
   ],
   "source": [
    "# Different Model types and quantity\n",
    "df['Model'].value_counts()"
   ]
  },
  {
   "cell_type": "code",
   "execution_count": 171,
   "id": "5f19dda2-d462-4b74-8ecc-7bc9abd6240c",
   "metadata": {},
   "outputs": [
    {
     "data": {
      "text/plain": [
       "407"
      ]
     },
     "execution_count": 171,
     "metadata": {},
     "output_type": "execute_result"
    }
   ],
   "source": [
    "\n",
    "df['Model'].count()"
   ]
  },
  {
   "cell_type": "code",
   "execution_count": 172,
   "id": "f0058669-f667-4c41-9a80-6245f88cd49b",
   "metadata": {},
   "outputs": [
    {
     "data": {
      "text/plain": [
       "RAM \n",
       "4     128\n",
       "6     107\n",
       "8      95\n",
       "3      38\n",
       "12     25\n",
       "2      11\n",
       "5       2\n",
       "16      1\n",
       "Name: count, dtype: int64"
      ]
     },
     "execution_count": 172,
     "metadata": {},
     "output_type": "execute_result"
    }
   ],
   "source": [
    "# Different RAM sizes and quantity\n",
    "df['RAM '].value_counts()"
   ]
  },
  {
   "cell_type": "code",
   "execution_count": 173,
   "id": "31aba486-1d1a-4e12-a53b-98418974fa16",
   "metadata": {},
   "outputs": [
    {
     "data": {
      "text/plain": [
       "Battery Capacity (mAh)\n",
       "5000    159\n",
       "4500     46\n",
       "6000     40\n",
       "4000     34\n",
       "5020     14\n",
       "4310     10\n",
       "4200      8\n",
       "4300      7\n",
       "5160      7\n",
       "4230      6\n",
       "4250      6\n",
       "1821      5\n",
       "2942      5\n",
       "2815      5\n",
       "3110      4\n",
       "3500      4\n",
       "4950      3\n",
       "3969      3\n",
       "4080      3\n",
       "2227      3\n",
       "5050      3\n",
       "7000      2\n",
       "4820      2\n",
       "3300      2\n",
       "4600      2\n",
       "4630      2\n",
       "2691      1\n",
       "4510      1\n",
       "3174      1\n",
       "4800      1\n",
       "3095      1\n",
       "3340      1\n",
       "4115      1\n",
       "4850      1\n",
       "4160      1\n",
       "3687      1\n",
       "2800      1\n",
       "3000      1\n",
       "3885      1\n",
       "4350      1\n",
       "4400      1\n",
       "4100      1\n",
       "4470      1\n",
       "4450      1\n",
       "4352      1\n",
       "4520      1\n",
       "4614      1\n",
       "4025      1\n",
       "Name: count, dtype: int64"
      ]
     },
     "execution_count": 173,
     "metadata": {},
     "output_type": "execute_result"
    }
   ],
   "source": [
    "# Different Battery Capacity  types and quantity\n",
    "df['Battery Capacity (mAh)'].value_counts()"
   ]
  },
  {
   "cell_type": "code",
   "execution_count": 174,
   "id": "d58db321-6227-416f-bb71-30a8ed4b87fb",
   "metadata": {},
   "outputs": [
    {
     "data": {
      "text/plain": [
       "Storage \n",
       "128    250\n",
       "64      83\n",
       "256     40\n",
       "32      31\n",
       "512      3\n",
       "Name: count, dtype: int64"
      ]
     },
     "execution_count": 174,
     "metadata": {},
     "output_type": "execute_result"
    }
   ],
   "source": [
    "# Different Battery Capacity  types and quantity\n",
    "df['Storage '].value_counts()"
   ]
  },
  {
   "cell_type": "markdown",
   "id": "1ac9ed53-3689-4b90-b7b5-435cbc81b0b1",
   "metadata": {},
   "source": [
    "### <font color=\"gree\">Model  Column </font>"
   ]
  },
  {
   "cell_type": "code",
   "execution_count": 175,
   "id": "7ea720b1-f7c2-4727-8f77-dc76f5dc4232",
   "metadata": {},
   "outputs": [
    {
     "data": {
      "text/plain": [
       "array(['iPhone 13 Pro', 'Galaxy S21 Ultra', '9 Pro', 'Redmi Note 10 Pro',\n",
       "       'Pixel 6', 'iPhone 13', 'Galaxy Z Flip3', 'Poco X3 Pro',\n",
       "       'Reno6 Pro+ 5G', 'X70 Pro+', 'Nord CE 5G', 'Galaxy A52s 5G',\n",
       "       'GT Neo2', 'iPhone 12 Mini', 'Find X3 Pro', 'Mi 11 Lite 5G NE',\n",
       "       'Galaxy S21', 'Y20s (G)', '8s 5G', 'A94', 'Redmi 10 Prime',\n",
       "       'Galaxy A22 5G', 'Narzo 50 Pro 5G', '9', 'Redmi Note 10 Pro Max',\n",
       "       'iPhone 11', 'Galaxy A03s', 'A74 5G', 'Y12s (2021)', '9i',\n",
       "       'Galaxy M52 5G', 'Redmi 10', 'iPhone SE (2nd Gen)', 'A53s', 'Y33s',\n",
       "       'C25s', 'Galaxy A22 4G', 'Nord 2 5G', 'Poco M3 Pro 5G',\n",
       "       'iPhone XR', 'A16', 'C21Y', 'Galaxy F22', 'F19 Pro+ 5G', 'Mi 11X',\n",
       "       'V21e', '8 5G', 'Galaxy M12', 'A16s', 'Redmi 9 Power',\n",
       "       'iPhone 11 Pro Max', 'Y20G', 'Narzo 50i', 'A54', 'Redmi 9T',\n",
       "       'iPhone 13 Pro Max', 'Y33', 'Galaxy A72', 'Reno6 Pro 5G',\n",
       "       'iPhone SE (2020)', 'Y53s', '7i', 'Galaxy A52 5G', 'F19 Pro',\n",
       "       'Redmi Note 10S', 'Y21s', 'Mi 11 Lite 5G', 'X60 Pro', 'Narzo 50A',\n",
       "       'Nord 2', 'Poco X4 Pro', 'GT Master Edition', 'Reno6 Pro+',\n",
       "       'Edge 20 Pro', 'XR20', 'Xperia 5 III', 'Wing', 'Zenfone 8 Flip',\n",
       "       'KEY2 LE', 'F19 Pro+', 'Moto G60', '5.4', 'K92 5G', 'Zenfone 8',\n",
       "       'KEY2', 'S42', 'Galaxy Z Flip 3', 'Mi 11 Ultra', 'Y12A',\n",
       "       'C20 Plus', 'Galaxy S20 FE 5G', 'Moto E7i Power', 'ROG Phone 5',\n",
       "       'Velvet 5G', 'Evolve', 'Reno 6 Pro+', 'Moto G50', 'G20',\n",
       "       'Galaxy M32', '8i', 'C30', 'Galaxy A32', 'Moto G Stylus 5G',\n",
       "       'Galaxy A21s', 'Y12s', 'F19s', 'Narzo 30 Pro 5G', 'Moto G Pure',\n",
       "       'Reno6 Z 5G', 'Galaxy S21 Ultra 5G', 'G50', 'Redmi 9 Activ',\n",
       "       'A54s', 'Galaxy M22', 'Moto G Power 2022', 'Poco X3 GT',\n",
       "       'Galaxy F42 5G', 'Edge 20 Fusion', 'C21', 'V21 5G',\n",
       "       'Redmi Note 9 Pro Max', 'Moto G Power 2021', 'V21e 5G', 'A53s 5G',\n",
       "       'Mi 11 Lite NE', 'Moto G Stylus 2021', 'A54s 5G', 'Galaxy F41',\n",
       "       'Galaxy M52', 'Moto G50s', 'Galaxy A13', 'Galaxy A42 5G',\n",
       "       'Moto G9 Power Lite', 'Galaxy A22', 'A74', 'Y72 5G', 'Mi 10i',\n",
       "       'Narzo 30 Pro', 'Galaxy M62', 'Galaxy A12', 'A15s', 'C11 2021',\n",
       "       'Redmi 9i', 'A53', '7 5G', 'Galaxy M31s', 'A15', 'G10', 'C25',\n",
       "       'X20', 'Y20s G', 'Reno 6 Pro 5G', 'Y31s', 'Galaxy A32 5G',\n",
       "       'Redmi Note 10', 'V20 SE', '3.4', 'C20', '1.4', 'Galaxy A02s',\n",
       "       'Y51A', 'Narzo 20', '5.3', 'Redmi Note 8', 'Galaxy M11', 'Y20s',\n",
       "       'C11', '2.4', 'Redmi 9', 'Galaxy A11', 'A12', 'C15', '3.1 Plus',\n",
       "       'Redmi Note 7', 'A31', 'Y15', 'Narzo 10A', 'Galaxy A30s',\n",
       "       'Galaxy Note 20 Ultra', 'Pixel 5', 'Mate 40 Pro', 'Nord N10 5G',\n",
       "       'Reno 5 Pro 5G', 'Galaxy A71', '8.3 5G', 'Mi 11',\n",
       "       'Moto G Power (2021)', 'Pixel 4a 5G', 'Nova 8 Pro 5G',\n",
       "       'Galaxy A52', '8T', 'G50 5G', 'Find X3 Neo 5G', 'P40 Pro',\n",
       "       'Moto G Stylus (2021)', 'Pixel 4', 'iPhone 12', 'A94 5G',\n",
       "       'Nova 9 Pro 5G', 'Galaxy S10 Lite', '8 Pro', '7.2', 'Mi 10T Pro',\n",
       "       'Mate 30 Pro 5G', 'Galaxy M51', 'Reno4 Pro 5G', 'Moto G9 Plus',\n",
       "       'iPhone XS Max', 'Redmi Note 9S', 'A92', 'P30 Pro', '7 Pro', '6.2',\n",
       "       'Mi 10T Lite', 'iPhone 8 Plus', 'Moto G8 Power', 'Nova 7i',\n",
       "       'Galaxy S21+ 5G', 'Mi 11 Lite', 'Nord', 'Moto G10', 'P40 Pro+',\n",
       "       'Galaxy Note20 5G', 'Poco M3', 'Galaxy S20 Ultra 5G',\n",
       "       'iPhone 12 mini', 'Moto G9 Power', 'Galaxy Z Fold2 5G',\n",
       "       'Mi 10T Pro 5G', 'Redmi 9C', 'Y7p', 'iPhone 12 Pro', '7', 'A93',\n",
       "       'Moto G Pro', 'P30 Lite', 'Mi 10 Lite 5G', 'iPhone 12 Pro Max',\n",
       "       'Reno3'], dtype=object)"
      ]
     },
     "execution_count": 175,
     "metadata": {},
     "output_type": "execute_result"
    }
   ],
   "source": [
    "# retrieve the unique values in the 'Model' column \n",
    "df['Model'].unique()"
   ]
  },
  {
   "cell_type": "code",
   "execution_count": 176,
   "id": "acfeb8ba-88c9-4d85-9fc9-c8cb618be30d",
   "metadata": {},
   "outputs": [],
   "source": [
    "# This part applies a function to each element of takes the first word\n",
    "df['Model_name'] = df['Model'].apply(lambda x:\" \".join(x.split()[0:1]))\n"
   ]
  },
  {
   "cell_type": "code",
   "execution_count": 177,
   "id": "fca9362c-551e-4eb1-a09e-8aea613db030",
   "metadata": {},
   "outputs": [
    {
     "data": {
      "text/plain": [
       "Model_name\n",
       "Galaxy    79\n",
       "Redmi     38\n",
       "iPhone    30\n",
       "Moto      21\n",
       "Poco      15\n",
       "          ..\n",
       "A15        1\n",
       "G10        1\n",
       "C25        1\n",
       "X20        1\n",
       "Reno3      1\n",
       "Name: count, Length: 93, dtype: int64"
      ]
     },
     "execution_count": 177,
     "metadata": {},
     "output_type": "execute_result"
    }
   ],
   "source": [
    "# Different Model_name new  types and quantity\n",
    "df['Model_name'].value_counts()"
   ]
  },
  {
   "cell_type": "code",
   "execution_count": 178,
   "id": "fce7a1c8-5e39-4682-9875-59309799a049",
   "metadata": {},
   "outputs": [],
   "source": [
    "# Get the value counts of the 'Model' column\n",
    "model_counts = df['Model_name'].value_counts()\n",
    "\n",
    "# Initialize a new list to store the updated values\n",
    "new_models = []\n",
    "\n",
    "# Iterate over each model\n",
    "for model in df['Model_name']:\n",
    "    # Check if the count of the model is less than 5\n",
    "    if model_counts[model] <=5:\n",
    "        # If so, append 'other' to the new list\n",
    "        new_models.append('other')\n",
    "    else:\n",
    "        # Otherwise, append the original model value\n",
    "        new_models.append(model)\n",
    "\n",
    "\n",
    "# Assign the new list of models back to the DataFrame\n",
    "df['Model_name'] = new_models\n"
   ]
  },
  {
   "cell_type": "code",
   "execution_count": 179,
   "id": "37c7ecd7-902c-4ed7-8c17-7829df65cbd0",
   "metadata": {},
   "outputs": [
    {
     "data": {
      "text/plain": [
       "Model_name\n",
       "other     185\n",
       "Galaxy     79\n",
       "Redmi      38\n",
       "iPhone     30\n",
       "Moto       21\n",
       "Poco       15\n",
       "Mi         14\n",
       "Narzo      12\n",
       "Pixel       7\n",
       "Nord        6\n",
       "Name: count, dtype: int64"
      ]
     },
     "execution_count": 179,
     "metadata": {},
     "output_type": "execute_result"
    }
   ],
   "source": [
    "df['Model_name'].value_counts()"
   ]
  },
  {
   "cell_type": "markdown",
   "id": "3733c6d8-7edf-4b16-a7ee-a2e914633b6a",
   "metadata": {},
   "source": [
    "### <font color=\"gree\">Brand Column </font>"
   ]
  },
  {
   "cell_type": "code",
   "execution_count": 180,
   "id": "de62bfbe-5dba-4e7c-a1b5-28b168386861",
   "metadata": {},
   "outputs": [],
   "source": [
    "# Remove 6 company types and these add to 'Other' company type\n",
    "def add_company(inpt):\n",
    "    if inpt == 'Google' or inpt == 'Asus' or inpt == 'LG' or inpt == 'Blackberry'or inpt == 'Sony'or inpt == 'CAT':\n",
    "        return 'Other'\n",
    "    else:\n",
    "        return inpt"
   ]
  },
  {
   "cell_type": "code",
   "execution_count": 181,
   "id": "793aab71-7f0b-463e-adc2-8737d33251aa",
   "metadata": {},
   "outputs": [],
   "source": [
    "df['Brand'] = df['Brand'].apply(add_company)"
   ]
  },
  {
   "cell_type": "code",
   "execution_count": 182,
   "id": "46fbae2f-0e2a-4884-86ab-b215725b1cb2",
   "metadata": {},
   "outputs": [
    {
     "data": {
      "text/plain": [
       "11"
      ]
     },
     "execution_count": 182,
     "metadata": {},
     "output_type": "execute_result"
    }
   ],
   "source": [
    "len(df['Brand'].value_counts())"
   ]
  },
  {
   "cell_type": "code",
   "execution_count": null,
   "id": "02204594-3a83-4f37-b7ca-c1946b6e8304",
   "metadata": {},
   "outputs": [],
   "source": []
  },
  {
   "cell_type": "markdown",
   "id": "a54b078d-075e-4c2c-a0dc-1c972f332538",
   "metadata": {},
   "source": [
    "\n",
    "### <font color=\"gree\"> battery_capacity column </font>"
   ]
  },
  {
   "cell_type": "code",
   "execution_count": 183,
   "id": "1f4f536f-2e4e-46e5-8479-88015bed8052",
   "metadata": {},
   "outputs": [],
   "source": [
    "# This function sets the processor based on the battery capacity of a device,\n",
    "# ensuring that the processor is set to a specific value depending on the\n",
    "# battery capacity range provided.\n",
    "\n",
    "def set_processor( battery_capacity):\n",
    "    if battery_capacity >= 7000:\n",
    "        return 7000\n",
    "    elif battery_capacity >= 6000:\n",
    "        return 6000\n",
    "    elif battery_capacity >= 5000:\n",
    "        return 5000\n",
    "    elif battery_capacity >= 4000:\n",
    "        return 4000\n",
    "    elif battery_capacity >= 3000:\n",
    "        return 3000\n",
    "    else:\n",
    "        return 2000\n",
    "\n",
    "                       \n",
    "               "
   ]
  },
  {
   "cell_type": "code",
   "execution_count": 184,
   "id": "5408de60-08af-4fde-ba08-e9941c5f804d",
   "metadata": {},
   "outputs": [],
   "source": [
    "df['Battery Capacity (mAh)'] = df['Battery Capacity (mAh)'].apply(set_processor)"
   ]
  },
  {
   "cell_type": "code",
   "execution_count": 185,
   "id": "116e961b-31d3-49d7-82e6-eed01a5d9d8f",
   "metadata": {},
   "outputs": [
    {
     "data": {
      "text/plain": [
       "Battery Capacity (mAh)\n",
       "5000    183\n",
       "4000    143\n",
       "6000     40\n",
       "2000     20\n",
       "3000     19\n",
       "7000      2\n",
       "Name: count, dtype: int64"
      ]
     },
     "execution_count": 185,
     "metadata": {},
     "output_type": "execute_result"
    }
   ],
   "source": [
    "\n",
    "df['Battery Capacity (mAh)'].value_counts()"
   ]
  },
  {
   "cell_type": "code",
   "execution_count": 186,
   "id": "839a8f62-432a-4d0f-bee0-6d98b4b6d0dc",
   "metadata": {},
   "outputs": [],
   "source": [
    "# This function sets the processor level based on the specific battery capacity provided,\n",
    "# mapping each battery capacity to a corresponding processor level.\n",
    "\n",
    "\n",
    "def set_processor( battery_capacity):\n",
    "    if battery_capacity ==7000:\n",
    "        return 5\n",
    "    elif battery_capacity == 6000:\n",
    "        return 4\n",
    "    elif battery_capacity == 5000:\n",
    "        return 3\n",
    "    elif battery_capacity == 4000:\n",
    "        return 2\n",
    "    elif battery_capacity == 3000:\n",
    "        return 1\n",
    "    else:\n",
    "        return 0"
   ]
  },
  {
   "cell_type": "code",
   "execution_count": 187,
   "id": "e273580a-e26e-4711-becc-36cae2fb15ec",
   "metadata": {},
   "outputs": [],
   "source": [
    "df['Battery Capacity (mAh)'] = df['Battery Capacity (mAh)'].apply(set_processor)"
   ]
  },
  {
   "cell_type": "code",
   "execution_count": 188,
   "id": "77e9900d-b1bc-4eb0-a09d-c5a98145db3a",
   "metadata": {},
   "outputs": [
    {
     "data": {
      "text/plain": [
       "Battery Capacity (mAh)\n",
       "3    183\n",
       "2    143\n",
       "4     40\n",
       "0     20\n",
       "1     19\n",
       "5      2\n",
       "Name: count, dtype: int64"
      ]
     },
     "execution_count": 188,
     "metadata": {},
     "output_type": "execute_result"
    }
   ],
   "source": [
    "df['Battery Capacity (mAh)'].value_counts()"
   ]
  },
  {
   "cell_type": "markdown",
   "id": "3f292b61-ffce-4718-b598-b19e127f9efb",
   "metadata": {},
   "source": [
    "### <font color=\"gree\">Storage Column </font>"
   ]
  },
  {
   "cell_type": "code",
   "execution_count": null,
   "id": "812fb9e9-7b87-43a5-a9b2-2b40a19ab2e1",
   "metadata": {},
   "outputs": [],
   "source": []
  },
  {
   "cell_type": "code",
   "execution_count": 189,
   "id": "5635707c-2ecb-454a-ba61-9f181a17f2ec",
   "metadata": {},
   "outputs": [],
   "source": [
    "# This function sets the storage level based on the RAM capacity provided,\n",
    "# mapping each RAM capacity to a corresponding storage level.\n",
    "\n",
    "\n",
    "def set_processor_storage( ram):\n",
    "    if ram ==512:\n",
    "        return 4\n",
    "    elif ram == 256:\n",
    "        return 3\n",
    "    elif ram == 128:\n",
    "        return 2\n",
    "    elif ram == 64:\n",
    "        return 1\n",
    "    else:\n",
    "        return 0\n",
    "    "
   ]
  },
  {
   "cell_type": "code",
   "execution_count": 190,
   "id": "3af2015f-27ba-45c5-bad3-1d64448fdbd5",
   "metadata": {},
   "outputs": [],
   "source": [
    "df['Storage '] = df['Storage '].apply(set_processor_storage)"
   ]
  },
  {
   "cell_type": "code",
   "execution_count": 191,
   "id": "77e0594e-2bcd-4829-875e-4f38b7682ec3",
   "metadata": {},
   "outputs": [
    {
     "data": {
      "text/plain": [
       "Storage \n",
       "2    250\n",
       "1     83\n",
       "3     40\n",
       "0     31\n",
       "4      3\n",
       "Name: count, dtype: int64"
      ]
     },
     "execution_count": 191,
     "metadata": {},
     "output_type": "execute_result"
    }
   ],
   "source": [
    "#Storage \n",
    "df['Storage '].value_counts()"
   ]
  },
  {
   "cell_type": "code",
   "execution_count": 192,
   "id": "ff09c93a-1fe9-4636-850c-9d7ae7486dcf",
   "metadata": {},
   "outputs": [
    {
     "data": {
      "text/html": [
       "<div>\n",
       "<style scoped>\n",
       "    .dataframe tbody tr th:only-of-type {\n",
       "        vertical-align: middle;\n",
       "    }\n",
       "\n",
       "    .dataframe tbody tr th {\n",
       "        vertical-align: top;\n",
       "    }\n",
       "\n",
       "    .dataframe thead th {\n",
       "        text-align: right;\n",
       "    }\n",
       "</style>\n",
       "<table border=\"1\" class=\"dataframe\">\n",
       "  <thead>\n",
       "    <tr style=\"text-align: right;\">\n",
       "      <th></th>\n",
       "      <th>Brand</th>\n",
       "      <th>Model</th>\n",
       "      <th>Storage</th>\n",
       "      <th>RAM</th>\n",
       "      <th>Battery Capacity (mAh)</th>\n",
       "      <th>Price ($)</th>\n",
       "      <th>Model_name</th>\n",
       "    </tr>\n",
       "  </thead>\n",
       "  <tbody>\n",
       "    <tr>\n",
       "      <th>0</th>\n",
       "      <td>Apple</td>\n",
       "      <td>iPhone 13 Pro</td>\n",
       "      <td>2</td>\n",
       "      <td>6</td>\n",
       "      <td>1</td>\n",
       "      <td>999</td>\n",
       "      <td>iPhone</td>\n",
       "    </tr>\n",
       "    <tr>\n",
       "      <th>1</th>\n",
       "      <td>Samsung</td>\n",
       "      <td>Galaxy S21 Ultra</td>\n",
       "      <td>3</td>\n",
       "      <td>12</td>\n",
       "      <td>3</td>\n",
       "      <td>1199</td>\n",
       "      <td>Galaxy</td>\n",
       "    </tr>\n",
       "    <tr>\n",
       "      <th>2</th>\n",
       "      <td>OnePlus</td>\n",
       "      <td>9 Pro</td>\n",
       "      <td>2</td>\n",
       "      <td>8</td>\n",
       "      <td>2</td>\n",
       "      <td>899</td>\n",
       "      <td>other</td>\n",
       "    </tr>\n",
       "    <tr>\n",
       "      <th>3</th>\n",
       "      <td>Xiaomi</td>\n",
       "      <td>Redmi Note 10 Pro</td>\n",
       "      <td>2</td>\n",
       "      <td>6</td>\n",
       "      <td>3</td>\n",
       "      <td>279</td>\n",
       "      <td>Redmi</td>\n",
       "    </tr>\n",
       "    <tr>\n",
       "      <th>4</th>\n",
       "      <td>Other</td>\n",
       "      <td>Pixel 6</td>\n",
       "      <td>2</td>\n",
       "      <td>8</td>\n",
       "      <td>2</td>\n",
       "      <td>799</td>\n",
       "      <td>Pixel</td>\n",
       "    </tr>\n",
       "  </tbody>\n",
       "</table>\n",
       "</div>"
      ],
      "text/plain": [
       "     Brand              Model  Storage   RAM   Battery Capacity (mAh)  \\\n",
       "0    Apple      iPhone 13 Pro         2     6                       1   \n",
       "1  Samsung   Galaxy S21 Ultra         3    12                       3   \n",
       "2  OnePlus              9 Pro         2     8                       2   \n",
       "3   Xiaomi  Redmi Note 10 Pro         2     6                       3   \n",
       "4    Other            Pixel 6         2     8                       2   \n",
       "\n",
       "   Price ($) Model_name  \n",
       "0        999     iPhone  \n",
       "1       1199     Galaxy  \n",
       "2        899      other  \n",
       "3        279      Redmi  \n",
       "4        799      Pixel  "
      ]
     },
     "execution_count": 192,
     "metadata": {},
     "output_type": "execute_result"
    }
   ],
   "source": [
    "df.head()"
   ]
  },
  {
   "cell_type": "code",
   "execution_count": 193,
   "id": "262e25f0-fc6e-41b7-90bb-2b72772215df",
   "metadata": {},
   "outputs": [
    {
     "data": {
      "text/plain": [
       "(407, 7)"
      ]
     },
     "execution_count": 193,
     "metadata": {},
     "output_type": "execute_result"
    }
   ],
   "source": [
    "df.shape"
   ]
  },
  {
   "cell_type": "code",
   "execution_count": 194,
   "id": "7fe447ff-8ea8-4205-a78d-9ed530ff34c4",
   "metadata": {},
   "outputs": [
    {
     "name": "stdout",
     "output_type": "stream",
     "text": [
      "<class 'pandas.core.frame.DataFrame'>\n",
      "RangeIndex: 407 entries, 0 to 406\n",
      "Data columns (total 7 columns):\n",
      " #   Column                  Non-Null Count  Dtype \n",
      "---  ------                  --------------  ----- \n",
      " 0   Brand                   407 non-null    object\n",
      " 1   Model                   407 non-null    object\n",
      " 2   Storage                 407 non-null    int64 \n",
      " 3   RAM                     407 non-null    int64 \n",
      " 4   Battery Capacity (mAh)  407 non-null    int64 \n",
      " 5   Price ($)               407 non-null    int64 \n",
      " 6   Model_name              407 non-null    object\n",
      "dtypes: int64(4), object(3)\n",
      "memory usage: 22.4+ KB\n"
     ]
    }
   ],
   "source": [
    "df.info()"
   ]
  },
  {
   "cell_type": "code",
   "execution_count": 195,
   "id": "fa45b302-55c3-4314-a0ce-9016b6a1da62",
   "metadata": {},
   "outputs": [
    {
     "data": {
      "text/html": [
       "<div>\n",
       "<style scoped>\n",
       "    .dataframe tbody tr th:only-of-type {\n",
       "        vertical-align: middle;\n",
       "    }\n",
       "\n",
       "    .dataframe tbody tr th {\n",
       "        vertical-align: top;\n",
       "    }\n",
       "\n",
       "    .dataframe thead th {\n",
       "        text-align: right;\n",
       "    }\n",
       "</style>\n",
       "<table border=\"1\" class=\"dataframe\">\n",
       "  <thead>\n",
       "    <tr style=\"text-align: right;\">\n",
       "      <th></th>\n",
       "      <th>Storage</th>\n",
       "      <th>RAM</th>\n",
       "      <th>Battery Capacity (mAh)</th>\n",
       "      <th>Price ($)</th>\n",
       "    </tr>\n",
       "  </thead>\n",
       "  <tbody>\n",
       "    <tr>\n",
       "      <th>count</th>\n",
       "      <td>407.000000</td>\n",
       "      <td>407.000000</td>\n",
       "      <td>407.000000</td>\n",
       "      <td>407.000000</td>\n",
       "    </tr>\n",
       "    <tr>\n",
       "      <th>mean</th>\n",
       "      <td>1.756757</td>\n",
       "      <td>5.837838</td>\n",
       "      <td>2.515971</td>\n",
       "      <td>408.314496</td>\n",
       "    </tr>\n",
       "    <tr>\n",
       "      <th>std</th>\n",
       "      <td>0.760669</td>\n",
       "      <td>2.431980</td>\n",
       "      <td>0.930658</td>\n",
       "      <td>299.684768</td>\n",
       "    </tr>\n",
       "    <tr>\n",
       "      <th>min</th>\n",
       "      <td>0.000000</td>\n",
       "      <td>2.000000</td>\n",
       "      <td>0.000000</td>\n",
       "      <td>99.000000</td>\n",
       "    </tr>\n",
       "    <tr>\n",
       "      <th>25%</th>\n",
       "      <td>1.000000</td>\n",
       "      <td>4.000000</td>\n",
       "      <td>2.000000</td>\n",
       "      <td>199.000000</td>\n",
       "    </tr>\n",
       "    <tr>\n",
       "      <th>50%</th>\n",
       "      <td>2.000000</td>\n",
       "      <td>6.000000</td>\n",
       "      <td>3.000000</td>\n",
       "      <td>299.000000</td>\n",
       "    </tr>\n",
       "    <tr>\n",
       "      <th>75%</th>\n",
       "      <td>2.000000</td>\n",
       "      <td>8.000000</td>\n",
       "      <td>3.000000</td>\n",
       "      <td>499.000000</td>\n",
       "    </tr>\n",
       "    <tr>\n",
       "      <th>max</th>\n",
       "      <td>4.000000</td>\n",
       "      <td>16.000000</td>\n",
       "      <td>5.000000</td>\n",
       "      <td>1999.000000</td>\n",
       "    </tr>\n",
       "  </tbody>\n",
       "</table>\n",
       "</div>"
      ],
      "text/plain": [
       "         Storage         RAM   Battery Capacity (mAh)    Price ($)\n",
       "count  407.000000  407.000000              407.000000   407.000000\n",
       "mean     1.756757    5.837838                2.515971   408.314496\n",
       "std      0.760669    2.431980                0.930658   299.684768\n",
       "min      0.000000    2.000000                0.000000    99.000000\n",
       "25%      1.000000    4.000000                2.000000   199.000000\n",
       "50%      2.000000    6.000000                3.000000   299.000000\n",
       "75%      2.000000    8.000000                3.000000   499.000000\n",
       "max      4.000000   16.000000                5.000000  1999.000000"
      ]
     },
     "execution_count": 195,
     "metadata": {},
     "output_type": "execute_result"
    }
   ],
   "source": [
    "df.describe()"
   ]
  },
  {
   "cell_type": "markdown",
   "id": "391955b9-47e2-4f8d-ae18-c5b253561a6c",
   "metadata": {},
   "source": []
  },
  {
   "cell_type": "markdown",
   "id": "a20a783d-9b23-4bc6-8ba0-13aa5de594c4",
   "metadata": {},
   "source": [
    "### <font color=\"gree\"> Encoding categorical variables</font>"
   ]
  },
  {
   "cell_type": "code",
   "execution_count": 196,
   "id": "2dabe5ce-0c5a-4283-9efe-0bf32ce8cd23",
   "metadata": {},
   "outputs": [
    {
     "name": "stdout",
     "output_type": "stream",
     "text": [
      "Requirement already satisfied: scikit-learn in c:\\users\\niman\\desktop\\mobile_price_predictor\\env\\lib\\site-packages (1.3.2)\n",
      "Requirement already satisfied: numpy<2.0,>=1.17.3 in c:\\users\\niman\\desktop\\mobile_price_predictor\\env\\lib\\site-packages (from scikit-learn) (1.24.4)\n",
      "Requirement already satisfied: scipy>=1.5.0 in c:\\users\\niman\\desktop\\mobile_price_predictor\\env\\lib\\site-packages (from scikit-learn) (1.10.1)\n",
      "Requirement already satisfied: joblib>=1.1.1 in c:\\users\\niman\\desktop\\mobile_price_predictor\\env\\lib\\site-packages (from scikit-learn) (1.4.0)\n",
      "Requirement already satisfied: threadpoolctl>=2.0.0 in c:\\users\\niman\\desktop\\mobile_price_predictor\\env\\lib\\site-packages (from scikit-learn) (3.4.0)\n",
      "Note: you may need to restart the kernel to use updated packages.\n"
     ]
    }
   ],
   "source": [
    "pip install scikit-learn\n"
   ]
  },
  {
   "cell_type": "code",
   "execution_count": 197,
   "id": "9d7cdbc5-bd74-4d6b-8a96-33204507ca4b",
   "metadata": {},
   "outputs": [],
   "source": [
    "from sklearn.preprocessing import LabelEncoder\n",
    "\n",
    "#Encoded Brand Column\n",
    "#Encoded Model column\n",
    "lb_Brand=LabelEncoder()\n",
    "lb_Models=LabelEncoder()\n"
   ]
  },
  {
   "cell_type": "code",
   "execution_count": 198,
   "id": "3fa3f919-1ec1-4ddc-b680-698af9f13f34",
   "metadata": {},
   "outputs": [],
   "source": [
    "\n",
    "# the transformed labels of the 'Brand' column using the fitted LabelEncoder 'lb_Brand'.\n",
    "\n",
    "df['Brand_T'] = lb_Brand.fit_transform(df['Brand'])"
   ]
  },
  {
   "cell_type": "code",
   "execution_count": 199,
   "id": "32fc5fd0-786f-4e09-a7d7-bbbcd97b0396",
   "metadata": {},
   "outputs": [
    {
     "data": {
      "text/html": [
       "<div>\n",
       "<style scoped>\n",
       "    .dataframe tbody tr th:only-of-type {\n",
       "        vertical-align: middle;\n",
       "    }\n",
       "\n",
       "    .dataframe tbody tr th {\n",
       "        vertical-align: top;\n",
       "    }\n",
       "\n",
       "    .dataframe thead th {\n",
       "        text-align: right;\n",
       "    }\n",
       "</style>\n",
       "<table border=\"1\" class=\"dataframe\">\n",
       "  <thead>\n",
       "    <tr style=\"text-align: right;\">\n",
       "      <th></th>\n",
       "      <th>Brand</th>\n",
       "      <th>Model</th>\n",
       "      <th>Storage</th>\n",
       "      <th>RAM</th>\n",
       "      <th>Battery Capacity (mAh)</th>\n",
       "      <th>Price ($)</th>\n",
       "      <th>Model_name</th>\n",
       "      <th>Brand_T</th>\n",
       "    </tr>\n",
       "  </thead>\n",
       "  <tbody>\n",
       "    <tr>\n",
       "      <th>0</th>\n",
       "      <td>Apple</td>\n",
       "      <td>iPhone 13 Pro</td>\n",
       "      <td>2</td>\n",
       "      <td>6</td>\n",
       "      <td>1</td>\n",
       "      <td>999</td>\n",
       "      <td>iPhone</td>\n",
       "      <td>0</td>\n",
       "    </tr>\n",
       "    <tr>\n",
       "      <th>1</th>\n",
       "      <td>Samsung</td>\n",
       "      <td>Galaxy S21 Ultra</td>\n",
       "      <td>3</td>\n",
       "      <td>12</td>\n",
       "      <td>3</td>\n",
       "      <td>1199</td>\n",
       "      <td>Galaxy</td>\n",
       "      <td>8</td>\n",
       "    </tr>\n",
       "    <tr>\n",
       "      <th>2</th>\n",
       "      <td>OnePlus</td>\n",
       "      <td>9 Pro</td>\n",
       "      <td>2</td>\n",
       "      <td>8</td>\n",
       "      <td>2</td>\n",
       "      <td>899</td>\n",
       "      <td>other</td>\n",
       "      <td>4</td>\n",
       "    </tr>\n",
       "    <tr>\n",
       "      <th>3</th>\n",
       "      <td>Xiaomi</td>\n",
       "      <td>Redmi Note 10 Pro</td>\n",
       "      <td>2</td>\n",
       "      <td>6</td>\n",
       "      <td>3</td>\n",
       "      <td>279</td>\n",
       "      <td>Redmi</td>\n",
       "      <td>10</td>\n",
       "    </tr>\n",
       "    <tr>\n",
       "      <th>4</th>\n",
       "      <td>Other</td>\n",
       "      <td>Pixel 6</td>\n",
       "      <td>2</td>\n",
       "      <td>8</td>\n",
       "      <td>2</td>\n",
       "      <td>799</td>\n",
       "      <td>Pixel</td>\n",
       "      <td>6</td>\n",
       "    </tr>\n",
       "  </tbody>\n",
       "</table>\n",
       "</div>"
      ],
      "text/plain": [
       "     Brand              Model  Storage   RAM   Battery Capacity (mAh)  \\\n",
       "0    Apple      iPhone 13 Pro         2     6                       1   \n",
       "1  Samsung   Galaxy S21 Ultra         3    12                       3   \n",
       "2  OnePlus              9 Pro         2     8                       2   \n",
       "3   Xiaomi  Redmi Note 10 Pro         2     6                       3   \n",
       "4    Other            Pixel 6         2     8                       2   \n",
       "\n",
       "   Price ($) Model_name  Brand_T  \n",
       "0        999     iPhone        0  \n",
       "1       1199     Galaxy        8  \n",
       "2        899      other        4  \n",
       "3        279      Redmi       10  \n",
       "4        799      Pixel        6  "
      ]
     },
     "execution_count": 199,
     "metadata": {},
     "output_type": "execute_result"
    }
   ],
   "source": [
    "df.head()"
   ]
  },
  {
   "cell_type": "code",
   "execution_count": 200,
   "id": "f0e3e3d2-c2c2-4684-9aa8-4108683e2c3e",
   "metadata": {},
   "outputs": [],
   "source": [
    "# Add New column Model Name\n",
    "df['Model_T'] = lb_Models.fit_transform(df['Model_name'])"
   ]
  },
  {
   "cell_type": "code",
   "execution_count": 201,
   "id": "0fb00730-dae6-486e-bfd7-c1ababb6f0ed",
   "metadata": {},
   "outputs": [
    {
     "data": {
      "text/html": [
       "<div>\n",
       "<style scoped>\n",
       "    .dataframe tbody tr th:only-of-type {\n",
       "        vertical-align: middle;\n",
       "    }\n",
       "\n",
       "    .dataframe tbody tr th {\n",
       "        vertical-align: top;\n",
       "    }\n",
       "\n",
       "    .dataframe thead th {\n",
       "        text-align: right;\n",
       "    }\n",
       "</style>\n",
       "<table border=\"1\" class=\"dataframe\">\n",
       "  <thead>\n",
       "    <tr style=\"text-align: right;\">\n",
       "      <th></th>\n",
       "      <th>Brand</th>\n",
       "      <th>Model</th>\n",
       "      <th>Storage</th>\n",
       "      <th>RAM</th>\n",
       "      <th>Battery Capacity (mAh)</th>\n",
       "      <th>Price ($)</th>\n",
       "      <th>Model_name</th>\n",
       "      <th>Brand_T</th>\n",
       "      <th>Model_T</th>\n",
       "    </tr>\n",
       "  </thead>\n",
       "  <tbody>\n",
       "    <tr>\n",
       "      <th>0</th>\n",
       "      <td>Apple</td>\n",
       "      <td>iPhone 13 Pro</td>\n",
       "      <td>2</td>\n",
       "      <td>6</td>\n",
       "      <td>1</td>\n",
       "      <td>999</td>\n",
       "      <td>iPhone</td>\n",
       "      <td>0</td>\n",
       "      <td>8</td>\n",
       "    </tr>\n",
       "    <tr>\n",
       "      <th>1</th>\n",
       "      <td>Samsung</td>\n",
       "      <td>Galaxy S21 Ultra</td>\n",
       "      <td>3</td>\n",
       "      <td>12</td>\n",
       "      <td>3</td>\n",
       "      <td>1199</td>\n",
       "      <td>Galaxy</td>\n",
       "      <td>8</td>\n",
       "      <td>0</td>\n",
       "    </tr>\n",
       "    <tr>\n",
       "      <th>2</th>\n",
       "      <td>OnePlus</td>\n",
       "      <td>9 Pro</td>\n",
       "      <td>2</td>\n",
       "      <td>8</td>\n",
       "      <td>2</td>\n",
       "      <td>899</td>\n",
       "      <td>other</td>\n",
       "      <td>4</td>\n",
       "      <td>9</td>\n",
       "    </tr>\n",
       "    <tr>\n",
       "      <th>3</th>\n",
       "      <td>Xiaomi</td>\n",
       "      <td>Redmi Note 10 Pro</td>\n",
       "      <td>2</td>\n",
       "      <td>6</td>\n",
       "      <td>3</td>\n",
       "      <td>279</td>\n",
       "      <td>Redmi</td>\n",
       "      <td>10</td>\n",
       "      <td>7</td>\n",
       "    </tr>\n",
       "    <tr>\n",
       "      <th>4</th>\n",
       "      <td>Other</td>\n",
       "      <td>Pixel 6</td>\n",
       "      <td>2</td>\n",
       "      <td>8</td>\n",
       "      <td>2</td>\n",
       "      <td>799</td>\n",
       "      <td>Pixel</td>\n",
       "      <td>6</td>\n",
       "      <td>5</td>\n",
       "    </tr>\n",
       "  </tbody>\n",
       "</table>\n",
       "</div>"
      ],
      "text/plain": [
       "     Brand              Model  Storage   RAM   Battery Capacity (mAh)  \\\n",
       "0    Apple      iPhone 13 Pro         2     6                       1   \n",
       "1  Samsung   Galaxy S21 Ultra         3    12                       3   \n",
       "2  OnePlus              9 Pro         2     8                       2   \n",
       "3   Xiaomi  Redmi Note 10 Pro         2     6                       3   \n",
       "4    Other            Pixel 6         2     8                       2   \n",
       "\n",
       "   Price ($) Model_name  Brand_T  Model_T  \n",
       "0        999     iPhone        0        8  \n",
       "1       1199     Galaxy        8        0  \n",
       "2        899      other        4        9  \n",
       "3        279      Redmi       10        7  \n",
       "4        799      Pixel        6        5  "
      ]
     },
     "execution_count": 201,
     "metadata": {},
     "output_type": "execute_result"
    }
   ],
   "source": [
    "df.head()"
   ]
  },
  {
   "cell_type": "code",
   "execution_count": 202,
   "id": "0fda092d-7c05-4829-b708-d3db0b9bba02",
   "metadata": {},
   "outputs": [
    {
     "name": "stdout",
     "output_type": "stream",
     "text": [
      "<class 'pandas.core.frame.DataFrame'>\n",
      "RangeIndex: 407 entries, 0 to 406\n",
      "Data columns (total 9 columns):\n",
      " #   Column                  Non-Null Count  Dtype \n",
      "---  ------                  --------------  ----- \n",
      " 0   Brand                   407 non-null    object\n",
      " 1   Model                   407 non-null    object\n",
      " 2   Storage                 407 non-null    int64 \n",
      " 3   RAM                     407 non-null    int64 \n",
      " 4   Battery Capacity (mAh)  407 non-null    int64 \n",
      " 5   Price ($)               407 non-null    int64 \n",
      " 6   Model_name              407 non-null    object\n",
      " 7   Brand_T                 407 non-null    int32 \n",
      " 8   Model_T                 407 non-null    int32 \n",
      "dtypes: int32(2), int64(4), object(3)\n",
      "memory usage: 25.6+ KB\n"
     ]
    }
   ],
   "source": [
    "df.info()"
   ]
  },
  {
   "cell_type": "code",
   "execution_count": 203,
   "id": "232ebb9a-4680-4a73-ba70-15a5f4f2c7c0",
   "metadata": {},
   "outputs": [
    {
     "data": {
      "text/html": [
       "<div>\n",
       "<style scoped>\n",
       "    .dataframe tbody tr th:only-of-type {\n",
       "        vertical-align: middle;\n",
       "    }\n",
       "\n",
       "    .dataframe tbody tr th {\n",
       "        vertical-align: top;\n",
       "    }\n",
       "\n",
       "    .dataframe thead th {\n",
       "        text-align: right;\n",
       "    }\n",
       "</style>\n",
       "<table border=\"1\" class=\"dataframe\">\n",
       "  <thead>\n",
       "    <tr style=\"text-align: right;\">\n",
       "      <th></th>\n",
       "      <th>Storage</th>\n",
       "      <th>RAM</th>\n",
       "      <th>Battery Capacity (mAh)</th>\n",
       "      <th>Price ($)</th>\n",
       "      <th>Brand_T</th>\n",
       "      <th>Model_T</th>\n",
       "    </tr>\n",
       "  </thead>\n",
       "  <tbody>\n",
       "    <tr>\n",
       "      <th>count</th>\n",
       "      <td>407.000000</td>\n",
       "      <td>407.000000</td>\n",
       "      <td>407.000000</td>\n",
       "      <td>407.000000</td>\n",
       "      <td>407.000000</td>\n",
       "      <td>407.000000</td>\n",
       "    </tr>\n",
       "    <tr>\n",
       "      <th>mean</th>\n",
       "      <td>1.756757</td>\n",
       "      <td>5.837838</td>\n",
       "      <td>2.515971</td>\n",
       "      <td>408.314496</td>\n",
       "      <td>6.176904</td>\n",
       "      <td>5.926290</td>\n",
       "    </tr>\n",
       "    <tr>\n",
       "      <th>std</th>\n",
       "      <td>0.760669</td>\n",
       "      <td>2.431980</td>\n",
       "      <td>0.930658</td>\n",
       "      <td>299.684768</td>\n",
       "      <td>3.079114</td>\n",
       "      <td>3.677179</td>\n",
       "    </tr>\n",
       "    <tr>\n",
       "      <th>min</th>\n",
       "      <td>0.000000</td>\n",
       "      <td>2.000000</td>\n",
       "      <td>0.000000</td>\n",
       "      <td>99.000000</td>\n",
       "      <td>0.000000</td>\n",
       "      <td>0.000000</td>\n",
       "    </tr>\n",
       "    <tr>\n",
       "      <th>25%</th>\n",
       "      <td>1.000000</td>\n",
       "      <td>4.000000</td>\n",
       "      <td>2.000000</td>\n",
       "      <td>199.000000</td>\n",
       "      <td>4.000000</td>\n",
       "      <td>2.000000</td>\n",
       "    </tr>\n",
       "    <tr>\n",
       "      <th>50%</th>\n",
       "      <td>2.000000</td>\n",
       "      <td>6.000000</td>\n",
       "      <td>3.000000</td>\n",
       "      <td>299.000000</td>\n",
       "      <td>7.000000</td>\n",
       "      <td>8.000000</td>\n",
       "    </tr>\n",
       "    <tr>\n",
       "      <th>75%</th>\n",
       "      <td>2.000000</td>\n",
       "      <td>8.000000</td>\n",
       "      <td>3.000000</td>\n",
       "      <td>499.000000</td>\n",
       "      <td>8.500000</td>\n",
       "      <td>9.000000</td>\n",
       "    </tr>\n",
       "    <tr>\n",
       "      <th>max</th>\n",
       "      <td>4.000000</td>\n",
       "      <td>16.000000</td>\n",
       "      <td>5.000000</td>\n",
       "      <td>1999.000000</td>\n",
       "      <td>10.000000</td>\n",
       "      <td>9.000000</td>\n",
       "    </tr>\n",
       "  </tbody>\n",
       "</table>\n",
       "</div>"
      ],
      "text/plain": [
       "         Storage         RAM   Battery Capacity (mAh)    Price ($)  \\\n",
       "count  407.000000  407.000000              407.000000   407.000000   \n",
       "mean     1.756757    5.837838                2.515971   408.314496   \n",
       "std      0.760669    2.431980                0.930658   299.684768   \n",
       "min      0.000000    2.000000                0.000000    99.000000   \n",
       "25%      1.000000    4.000000                2.000000   199.000000   \n",
       "50%      2.000000    6.000000                3.000000   299.000000   \n",
       "75%      2.000000    8.000000                3.000000   499.000000   \n",
       "max      4.000000   16.000000                5.000000  1999.000000   \n",
       "\n",
       "          Brand_T     Model_T  \n",
       "count  407.000000  407.000000  \n",
       "mean     6.176904    5.926290  \n",
       "std      3.079114    3.677179  \n",
       "min      0.000000    0.000000  \n",
       "25%      4.000000    2.000000  \n",
       "50%      7.000000    8.000000  \n",
       "75%      8.500000    9.000000  \n",
       "max     10.000000    9.000000  "
      ]
     },
     "execution_count": 203,
     "metadata": {},
     "output_type": "execute_result"
    }
   ],
   "source": [
    "df.describe()"
   ]
  },
  {
   "cell_type": "code",
   "execution_count": 204,
   "id": "a4b32fdb-ad25-4df0-8362-56dad48e8518",
   "metadata": {},
   "outputs": [
    {
     "data": {
      "text/plain": [
       "Index(['Brand', 'Model', 'Storage ', 'RAM ', 'Battery Capacity (mAh)',\n",
       "       'Price ($)', 'Model_name', 'Brand_T', 'Model_T'],\n",
       "      dtype='object')"
      ]
     },
     "execution_count": 204,
     "metadata": {},
     "output_type": "execute_result"
    }
   ],
   "source": [
    "df.columns"
   ]
  },
  {
   "cell_type": "markdown",
   "id": "ee05f5f9-952f-45d5-9a70-495a54ada1fe",
   "metadata": {},
   "source": [
    "\n",
    "# <font color=\"blue\">Data Visualization</font>"
   ]
  },
  {
   "cell_type": "code",
   "execution_count": 205,
   "id": "efe2285e-7555-4983-9e5a-bd73b90feff5",
   "metadata": {},
   "outputs": [
    {
     "data": {
      "text/plain": [
       "<seaborn.axisgrid.PairGrid at 0x1cfc66eba30>"
      ]
     },
     "execution_count": 205,
     "metadata": {},
     "output_type": "execute_result"
    },
    {
     "data": {
      "image/png": "[encoded data removed]",
      "text/plain": [
       "<Figure size 1500x1500 with 42 Axes>"
      ]
     },
     "metadata": {},
     "output_type": "display_data"
    }
   ],
   "source": [
    "# This code generates a pair plot using Seaborn, which visualizes pairwise relationships\n",
    "#  displaying scatterplots for numerical variables\n",
    "# and histograms for each variable along the diagonal.\n",
    "# seaborn for visualization\n",
    "import seaborn as sns\n",
    "\n",
    "sns.pairplot(df)\n"
   ]
  },
  {
   "cell_type": "code",
   "execution_count": 206,
   "id": "d181350c-3503-4d91-8c75-503872e10115",
   "metadata": {},
   "outputs": [
    {
     "data": {
      "image/png": "[encoded data removed]",
      "text/plain": [
       "<Figure size 640x480 with 1 Axes>"
      ]
     },
     "metadata": {},
     "output_type": "display_data"
    }
   ],
   "source": [
    "# creates a scatter plot using Seaborn to visualize the relationship between\n",
    "# the 'Storage' and 'Price ($)' columns from the DataFrame 'df', with custom labels and title.\n",
    "\n",
    "\n",
    "\n",
    "import seaborn as sns\n",
    "import pandas as pd\n",
    "import matplotlib.pyplot as plt\n",
    "\n",
    "\n",
    "\n",
    "# Create a scatter plot using Seaborn\n",
    "sns.scatterplot( x=df['Storage '],y=df['Price ($)'])\n",
    "plt.ylabel('Price ($)')\n",
    "plt.xlabel('Storage')\n",
    "plt.title('Price vs Storage')\n",
    "plt.show()\n"
   ]
  },
  {
   "cell_type": "markdown",
   "id": "87ca5977-208f-4c12-a621-1dc8942b4126",
   "metadata": {},
   "source": [
    "\n",
    "### <font color=\"gree\">Brands Distribution</font>"
   ]
  },
  {
   "cell_type": "code",
   "execution_count": 207,
   "id": "9e05bc16-8312-4d81-b220-04650d7a9e52",
   "metadata": {},
   "outputs": [
    {
     "name": "stderr",
     "output_type": "stream",
     "text": [
      "C:\\Users\\niman\\AppData\\Local\\Temp\\ipykernel_1556\\2796424107.py:6: FutureWarning: \n",
      "\n",
      "Passing `palette` without assigning `hue` is deprecated and will be removed in v0.14.0. Assign the `x` variable to `hue` and set `legend=False` for the same effect.\n",
      "\n",
      "  g = sns.catplot(x=\"Brand\",data=df,kind=\"count\",palette=\"Purples_r\", height=6, aspect=2,order = df['Brand'].value_counts().index)\n"
     ]
    },
    {
     "data": {
      "image/png": "[encoded data removed]",
      "text/plain": [
       "<Figure size 1200x600 with 1 Axes>"
      ]
     },
     "metadata": {},
     "output_type": "display_data"
    }
   ],
   "source": [
    "# creates a categorical plot (count plot) using Seaborn to visualize the distribution\n",
    "# of the 'Brand' column in the DataFrame 'df', with a custom palette, height, aspect, and order of categories,\n",
    "# along with a title positioned at the top of the figure.\n",
    "\n",
    "\n",
    "g = sns.catplot(x=\"Brand\",data=df,kind=\"count\",palette=\"Purples_r\", height=6, aspect=2,order = df['Brand'].value_counts().index)\n",
    "g.fig.suptitle(\"Brand distirbution\",y=1)\n",
    "plt.show()"
   ]
  },
  {
   "cell_type": "markdown",
   "id": "a1a60d75-6be3-498c-bdc3-8964f6d1dbef",
   "metadata": {},
   "source": [
    "\n",
    "### <font color=\"gree\">total price by brand</font>"
   ]
  },
  {
   "cell_type": "code",
   "execution_count": 208,
   "id": "1d645d29-855d-4513-b970-48fd6708e5c1",
   "metadata": {},
   "outputs": [
    {
     "name": "stderr",
     "output_type": "stream",
     "text": [
      "C:\\Users\\niman\\AppData\\Local\\Temp\\ipykernel_1556\\3641407652.py:10: FutureWarning: \n",
      "\n",
      "Passing `palette` without assigning `hue` is deprecated and will be removed in v0.14.0. Assign the `x` variable to `hue` and set `legend=False` for the same effect.\n",
      "\n",
      "  sns.barplot(data=brand_prices_sorted, x='Brand', y='Price ($)', palette=\"Purples_r\" )\n"
     ]
    },
    {
     "data": {
      "image/png": "[encoded data removed]",
      "text/plain": [
       "<Figure size 1000x600 with 1 Axes>"
      ]
     },
     "metadata": {},
     "output_type": "display_data"
    }
   ],
   "source": [
    "# calculates the total price of products for each brand \n",
    "# then creates a horizontal bar plot using Seaborn to visualize the total price by brand, with brands sorted by total price in descending order.\n",
    "\n",
    "\n",
    "\n",
    "brand_prices = df.groupby('Brand')['Price ($)'].sum().reset_index()\n",
    "brand_prices_sorted = brand_prices.sort_values(by='Price ($)', ascending=False)\n",
    "sns.set(style=\"darkgrid\")\n",
    "plt.figure(figsize=(10, 6))\n",
    "sns.barplot(data=brand_prices_sorted, x='Brand', y='Price ($)', palette=\"Purples_r\" )\n",
    "\n",
    "plt.title(\"Total Price by Brand\")\n",
    "plt.xlabel(\"Brand\")\n",
    "plt.ylabel(\"Total Price ($)\")\n",
    "plt.xticks(rotation=60, ha='center')\n",
    "plt.show()"
   ]
  },
  {
   "cell_type": "markdown",
   "id": "34b0b467-4a0f-4649-83c0-9073daafe74c",
   "metadata": {},
   "source": [
    "### <font color=\"gree\">Drop unnecessary columns</font>"
   ]
  },
  {
   "cell_type": "code",
   "execution_count": 209,
   "id": "a96639c0-d3bc-4ba1-a7d9-b78df1911c98",
   "metadata": {},
   "outputs": [],
   "source": [
    "# Drop Brand Column and Model Column\n",
    "df = df.drop(columns=['Brand'])\n",
    "df = df.drop(columns=['Model'])\n",
    "df = df.drop(columns=['Model_name'])"
   ]
  },
  {
   "cell_type": "code",
   "execution_count": 210,
   "id": "911f2de9-9668-40a1-9aea-4f15f98f1677",
   "metadata": {},
   "outputs": [
    {
     "data": {
      "text/html": [
       "<div>\n",
       "<style scoped>\n",
       "    .dataframe tbody tr th:only-of-type {\n",
       "        vertical-align: middle;\n",
       "    }\n",
       "\n",
       "    .dataframe tbody tr th {\n",
       "        vertical-align: top;\n",
       "    }\n",
       "\n",
       "    .dataframe thead th {\n",
       "        text-align: right;\n",
       "    }\n",
       "</style>\n",
       "<table border=\"1\" class=\"dataframe\">\n",
       "  <thead>\n",
       "    <tr style=\"text-align: right;\">\n",
       "      <th></th>\n",
       "      <th>Storage</th>\n",
       "      <th>RAM</th>\n",
       "      <th>Battery Capacity (mAh)</th>\n",
       "      <th>Price ($)</th>\n",
       "      <th>Brand_T</th>\n",
       "      <th>Model_T</th>\n",
       "    </tr>\n",
       "  </thead>\n",
       "  <tbody>\n",
       "    <tr>\n",
       "      <th>0</th>\n",
       "      <td>2</td>\n",
       "      <td>6</td>\n",
       "      <td>1</td>\n",
       "      <td>999</td>\n",
       "      <td>0</td>\n",
       "      <td>8</td>\n",
       "    </tr>\n",
       "    <tr>\n",
       "      <th>1</th>\n",
       "      <td>3</td>\n",
       "      <td>12</td>\n",
       "      <td>3</td>\n",
       "      <td>1199</td>\n",
       "      <td>8</td>\n",
       "      <td>0</td>\n",
       "    </tr>\n",
       "    <tr>\n",
       "      <th>2</th>\n",
       "      <td>2</td>\n",
       "      <td>8</td>\n",
       "      <td>2</td>\n",
       "      <td>899</td>\n",
       "      <td>4</td>\n",
       "      <td>9</td>\n",
       "    </tr>\n",
       "    <tr>\n",
       "      <th>3</th>\n",
       "      <td>2</td>\n",
       "      <td>6</td>\n",
       "      <td>3</td>\n",
       "      <td>279</td>\n",
       "      <td>10</td>\n",
       "      <td>7</td>\n",
       "    </tr>\n",
       "    <tr>\n",
       "      <th>4</th>\n",
       "      <td>2</td>\n",
       "      <td>8</td>\n",
       "      <td>2</td>\n",
       "      <td>799</td>\n",
       "      <td>6</td>\n",
       "      <td>5</td>\n",
       "    </tr>\n",
       "    <tr>\n",
       "      <th>...</th>\n",
       "      <td>...</td>\n",
       "      <td>...</td>\n",
       "      <td>...</td>\n",
       "      <td>...</td>\n",
       "      <td>...</td>\n",
       "      <td>...</td>\n",
       "    </tr>\n",
       "    <tr>\n",
       "      <th>402</th>\n",
       "      <td>2</td>\n",
       "      <td>8</td>\n",
       "      <td>2</td>\n",
       "      <td>1049</td>\n",
       "      <td>8</td>\n",
       "      <td>0</td>\n",
       "    </tr>\n",
       "    <tr>\n",
       "      <th>403</th>\n",
       "      <td>2</td>\n",
       "      <td>6</td>\n",
       "      <td>2</td>\n",
       "      <td>349</td>\n",
       "      <td>10</td>\n",
       "      <td>1</td>\n",
       "    </tr>\n",
       "    <tr>\n",
       "      <th>404</th>\n",
       "      <td>2</td>\n",
       "      <td>6</td>\n",
       "      <td>1</td>\n",
       "      <td>1099</td>\n",
       "      <td>0</td>\n",
       "      <td>8</td>\n",
       "    </tr>\n",
       "    <tr>\n",
       "      <th>405</th>\n",
       "      <td>2</td>\n",
       "      <td>8</td>\n",
       "      <td>2</td>\n",
       "      <td>429</td>\n",
       "      <td>5</td>\n",
       "      <td>9</td>\n",
       "    </tr>\n",
       "    <tr>\n",
       "      <th>406</th>\n",
       "      <td>2</td>\n",
       "      <td>6</td>\n",
       "      <td>2</td>\n",
       "      <td>649</td>\n",
       "      <td>8</td>\n",
       "      <td>0</td>\n",
       "    </tr>\n",
       "  </tbody>\n",
       "</table>\n",
       "<p>407 rows × 6 columns</p>\n",
       "</div>"
      ],
      "text/plain": [
       "     Storage   RAM   Battery Capacity (mAh)  Price ($)  Brand_T  Model_T\n",
       "0           2     6                       1        999        0        8\n",
       "1           3    12                       3       1199        8        0\n",
       "2           2     8                       2        899        4        9\n",
       "3           2     6                       3        279       10        7\n",
       "4           2     8                       2        799        6        5\n",
       "..        ...   ...                     ...        ...      ...      ...\n",
       "402         2     8                       2       1049        8        0\n",
       "403         2     6                       2        349       10        1\n",
       "404         2     6                       1       1099        0        8\n",
       "405         2     8                       2        429        5        9\n",
       "406         2     6                       2        649        8        0\n",
       "\n",
       "[407 rows x 6 columns]"
      ]
     },
     "execution_count": 210,
     "metadata": {},
     "output_type": "execute_result"
    }
   ],
   "source": [
    "df"
   ]
  },
  {
   "cell_type": "markdown",
   "id": "3c41c98a-d2e6-471b-bac3-6db02c853fa8",
   "metadata": {},
   "source": [
    "# <font color=\"blue\">Feature scaling </font>\n",
    "\n",
    "## <font color=\"gree\">Min-max-Scaling </font>"
   ]
  },
  {
   "cell_type": "code",
   "execution_count": 211,
   "id": "893778aa-37a4-47c3-b73b-2886cd0e9995",
   "metadata": {},
   "outputs": [
    {
     "name": "stdout",
     "output_type": "stream",
     "text": [
      "   Storage       RAM   Battery Capacity (mAh)  Price ($)  Brand_T   Model_T\n",
      "0      0.50  0.285714                     0.2   0.473684      0.0  0.888889\n",
      "1      0.75  0.714286                     0.6   0.578947      0.8  0.000000\n",
      "2      0.50  0.428571                     0.4   0.421053      0.4  1.000000\n",
      "3      0.50  0.285714                     0.6   0.094737      1.0  0.777778\n",
      "4      0.50  0.428571                     0.4   0.368421      0.6  0.555556\n"
     ]
    }
   ],
   "source": [
    "#   applies it to scale the numerical features\n",
    "# range between 0 and 1. It creates a new DataFrame 'df_pred_mmax' to store the scaled data,\n",
    "\n",
    "\n",
    "\n",
    "from sklearn.preprocessing import MinMaxScaler\n",
    "scaler = MinMaxScaler()\n",
    "df_pred_mmax = pd.DataFrame(scaler.fit_transform(df), columns=df.columns)\n",
    "\n",
    "# Display the first 5 rows of the preprocessed dataset\n",
    "print(df_pred_mmax.head())"
   ]
  },
  {
   "cell_type": "markdown",
   "id": "954baa4f-5701-48c8-ab39-b8edd52a54dd",
   "metadata": {},
   "source": [
    "##  <font color=\"gree\">Standard scaling </font>"
   ]
  },
  {
   "cell_type": "code",
   "execution_count": 212,
   "id": "f293e6e3-1776-4d1e-b1d1-47cc1009ab7c",
   "metadata": {},
   "outputs": [
    {
     "name": "stdout",
     "output_type": "stream",
     "text": [
      "   Storage       RAM   Battery Capacity (mAh)  Price ($)   Brand_T   Model_T\n",
      "0  0.320169  0.066761               -1.630929   1.973449 -2.008534  0.564635\n",
      "1  1.636418  2.536923                0.520734   2.641638  0.592813 -1.613624\n",
      "2  0.320169  0.890149               -0.555097   1.639354 -0.707861  0.836917\n",
      "3  0.320169  0.066761                0.520734  -0.432033  1.243150  0.292352\n",
      "4  0.320169  0.890149               -0.555097   1.305259 -0.057524 -0.252212\n"
     ]
    }
   ],
   "source": [
    "#  then applies it to standardize (mean=0, variance=1) the numerical features\n",
    "# in the DataFrame 'df'. It creates a new DataFrame 'df_pred_sc' to store the standardized data,\n",
    "\n",
    "\n",
    "from sklearn.preprocessing import StandardScaler\n",
    "import pandas as pd  # Don't forget to import pandas if it's not imported already\n",
    "\n",
    "# Initialize the StandardScaler\n",
    "scaler = StandardScaler()\n",
    "\n",
    "# Fit and transform the data\n",
    "df_pred_sc = pd.DataFrame(scaler.fit_transform(df), columns=df.columns)\n",
    "\n",
    "# Display the first 5 rows of the preprocessed dataset\n",
    "print(df_pred_sc.head())\n",
    "\n"
   ]
  },
  {
   "cell_type": "markdown",
   "id": "bff777e9-8d2c-489b-a7e6-14d41225aaa7",
   "metadata": {},
   "source": [
    "# <font color=\"blue\">Model Building and Selection</font>"
   ]
  },
  {
   "cell_type": "code",
   "execution_count": 213,
   "id": "6637636f-8c9d-4925-a217-819fa7bf1160",
   "metadata": {},
   "outputs": [],
   "source": [
    "\n",
    "# all columns except 'Price ($)' (features), and Y contains only the 'Price ($)' column (target variable).\n",
    "\n",
    "X = df.drop('Price ($)', axis=1)\n",
    "Y = df['Price ($)']"
   ]
  },
  {
   "cell_type": "code",
   "execution_count": 214,
   "id": "3bd64f3c-3917-4f80-acd6-04578530eda2",
   "metadata": {},
   "outputs": [
    {
     "data": {
      "text/html": [
       "<div>\n",
       "<style scoped>\n",
       "    .dataframe tbody tr th:only-of-type {\n",
       "        vertical-align: middle;\n",
       "    }\n",
       "\n",
       "    .dataframe tbody tr th {\n",
       "        vertical-align: top;\n",
       "    }\n",
       "\n",
       "    .dataframe thead th {\n",
       "        text-align: right;\n",
       "    }\n",
       "</style>\n",
       "<table border=\"1\" class=\"dataframe\">\n",
       "  <thead>\n",
       "    <tr style=\"text-align: right;\">\n",
       "      <th></th>\n",
       "      <th>Storage</th>\n",
       "      <th>RAM</th>\n",
       "      <th>Battery Capacity (mAh)</th>\n",
       "      <th>Brand_T</th>\n",
       "      <th>Model_T</th>\n",
       "    </tr>\n",
       "  </thead>\n",
       "  <tbody>\n",
       "    <tr>\n",
       "      <th>0</th>\n",
       "      <td>2</td>\n",
       "      <td>6</td>\n",
       "      <td>1</td>\n",
       "      <td>0</td>\n",
       "      <td>8</td>\n",
       "    </tr>\n",
       "    <tr>\n",
       "      <th>1</th>\n",
       "      <td>3</td>\n",
       "      <td>12</td>\n",
       "      <td>3</td>\n",
       "      <td>8</td>\n",
       "      <td>0</td>\n",
       "    </tr>\n",
       "    <tr>\n",
       "      <th>2</th>\n",
       "      <td>2</td>\n",
       "      <td>8</td>\n",
       "      <td>2</td>\n",
       "      <td>4</td>\n",
       "      <td>9</td>\n",
       "    </tr>\n",
       "    <tr>\n",
       "      <th>3</th>\n",
       "      <td>2</td>\n",
       "      <td>6</td>\n",
       "      <td>3</td>\n",
       "      <td>10</td>\n",
       "      <td>7</td>\n",
       "    </tr>\n",
       "    <tr>\n",
       "      <th>4</th>\n",
       "      <td>2</td>\n",
       "      <td>8</td>\n",
       "      <td>2</td>\n",
       "      <td>6</td>\n",
       "      <td>5</td>\n",
       "    </tr>\n",
       "    <tr>\n",
       "      <th>...</th>\n",
       "      <td>...</td>\n",
       "      <td>...</td>\n",
       "      <td>...</td>\n",
       "      <td>...</td>\n",
       "      <td>...</td>\n",
       "    </tr>\n",
       "    <tr>\n",
       "      <th>402</th>\n",
       "      <td>2</td>\n",
       "      <td>8</td>\n",
       "      <td>2</td>\n",
       "      <td>8</td>\n",
       "      <td>0</td>\n",
       "    </tr>\n",
       "    <tr>\n",
       "      <th>403</th>\n",
       "      <td>2</td>\n",
       "      <td>6</td>\n",
       "      <td>2</td>\n",
       "      <td>10</td>\n",
       "      <td>1</td>\n",
       "    </tr>\n",
       "    <tr>\n",
       "      <th>404</th>\n",
       "      <td>2</td>\n",
       "      <td>6</td>\n",
       "      <td>1</td>\n",
       "      <td>0</td>\n",
       "      <td>8</td>\n",
       "    </tr>\n",
       "    <tr>\n",
       "      <th>405</th>\n",
       "      <td>2</td>\n",
       "      <td>8</td>\n",
       "      <td>2</td>\n",
       "      <td>5</td>\n",
       "      <td>9</td>\n",
       "    </tr>\n",
       "    <tr>\n",
       "      <th>406</th>\n",
       "      <td>2</td>\n",
       "      <td>6</td>\n",
       "      <td>2</td>\n",
       "      <td>8</td>\n",
       "      <td>0</td>\n",
       "    </tr>\n",
       "  </tbody>\n",
       "</table>\n",
       "<p>407 rows × 5 columns</p>\n",
       "</div>"
      ],
      "text/plain": [
       "     Storage   RAM   Battery Capacity (mAh)  Brand_T  Model_T\n",
       "0           2     6                       1        0        8\n",
       "1           3    12                       3        8        0\n",
       "2           2     8                       2        4        9\n",
       "3           2     6                       3       10        7\n",
       "4           2     8                       2        6        5\n",
       "..        ...   ...                     ...      ...      ...\n",
       "402         2     8                       2        8        0\n",
       "403         2     6                       2       10        1\n",
       "404         2     6                       1        0        8\n",
       "405         2     8                       2        5        9\n",
       "406         2     6                       2        8        0\n",
       "\n",
       "[407 rows x 5 columns]"
      ]
     },
     "execution_count": 214,
     "metadata": {},
     "output_type": "execute_result"
    }
   ],
   "source": [
    "X"
   ]
  },
  {
   "cell_type": "code",
   "execution_count": 215,
   "id": "29629f52-0973-459f-85ec-80c6a2c4a447",
   "metadata": {},
   "outputs": [
    {
     "data": {
      "text/plain": [
       "0       999\n",
       "1      1199\n",
       "2       899\n",
       "3       279\n",
       "4       799\n",
       "       ... \n",
       "402    1049\n",
       "403     349\n",
       "404    1099\n",
       "405     429\n",
       "406     649\n",
       "Name: Price ($), Length: 407, dtype: int64"
      ]
     },
     "execution_count": 215,
     "metadata": {},
     "output_type": "execute_result"
    }
   ],
   "source": [
    "Y"
   ]
  },
  {
   "cell_type": "markdown",
   "id": "65bba714-1dfd-4c4c-927c-539530e66f8e",
   "metadata": {},
   "source": [
    "## <font color=\"gree\">Divide dataset into training and testing set</font>"
   ]
  },
  {
   "cell_type": "code",
   "execution_count": 216,
   "id": "e5e0b0da-3cc7-45cc-a888-583707907e24",
   "metadata": {},
   "outputs": [],
   "source": [
    "\n",
    "#  It assigns 80% of the data to the training set (x_train, y_train)\n",
    "# and 20% to the testing set (x_test, y_test), with a specified random state for reproducibility.\n",
    "\n",
    "\n",
    "from sklearn.model_selection import train_test_split\n",
    "\n",
    "x_train,x_test,y_train,y_test=train_test_split(X,Y,test_size=0.2,random_state=42)"
   ]
  },
  {
   "cell_type": "code",
   "execution_count": null,
   "id": "3a0ebf6d-fa14-4aa5-bd89-a5ea8842fe6a",
   "metadata": {},
   "outputs": [],
   "source": []
  },
  {
   "cell_type": "code",
   "execution_count": null,
   "id": "9cf05023-c1e5-419f-8e0a-69eb6b495bc3",
   "metadata": {},
   "outputs": [],
   "source": []
  },
  {
   "cell_type": "code",
   "execution_count": 217,
   "id": "c4714b05-6ca3-4883-b00a-4a7e7f1d3fef",
   "metadata": {},
   "outputs": [
    {
     "data": {
      "text/plain": [
       "(325, 5)"
      ]
     },
     "execution_count": 217,
     "metadata": {},
     "output_type": "execute_result"
    }
   ],
   "source": [
    "\n",
    "x_train.shape"
   ]
  },
  {
   "cell_type": "code",
   "execution_count": 218,
   "id": "5e1d5b4f-4c14-4ce0-9c13-bcc425103e04",
   "metadata": {},
   "outputs": [
    {
     "data": {
      "text/plain": [
       "(325,)"
      ]
     },
     "execution_count": 218,
     "metadata": {},
     "output_type": "execute_result"
    }
   ],
   "source": [
    "y_train.shape"
   ]
  },
  {
   "cell_type": "code",
   "execution_count": 219,
   "id": "32c2d193-6c46-428c-92ea-a077727528eb",
   "metadata": {},
   "outputs": [
    {
     "data": {
      "text/plain": [
       "(82, 5)"
      ]
     },
     "execution_count": 219,
     "metadata": {},
     "output_type": "execute_result"
    }
   ],
   "source": [
    "x_test.shape"
   ]
  },
  {
   "cell_type": "code",
   "execution_count": 220,
   "id": "2402fbb8-5e78-46f9-bbf4-34bf3af2bad6",
   "metadata": {},
   "outputs": [
    {
     "data": {
      "text/plain": [
       "(82,)"
      ]
     },
     "execution_count": 220,
     "metadata": {},
     "output_type": "execute_result"
    }
   ],
   "source": [
    "y_test.shape"
   ]
  },
  {
   "cell_type": "code",
   "execution_count": 221,
   "id": "801f0a45-0425-46c8-8635-24b3b973fc73",
   "metadata": {},
   "outputs": [
    {
     "data": {
      "text/html": [
       "<div>\n",
       "<style scoped>\n",
       "    .dataframe tbody tr th:only-of-type {\n",
       "        vertical-align: middle;\n",
       "    }\n",
       "\n",
       "    .dataframe tbody tr th {\n",
       "        vertical-align: top;\n",
       "    }\n",
       "\n",
       "    .dataframe thead th {\n",
       "        text-align: right;\n",
       "    }\n",
       "</style>\n",
       "<table border=\"1\" class=\"dataframe\">\n",
       "  <thead>\n",
       "    <tr style=\"text-align: right;\">\n",
       "      <th></th>\n",
       "      <th>Storage</th>\n",
       "      <th>RAM</th>\n",
       "      <th>Battery Capacity (mAh)</th>\n",
       "      <th>Brand_T</th>\n",
       "      <th>Model_T</th>\n",
       "    </tr>\n",
       "  </thead>\n",
       "  <tbody>\n",
       "    <tr>\n",
       "      <th>70</th>\n",
       "      <td>2</td>\n",
       "      <td>4</td>\n",
       "      <td>4</td>\n",
       "      <td>7</td>\n",
       "      <td>9</td>\n",
       "    </tr>\n",
       "    <tr>\n",
       "      <th>218</th>\n",
       "      <td>1</td>\n",
       "      <td>4</td>\n",
       "      <td>3</td>\n",
       "      <td>10</td>\n",
       "      <td>7</td>\n",
       "    </tr>\n",
       "    <tr>\n",
       "      <th>258</th>\n",
       "      <td>2</td>\n",
       "      <td>8</td>\n",
       "      <td>4</td>\n",
       "      <td>8</td>\n",
       "      <td>0</td>\n",
       "    </tr>\n",
       "    <tr>\n",
       "      <th>33</th>\n",
       "      <td>2</td>\n",
       "      <td>6</td>\n",
       "      <td>3</td>\n",
       "      <td>5</td>\n",
       "      <td>9</td>\n",
       "    </tr>\n",
       "    <tr>\n",
       "      <th>42</th>\n",
       "      <td>1</td>\n",
       "      <td>4</td>\n",
       "      <td>4</td>\n",
       "      <td>8</td>\n",
       "      <td>0</td>\n",
       "    </tr>\n",
       "    <tr>\n",
       "      <th>...</th>\n",
       "      <td>...</td>\n",
       "      <td>...</td>\n",
       "      <td>...</td>\n",
       "      <td>...</td>\n",
       "      <td>...</td>\n",
       "    </tr>\n",
       "    <tr>\n",
       "      <th>90</th>\n",
       "      <td>1</td>\n",
       "      <td>4</td>\n",
       "      <td>1</td>\n",
       "      <td>6</td>\n",
       "      <td>9</td>\n",
       "    </tr>\n",
       "    <tr>\n",
       "      <th>379</th>\n",
       "      <td>2</td>\n",
       "      <td>3</td>\n",
       "      <td>0</td>\n",
       "      <td>0</td>\n",
       "      <td>8</td>\n",
       "    </tr>\n",
       "    <tr>\n",
       "      <th>341</th>\n",
       "      <td>2</td>\n",
       "      <td>8</td>\n",
       "      <td>3</td>\n",
       "      <td>5</td>\n",
       "      <td>9</td>\n",
       "    </tr>\n",
       "    <tr>\n",
       "      <th>376</th>\n",
       "      <td>3</td>\n",
       "      <td>8</td>\n",
       "      <td>2</td>\n",
       "      <td>1</td>\n",
       "      <td>9</td>\n",
       "    </tr>\n",
       "    <tr>\n",
       "      <th>357</th>\n",
       "      <td>2</td>\n",
       "      <td>8</td>\n",
       "      <td>2</td>\n",
       "      <td>5</td>\n",
       "      <td>9</td>\n",
       "    </tr>\n",
       "  </tbody>\n",
       "</table>\n",
       "<p>82 rows × 5 columns</p>\n",
       "</div>"
      ],
      "text/plain": [
       "     Storage   RAM   Battery Capacity (mAh)  Brand_T  Model_T\n",
       "70          2     4                       4        7        9\n",
       "218         1     4                       3       10        7\n",
       "258         2     8                       4        8        0\n",
       "33          2     6                       3        5        9\n",
       "42          1     4                       4        8        0\n",
       "..        ...   ...                     ...      ...      ...\n",
       "90          1     4                       1        6        9\n",
       "379         2     3                       0        0        8\n",
       "341         2     8                       3        5        9\n",
       "376         3     8                       2        1        9\n",
       "357         2     8                       2        5        9\n",
       "\n",
       "[82 rows x 5 columns]"
      ]
     },
     "execution_count": 221,
     "metadata": {},
     "output_type": "execute_result"
    }
   ],
   "source": [
    "x_test"
   ]
  },
  {
   "cell_type": "code",
   "execution_count": 222,
   "id": "191a87fd-8525-40eb-bce4-ffb7d9384b3f",
   "metadata": {},
   "outputs": [
    {
     "data": {
      "text/plain": [
       "70     169\n",
       "218    139\n",
       "258    349\n",
       "33     259\n",
       "42     189\n",
       "      ... \n",
       "90     399\n",
       "379    449\n",
       "341    399\n",
       "376    999\n",
       "357    399\n",
       "Name: Price ($), Length: 82, dtype: int64"
      ]
     },
     "execution_count": 222,
     "metadata": {},
     "output_type": "execute_result"
    }
   ],
   "source": [
    "y_test"
   ]
  },
  {
   "cell_type": "markdown",
   "id": "a4b39967-f47e-4fc1-a419-a2aa26acacfa",
   "metadata": {},
   "source": [
    "# <font color=\"blue\">Model training </font>"
   ]
  },
  {
   "cell_type": "code",
   "execution_count": 223,
   "id": "1dd1a16f-c1b1-46c8-90c0-f3647773011d",
   "metadata": {},
   "outputs": [],
   "source": [
    "\n",
    "# (x_train, y_train) and then calculating its accuracy score using the testing data (x_test, y_test).\n",
    "# It prints the model name and its corresponding accuracy score.\n",
    "\n",
    "\n",
    "\n",
    "def model_acc(model):\n",
    "    model.fit(x_train, y_train)\n",
    "    acc = model.score(x_test, y_test)\n",
    "    print(str(model)+ ' --> ' +str(acc))"
   ]
  },
  {
   "cell_type": "markdown",
   "id": "1488510d-6da7-4262-b32c-06cb7b8bb29e",
   "metadata": {},
   "source": [
    "# <font color=\"gree\">regression_metrics</font>"
   ]
  },
  {
   "cell_type": "code",
   "execution_count": 224,
   "id": "dd078b5d-f73c-4b5b-95b4-ce311e363509",
   "metadata": {},
   "outputs": [],
   "source": [
    "import numpy as np\n",
    "from sklearn.metrics import mean_absolute_error, mean_squared_error, r2_score\n",
    "\n",
    "def regression_metrics(y_test, y_predict):\n",
    "   \n",
    "   \n",
    "    \n",
    "    # Mean Absolute Error (MAE)\n",
    "    MAE = mean_absolute_error(y_test, y_pred)\n",
    "    \n",
    "    # Mean Squared Error (MSE)\n",
    "    MSE= mean_squared_error(y_test, y_pred)\n",
    "    \n",
    "    # Root Mean Squared Error (RMSE)\n",
    "    RMSE = mean_squared_error(y_test, y_pred, squared=False)\n",
    "    \n",
    "    # R-squared (R2)\n",
    "    R2 = r2_score(y_test, y_pred)\n",
    "    \n",
    "    # Mean Absolute Percentage Error (MAPE)\n",
    "    MAPE = 100 * np.mean(np.abs((y_test - y_pred) / y_test))\n",
    "    \n",
    "    \n",
    "\n",
    "\n",
    "\n",
    "    print(f':\\n\\tMean Absolute Error (MAE) = {MAE}\\n\\tMean Squared Error (MSE) = {MSE}\\n\\tRoot Mean Squared Error (RMSE)= {RMSE}\\n\\tR-squared (R2) = {R2}\\n\\tMean Absolute Percentage Error (MAPE) = {MAPE}')\n",
    "    \n"
   ]
  },
  {
   "cell_type": "markdown",
   "id": "064c31c2-7999-4b21-8414-ab35b5efd757",
   "metadata": {},
   "source": [
    "# <font color=\"gree\">Best Fit Line</font>"
   ]
  },
  {
   "cell_type": "code",
   "execution_count": null,
   "id": "28032e23-0a62-45c9-a990-f06bde11b35b",
   "metadata": {},
   "outputs": [],
   "source": []
  },
  {
   "cell_type": "code",
   "execution_count": 225,
   "id": "ad6574e0-dc6d-4852-81a3-2684f0e8d4b8",
   "metadata": {},
   "outputs": [],
   "source": [
    "# calculates various regression evaluation metrics, including Mean Absolute Error (MAE), Mean Squared Error (MSE),\n",
    "# Root Mean Squared Error (RMSE), R-squared (R2), and Mean Absolute Percentage Error (MAPE), and prints their values.\n",
    "\n",
    "\n",
    "\n",
    "\n",
    "import numpy as np\n",
    "import matplotlib.pyplot as plt\n",
    "from sklearn.metrics import r2_score\n",
    "\n",
    "def plot_best_fit_line(y_test, y_predicted):\n",
    "   \n",
    "    # Calculate the R-squared value\n",
    "    r2 = r2_score(y_test, y_pred)\n",
    "    \n",
    "    # Plot true vs. predicted values\n",
    "    plt.scatter(y_test, y_pred, color='blue', label='True vs. Predicted')\n",
    "    \n",
    "    # Plot the best-fit line\n",
    "    min_val = min(min(y_test), min(y_pred))\n",
    "    max_val = max(max(y_test), max(y_pred))\n",
    "    plt.plot([min_val, max_val], [min_val, max_val], color='red', linestyle='-', linewidth=2, label='Best Fit Line')\n",
    "    \n",
    "    plt.xlabel('True Values')\n",
    "    plt.ylabel('Predicted Values')\n",
    "    plt.title(f'Best Fit Line (R-squared = {r2:.2f})')\n",
    "    plt.legend()\n",
    "    plt.grid(True)\n",
    "    plt.show()\n",
    "\n",
    "\n",
    "\n",
    "\n"
   ]
  },
  {
   "cell_type": "markdown",
   "id": "750dec83-121f-464e-beac-cd2510f4fb38",
   "metadata": {},
   "source": [
    "# <font color=\"red\">LinearRegression Algorithm</font>"
   ]
  },
  {
   "cell_type": "code",
   "execution_count": 226,
   "id": "fa7daa53-7baf-4f4f-ae56-7e06808fde8b",
   "metadata": {},
   "outputs": [
    {
     "name": "stdout",
     "output_type": "stream",
     "text": [
      "LinearRegression() --> 0.6849471710519697\n"
     ]
    }
   ],
   "source": [
    "# Model\n",
    "from sklearn.linear_model import LinearRegression\n",
    "lr = LinearRegression()\n",
    "model_acc(lr)"
   ]
  },
  {
   "cell_type": "code",
   "execution_count": 227,
   "id": "8cd6a919-60e9-4510-bda2-52726b111c0a",
   "metadata": {},
   "outputs": [
    {
     "name": "stdout",
     "output_type": "stream",
     "text": [
      ":\n",
      "\tMean Absolute Error (MAE) = 134.67131524688213\n",
      "\tMean Squared Error (MSE) = 28790.74948693\n",
      "\tRoot Mean Squared Error (RMSE)= 169.67837071038252\n",
      "\tR-squared (R2) = 0.6849471710519697\n",
      "\tMean Absolute Percentage Error (MAPE) = 37.770619290620324\n"
     ]
    },
    {
     "data": {
      "image/png": "[encoded data removed]",
      "text/plain": [
       "<Figure size 640x480 with 1 Axes>"
      ]
     },
     "metadata": {},
     "output_type": "display_data"
    },
    {
     "data": {
      "text/plain": [
       "array([  99.67919   ,   56.79360064, -102.79377838,  -20.15749877,\n",
       "        -12.06195243])"
      ]
     },
     "execution_count": 227,
     "metadata": {},
     "output_type": "execute_result"
    }
   ],
   "source": [
    "\n",
    "y_pred=lr.predict(x_test)\n",
    "regression_metrics(y_test, y_pred)\n",
    "\n",
    "plot_best_fit_line(y_test, y_pred)\n",
    "\n",
    "#cofficient value(m values)\n",
    "xy=lr.coef_\n",
    "xy\n",
    "\n",
    "\n"
   ]
  },
  {
   "cell_type": "code",
   "execution_count": 228,
   "id": "fc745ea8-2482-4889-abc8-b2374b6dddde",
   "metadata": {},
   "outputs": [
    {
     "data": {
      "text/plain": [
       "356.0393049388099"
      ]
     },
     "execution_count": 228,
     "metadata": {},
     "output_type": "execute_result"
    }
   ],
   "source": [
    "# intercept value(Q0)\n",
    "z=lr.intercept_\n",
    "z"
   ]
  },
  {
   "cell_type": "markdown",
   "id": "71411123-8b57-4578-85fe-68ef9f988b5c",
   "metadata": {},
   "source": [
    "# <font color=\"red\">Lasso  Algorithm</font>"
   ]
  },
  {
   "cell_type": "code",
   "execution_count": 229,
   "id": "3c298b97-cecd-4e01-aad8-a82165d28d94",
   "metadata": {},
   "outputs": [
    {
     "name": "stdout",
     "output_type": "stream",
     "text": [
      "Lasso() --> 0.6840162045795657\n"
     ]
    }
   ],
   "source": [
    "from sklearn.linear_model import Lasso\n",
    "lasso = Lasso()\n",
    "model_acc(lasso)"
   ]
  },
  {
   "cell_type": "code",
   "execution_count": 230,
   "id": "86db160b-510e-4a4a-acc2-41b9c2944e47",
   "metadata": {},
   "outputs": [
    {
     "name": "stdout",
     "output_type": "stream",
     "text": [
      ":\n",
      "\tMean Absolute Error (MAE) = 134.6112884221566\n",
      "\tMean Squared Error (MSE) = 28875.824814065472\n",
      "\tRoot Mean Squared Error (RMSE)= 169.9288816360111\n",
      "\tR-squared (R2) = 0.6840162045795657\n",
      "\tMean Absolute Percentage Error (MAPE) = 37.65939661175258\n"
     ]
    },
    {
     "data": {
      "image/png": "[encoded data removed]",
      "text/plain": [
       "<Figure size 640x480 with 1 Axes>"
      ]
     },
     "metadata": {},
     "output_type": "display_data"
    }
   ],
   "source": [
    "# lasso algorithm using\n",
    "y_pred=lasso.predict(x_test)\n",
    "regression_metrics(y_test, y_pred)\n",
    "plot_best_fit_line(y_test, y_pred)"
   ]
  },
  {
   "cell_type": "markdown",
   "id": "09fb9a9a-f07e-4b7d-bbb9-6a4553b6a156",
   "metadata": {},
   "source": [
    "# <font color=\"red\">DecisionTreeRegressor Algorithm</font>"
   ]
  },
  {
   "cell_type": "code",
   "execution_count": 231,
   "id": "0f0b92b4-05b2-4cb6-b502-a6f41118c4ce",
   "metadata": {},
   "outputs": [
    {
     "name": "stdout",
     "output_type": "stream",
     "text": [
      "DecisionTreeRegressor() --> 0.6699230030312484\n"
     ]
    }
   ],
   "source": [
    "from sklearn.tree import DecisionTreeRegressor\n",
    "dt = DecisionTreeRegressor()\n",
    "model_acc(dt)"
   ]
  },
  {
   "cell_type": "code",
   "execution_count": 232,
   "id": "f2361f9c-ae9f-4841-b2d3-3a9f8644371f",
   "metadata": {},
   "outputs": [
    {
     "name": "stdout",
     "output_type": "stream",
     "text": [
      ":\n",
      "\tMean Absolute Error (MAE) = 87.0030487804878\n",
      "\tMean Squared Error (MSE) = 30163.716234057607\n",
      "\tRoot Mean Squared Error (RMSE)= 173.67704578918196\n",
      "\tR-squared (R2) = 0.6699230030312484\n",
      "\tMean Absolute Percentage Error (MAPE) = 19.57572810671025\n"
     ]
    },
    {
     "data": {
      "image/png": "[encoded data removed]",
      "text/plain": [
       "<Figure size 640x480 with 1 Axes>"
      ]
     },
     "metadata": {},
     "output_type": "display_data"
    }
   ],
   "source": [
    "# Decision TreeRegresso  algorithm using\n",
    "y_pred=dt.predict(x_test)\n",
    "regression_metrics(y_test, y_pred)\n",
    "plot_best_fit_line(y_test, y_pred)"
   ]
  },
  {
   "cell_type": "markdown",
   "id": "bce1c638-0074-4da9-8d41-2397aeefb0cd",
   "metadata": {},
   "source": [
    "# <font color=\"red\">RandomForestRegressor Algorithm</font>"
   ]
  },
  {
   "cell_type": "code",
   "execution_count": 233,
   "id": "830d0cac-55ca-46c3-92b2-c92e4a02d763",
   "metadata": {},
   "outputs": [
    {
     "name": "stdout",
     "output_type": "stream",
     "text": [
      "RandomForestRegressor() --> 0.8210879780013018\n"
     ]
    }
   ],
   "source": [
    "from sklearn.ensemble import RandomForestRegressor\n",
    "rf = RandomForestRegressor()\n",
    "model_acc(rf)"
   ]
  },
  {
   "cell_type": "code",
   "execution_count": 234,
   "id": "9169d445-b5fb-4cbb-802c-f302a15431ae",
   "metadata": {},
   "outputs": [
    {
     "name": "stdout",
     "output_type": "stream",
     "text": [
      ":\n",
      "\tMean Absolute Error (MAE) = 73.83049823098237\n",
      "\tMean Squared Error (MSE) = 16349.674506221665\n",
      "\tRoot Mean Squared Error (RMSE)= 127.8658457377171\n",
      "\tR-squared (R2) = 0.8210879780013018\n",
      "\tMean Absolute Percentage Error (MAPE) = 16.683650594479467\n"
     ]
    },
    {
     "data": {
      "image/png": "[encoded data removed]",
      "text/plain": [
       "<Figure size 640x480 with 1 Axes>"
      ]
     },
     "metadata": {},
     "output_type": "display_data"
    }
   ],
   "source": [
    "# RandomForestRegressor using\n",
    "y_pred=rf.predict(x_test)\n",
    "regression_metrics(y_test, y_pred)\n",
    "plot_best_fit_line(y_test, y_pred)"
   ]
  },
  {
   "cell_type": "code",
   "execution_count": 235,
   "id": "61109606-4ad1-4fc2-b8d0-360b9df0814e",
   "metadata": {},
   "outputs": [],
   "source": [
    "## RandomForestRegressor using y_test value predict"
   ]
  },
  {
   "cell_type": "code",
   "execution_count": 236,
   "id": "63ebd150-2f22-463e-bb77-db411a95f789",
   "metadata": {},
   "outputs": [
    {
     "name": "stdout",
     "output_type": "stream",
     "text": [
      "Combined DataFrame:\n"
     ]
    },
    {
     "data": {
      "text/html": [
       "<div>\n",
       "<style scoped>\n",
       "    .dataframe tbody tr th:only-of-type {\n",
       "        vertical-align: middle;\n",
       "    }\n",
       "\n",
       "    .dataframe tbody tr th {\n",
       "        vertical-align: top;\n",
       "    }\n",
       "\n",
       "    .dataframe thead th {\n",
       "        text-align: right;\n",
       "    }\n",
       "</style>\n",
       "<table border=\"1\" class=\"dataframe\">\n",
       "  <thead>\n",
       "    <tr style=\"text-align: right;\">\n",
       "      <th></th>\n",
       "      <th>Price ($)</th>\n",
       "      <th>Predicteed price</th>\n",
       "    </tr>\n",
       "  </thead>\n",
       "  <tbody>\n",
       "    <tr>\n",
       "      <th>0</th>\n",
       "      <td>169</td>\n",
       "      <td>165.093961</td>\n",
       "    </tr>\n",
       "    <tr>\n",
       "      <th>1</th>\n",
       "      <td>139</td>\n",
       "      <td>164.288131</td>\n",
       "    </tr>\n",
       "    <tr>\n",
       "      <th>2</th>\n",
       "      <td>349</td>\n",
       "      <td>362.008516</td>\n",
       "    </tr>\n",
       "    <tr>\n",
       "      <th>3</th>\n",
       "      <td>259</td>\n",
       "      <td>273.514015</td>\n",
       "    </tr>\n",
       "    <tr>\n",
       "      <th>4</th>\n",
       "      <td>189</td>\n",
       "      <td>169.768571</td>\n",
       "    </tr>\n",
       "    <tr>\n",
       "      <th>...</th>\n",
       "      <td>...</td>\n",
       "      <td>...</td>\n",
       "    </tr>\n",
       "    <tr>\n",
       "      <th>77</th>\n",
       "      <td>399</td>\n",
       "      <td>305.415000</td>\n",
       "    </tr>\n",
       "    <tr>\n",
       "      <th>78</th>\n",
       "      <td>449</td>\n",
       "      <td>559.364613</td>\n",
       "    </tr>\n",
       "    <tr>\n",
       "      <th>79</th>\n",
       "      <td>399</td>\n",
       "      <td>609.897070</td>\n",
       "    </tr>\n",
       "    <tr>\n",
       "      <th>80</th>\n",
       "      <td>999</td>\n",
       "      <td>1033.956205</td>\n",
       "    </tr>\n",
       "    <tr>\n",
       "      <th>81</th>\n",
       "      <td>399</td>\n",
       "      <td>428.694323</td>\n",
       "    </tr>\n",
       "  </tbody>\n",
       "</table>\n",
       "<p>82 rows × 2 columns</p>\n",
       "</div>"
      ],
      "text/plain": [
       "    Price ($)  Predicteed price\n",
       "0         169        165.093961\n",
       "1         139        164.288131\n",
       "2         349        362.008516\n",
       "3         259        273.514015\n",
       "4         189        169.768571\n",
       "..        ...               ...\n",
       "77        399        305.415000\n",
       "78        449        559.364613\n",
       "79        399        609.897070\n",
       "80        999       1033.956205\n",
       "81        399        428.694323\n",
       "\n",
       "[82 rows x 2 columns]"
      ]
     },
     "metadata": {},
     "output_type": "display_data"
    }
   ],
   "source": [
    "y_predit=rf.predict(x_test)\n",
    "y_pred_df=pd.DataFrame(y_predit,columns=[\"Predicteed price\"])\n",
    "result = pd.concat([y_test.reset_index(drop=True),y_pred_df],axis=1)\n",
    "\n",
    "# Display The combined DataFrame\n",
    "print(\"Combined DataFrame:\")\n",
    "display(result)"
   ]
  },
  {
   "cell_type": "code",
   "execution_count": null,
   "id": "7de4ee32-5dda-4e63-8730-923fd334e7eb",
   "metadata": {},
   "outputs": [],
   "source": []
  },
  {
   "cell_type": "markdown",
   "id": "af5ec92a-a9aa-4918-9a82-84c241c91152",
   "metadata": {},
   "source": [
    "# <font color=\"blue\"> Hyperparameter tunning </font>\n",
    "### Find Best Model"
   ]
  },
  {
   "cell_type": "code",
   "execution_count": 237,
   "id": "6232ace3-17a8-4486-98f1-b7a3f571f0b3",
   "metadata": {},
   "outputs": [],
   "source": [
    "# using Randomforsement model find best fit model"
   ]
  },
  {
   "cell_type": "code",
   "execution_count": 238,
   "id": "7290a684-960c-4bb8-be78-6068991f3153",
   "metadata": {},
   "outputs": [],
   "source": [
    "# This code performs hyperparameter tuning using GridSearchCV to find the best combination of parameters\n",
    "\n",
    "from sklearn.model_selection import GridSearchCV\n",
    "\n",
    "parameters = {'n_estimators':[10, 50, 120],\n",
    "              'criterion':['squared_error','absolute_error','poisson']}\n",
    "\n",
    "grid_obj = GridSearchCV(estimator=rf, param_grid=parameters)\n",
    "\n",
    "grid_fit = grid_obj.fit(x_train, y_train)\n",
    "\n",
    "best_model = grid_fit.best_estimator_\n",
    "\n"
   ]
  },
  {
   "cell_type": "code",
   "execution_count": 239,
   "id": "9bfde551-16ba-4628-a25b-9aa129d8d846",
   "metadata": {},
   "outputs": [],
   "source": [
    "# using Descisiontree regressor model find best model"
   ]
  },
  {
   "cell_type": "code",
   "execution_count": 240,
   "id": "99205f9a-9097-4987-9311-84d8abfb082c",
   "metadata": {},
   "outputs": [],
   "source": [
    "from sklearn.tree import DecisionTreeRegressor\n",
    "from sklearn.model_selection import GridSearchCV\n",
    "\n",
    "\n",
    "# Define the parameter grid\n",
    "parameters = {\n",
    "    'max_depth': [None, 5, 10, 15],\n",
    "    'min_samples_split': [2, 5, 10],\n",
    "    'min_samples_leaf': [1, 2, 4]\n",
    "}\n",
    "\n",
    "# Perform hyperparameter tuning using GridSearchCV\n",
    "grid_obj = GridSearchCV(estimator=dt, param_grid=parameters)\n",
    "grid_fit = grid_obj.fit(x_train, y_train)\n",
    "dt_best_model = grid_fit.best_estimator_\n"
   ]
  },
  {
   "cell_type": "code",
   "execution_count": 241,
   "id": "c9f8333d-6055-4b20-8554-c60fa21142e7",
   "metadata": {},
   "outputs": [],
   "source": [
    "#Linear  Model find best model"
   ]
  },
  {
   "cell_type": "code",
   "execution_count": null,
   "id": "e50fecee-8224-4716-b487-87d9e90c4925",
   "metadata": {},
   "outputs": [],
   "source": []
  },
  {
   "cell_type": "code",
   "execution_count": 242,
   "id": "2d18e37f-31d5-4867-a3b0-e7f9773161ef",
   "metadata": {},
   "outputs": [
    {
     "data": {
      "text/plain": [
       "0.6849471710519697"
      ]
     },
     "execution_count": 242,
     "metadata": {},
     "output_type": "execute_result"
    }
   ],
   "source": [
    "from sklearn.linear_model import LinearRegression\n",
    "from sklearn.model_selection import cross_val_score\n",
    "\n",
    "\n",
    "# Perform cross-validation to find the best model\n",
    "scores = cross_val_score(lr, x_train, y_train, cv=5)  # You can adjust the number of folds in cv\n",
    "average_score = scores.mean()\n",
    "\n",
    "# Fit the model on the entire training set (this step is not necessary for LinearRegression)\n",
    "lr.fit(x_train, y_train)\n",
    "\n",
    "# Since LinearRegression doesn't have hyperparameters to tune, you can directly use lr for predictions.\n",
    "lr.score(x_test, y_test)"
   ]
  },
  {
   "cell_type": "code",
   "execution_count": 243,
   "id": "4d078525-de32-4229-add1-484a89341215",
   "metadata": {},
   "outputs": [],
   "source": [
    "# lasso model"
   ]
  },
  {
   "cell_type": "code",
   "execution_count": 244,
   "id": "cc15fdaa-5f0e-4e76-9422-45bae6a79eda",
   "metadata": {},
   "outputs": [],
   "source": [
    "from sklearn.linear_model import Lasso\n",
    "from sklearn.model_selection import GridSearchCV\n",
    "\n",
    "\n",
    "# Define the parameter grid\n",
    "parameters = {\n",
    "    'alpha': [0.1, 1.0, 10.0]\n",
    "}\n",
    "\n",
    "# Perform hyperparameter tuning using GridSearchCV\n",
    "grid_obj = GridSearchCV(estimator=lasso, param_grid=parameters)\n",
    "grid_fit = grid_obj.fit(x_train, y_train)\n",
    "lasso_best_model = grid_fit.best_estimator_\n"
   ]
  },
  {
   "cell_type": "code",
   "execution_count": 245,
   "id": "3f928f1d-7854-4236-8048-182d8186ae08",
   "metadata": {},
   "outputs": [
    {
     "data": {
      "text/plain": [
       "0.8361021685705484"
      ]
     },
     "execution_count": 245,
     "metadata": {},
     "output_type": "execute_result"
    }
   ],
   "source": [
    "# After Hyperparameter tunning model(Randomforcement model) accuracy is increase\n",
    "best_model.score(x_test, y_test)\n"
   ]
  },
  {
   "cell_type": "code",
   "execution_count": 246,
   "id": "02f79bd2-c681-4eb9-be45-8c419d9c9b96",
   "metadata": {},
   "outputs": [
    {
     "data": {
      "text/plain": [
       "0.7894155670749767"
      ]
     },
     "execution_count": 246,
     "metadata": {},
     "output_type": "execute_result"
    }
   ],
   "source": [
    "dt_best_model.score(x_test, y_test)"
   ]
  },
  {
   "cell_type": "code",
   "execution_count": 250,
   "id": "7f66b014-b920-4158-87a1-f824e9f453a1",
   "metadata": {},
   "outputs": [
    {
     "data": {
      "text/plain": [
       "0.6848588582997321"
      ]
     },
     "execution_count": 250,
     "metadata": {},
     "output_type": "execute_result"
    }
   ],
   "source": [
    "lasso_best_model.score(x_test, y_test)"
   ]
  },
  {
   "cell_type": "markdown",
   "id": "64f829c0-18eb-42a6-bf6c-d0e0cf0c8826",
   "metadata": {},
   "source": [
    "### After Hyperparameter tunning"
   ]
  },
  {
   "cell_type": "code",
   "execution_count": null,
   "id": "1627a405-59aa-400b-9f50-63554cc4ea9d",
   "metadata": {},
   "outputs": [],
   "source": [
    "# Best model is Randomforcement model"
   ]
  },
  {
   "cell_type": "code",
   "execution_count": 247,
   "id": "f1b427f3-2180-41d3-8782-f265a9bedbfd",
   "metadata": {},
   "outputs": [
    {
     "name": "stderr",
     "output_type": "stream",
     "text": [
      "C:\\Users\\niman\\Desktop\\Mobile_Price_Predictor\\env\\lib\\site-packages\\sklearn\\base.py:465: UserWarning: X does not have valid feature names, but RandomForestRegressor was fitted with feature names\n",
      "  warnings.warn(\n"
     ]
    },
    {
     "data": {
      "text/plain": [
       "array([176.09619709])"
      ]
     },
     "execution_count": 247,
     "metadata": {},
     "output_type": "execute_result"
    }
   ],
   "source": [
    "predit_value=best_model.predict([[2,4,4,7,8]])\n",
    "predit_value"
   ]
  },
  {
   "cell_type": "code",
   "execution_count": 248,
   "id": "bb6fd6ea-c700-41f9-8234-afbecce7c8e8",
   "metadata": {},
   "outputs": [
    {
     "name": "stderr",
     "output_type": "stream",
     "text": [
      "C:\\Users\\niman\\Desktop\\Mobile_Price_Predictor\\env\\lib\\site-packages\\sklearn\\base.py:465: UserWarning: X does not have valid feature names, but RandomForestRegressor was fitted with feature names\n",
      "  warnings.warn(\n"
     ]
    },
    {
     "data": {
      "text/plain": [
       "array([844.72757937])"
      ]
     },
     "execution_count": 248,
     "metadata": {},
     "output_type": "execute_result"
    }
   ],
   "source": [
    "predit_value=best_model.predict([[3,5,4,7,8]])\n",
    "predit_value"
   ]
  },
  {
   "cell_type": "markdown",
   "id": "1dfc665f-d5f4-47f7-9c11-56ec1c89f5b2",
   "metadata": {},
   "source": [
    "# <font color=\"blue\"> Save model </font>"
   ]
  },
  {
   "cell_type": "code",
   "execution_count": null,
   "id": "ee4d03a3-3b49-44d3-bf06-ac570b715d6e",
   "metadata": {},
   "outputs": [],
   "source": []
  },
  {
   "cell_type": "code",
   "execution_count": 249,
   "id": "f0ab6d8d-ef3a-43ff-ba8e-25d7878e8767",
   "metadata": {},
   "outputs": [],
   "source": [
    "import pickle\n",
    "with open('predictor1.pickle1', 'wb') as file:\n",
    "pickle.dump(best_model, file)"
   ]
  },
  {
   "cell_type": "code",
   "execution_count": null,
   "id": "c6a4c9bc-eb7c-44e2-be6c-4e394a105172",
   "metadata": {},
   "outputs": [],
   "source": []
  },
  {
   "cell_type": "code",
   "execution_count": null,
   "id": "2fcb43d4-47c9-41bd-8553-644c5ff2da90",
   "metadata": {},
   "outputs": [],
   "source": [
    "\n"
   ]
  },
  {
   "cell_type": "code",
   "execution_count": null,
   "id": "2b086391-1f27-4082-b0ad-9d5b3db1beb0",
   "metadata": {},
   "outputs": [],
   "source": [
    "\n"
   ]
  },
  {
   "cell_type": "code",
   "execution_count": null,
   "id": "984c49f9-bfc3-4d06-9f08-b9aab7f50513",
   "metadata": {},
   "outputs": [],
   "source": []
  },
  {
   "cell_type": "code",
   "execution_count": null,
   "id": "1d43a57e-bb2c-452c-8fdf-15328e26e12a",
   "metadata": {},
   "outputs": [],
   "source": []
  },
  {
   "cell_type": "code",
   "execution_count": null,
   "id": "06ad5a3a-8eb4-4e76-9028-944cafd70273",
   "metadata": {},
   "outputs": [],
   "source": []
  },
  {
   "cell_type": "code",
   "execution_count": null,
   "id": "d1565bf2-f96c-40ea-9f9e-b05911a6fa69",
   "metadata": {},
   "outputs": [],
   "source": []
  }
 ],
 "metadata": {
  "kernelspec": {
   "display_name": "Python 3 (ipykernel)",
   "language": "python",
   "name": "python3"
  },
  "language_info": {
   "codemirror_mode": {
    "name": "ipython",
    "version": 3
   },
   "file_extension": ".py",
   "mimetype": "text/x-python",
   "name": "python",
   "nbconvert_exporter": "python",
   "pygments_lexer": "ipython3",
   "version": "3.8.2"
  }
 },
 "nbformat": 4,
 "nbformat_minor": 5
}
